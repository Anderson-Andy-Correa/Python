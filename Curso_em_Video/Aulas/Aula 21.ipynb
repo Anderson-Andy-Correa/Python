{
 "cells": [
  {
   "cell_type": "code",
   "execution_count": 2,
   "id": "bcc588e6",
   "metadata": {},
   "outputs": [
    {
     "name": "stdout",
     "output_type": "stream",
     "text": [
      "Digite um número: 5\n",
      "O fatorial de 5 é igual a 120\n"
     ]
    }
   ],
   "source": [
    "def fatorial(num=1):\n",
    "    f = 1\n",
    "    for c in range(num, 0 ,-1):\n",
    "        f *= c\n",
    "    return f\n",
    "        \n",
    "n = int(input('Digite um número: '))\n",
    "print(f'O fatorial de {n} é igual a {fatorial(n)}')"
   ]
  },
  {
   "cell_type": "code",
   "execution_count": null,
   "id": "b660ceea",
   "metadata": {},
   "outputs": [],
   "source": []
  }
 ],
 "metadata": {
  "kernelspec": {
   "display_name": "Python 3 (ipykernel)",
   "language": "python",
   "name": "python3"
  },
  "language_info": {
   "codemirror_mode": {
    "name": "ipython",
    "version": 3
   },
   "file_extension": ".py",
   "mimetype": "text/x-python",
   "name": "python",
   "nbconvert_exporter": "python",
   "pygments_lexer": "ipython3",
   "version": "3.9.7"
  }
 },
 "nbformat": 4,
 "nbformat_minor": 5
}
