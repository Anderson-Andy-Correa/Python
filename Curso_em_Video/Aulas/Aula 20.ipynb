{
 "cells": [
  {
   "cell_type": "code",
   "execution_count": 15,
   "id": "13157dce",
   "metadata": {},
   "outputs": [
    {
     "name": "stdout",
     "output_type": "stream",
     "text": [
      "Somando os valores (5, 2) temos 7.\n",
      "Somando os valores (2, 9, 4) temos 15.\n"
     ]
    }
   ],
   "source": [
    "\"\"\"def soma(a, b):\n",
    "    print(f'A = {a} e B = {b}')\n",
    "    s = a + b\n",
    "    print(f'A soma A + B = {s}')\n",
    "\n",
    "\n",
    "# programa principal\n",
    "soma(b=4, a=5)\n",
    "soma('Uni', 'ão')\"\"\"\n",
    "\n",
    "\"\"\"def contador(*num):\n",
    "#    for v in num:\n",
    "#        print(v, end=' ')\n",
    "#    print('FIM!')\n",
    "    tam = len(num)\n",
    "    print(f'Recebi os valores', end=' ')\n",
    "    for v in num:\n",
    "        print(v, end=' ')\n",
    "    print(f'e são ao todos {tam} números.')\n",
    "    \n",
    "    \n",
    "contador(2, 1, 7)\n",
    "contador(8, 0)\n",
    "contador(4, 4, 7, 6, 2)\"\"\"\n",
    "\n",
    "\"\"\"def dobra(lst):\n",
    "    pos = 0\n",
    "    while pos < len(lst):\n",
    "        lst[pos] *= 2\n",
    "        pos +=1\n",
    "\n",
    "\n",
    "valores = [6, 3, 9, 1, 0, 2]\n",
    "dobra(valores)\n",
    "print(valores)\"\"\"\n",
    "\n",
    "def soma(* valores):\n",
    "    s = 0\n",
    "    for num in valores:\n",
    "        s += num\n",
    "    print(f'Somando os valores {valores} temos {s}.')\n",
    "    \n",
    "    \n",
    "soma(5, 2)\n",
    "soma(2, 9, 4)"
   ]
  },
  {
   "cell_type": "code",
   "execution_count": null,
   "id": "bffb3155",
   "metadata": {},
   "outputs": [],
   "source": []
  }
 ],
 "metadata": {
  "kernelspec": {
   "display_name": "Python 3 (ipykernel)",
   "language": "python",
   "name": "python3"
  },
  "language_info": {
   "codemirror_mode": {
    "name": "ipython",
    "version": 3
   },
   "file_extension": ".py",
   "mimetype": "text/x-python",
   "name": "python",
   "nbconvert_exporter": "python",
   "pygments_lexer": "ipython3",
   "version": "3.9.7"
  }
 },
 "nbformat": 4,
 "nbformat_minor": 5
}
