{
 "cells": [
  {
   "cell_type": "code",
   "execution_count": 2,
   "id": "d6b83349",
   "metadata": {},
   "outputs": [
    {
     "name": "stdout",
     "output_type": "stream",
     "text": [
      "N1 fora vale 2.\n",
      "N1 dentro vale4.\n",
      "N1 fora agora vale 4.\n"
     ]
    }
   ],
   "source": [
    "def funcao():\n",
    "    global n1\n",
    "    n1 = 4\n",
    "    print(f'N1 dentro vale {n1}.')\n",
    "\n",
    "n1 = 2\n",
    "print(f'N1 fora vale {n1}.')    \n",
    "\n",
    "funcao()\n",
    "print(f'N1 fora agora vale {n1}.')"
   ]
  },
  {
   "cell_type": "code",
   "execution_count": 5,
   "id": "9bd05f21",
   "metadata": {},
   "outputs": [
    {
     "name": "stdout",
     "output_type": "stream",
     "text": [
      "Os resultados foram 10, 4 e 6\n"
     ]
    }
   ],
   "source": [
    "def somar(a=0, b=0, c=0):\n",
    "    s = a + b + c\n",
    "    return s\n",
    "\n",
    "r1 = somar(3, 2, 5)\n",
    "r2 = somar(2, 2)\n",
    "r3 = somar(6)\n",
    "\n",
    "print(f'Os resultados foram {r1}, {r2} e {r3}.')"
   ]
  },
  {
   "cell_type": "code",
   "execution_count": 12,
   "id": "404b3528",
   "metadata": {},
   "outputs": [
    {
     "name": "stdout",
     "output_type": "stream",
     "text": [
      "Digite um número: 2\n",
      "O fatorial de 2 é igual a 2.\n"
     ]
    }
   ],
   "source": [
    "def fatorial(n=1):\n",
    "    f = 1\n",
    "    for c in range(n, 0, -1):\n",
    "        f *= c\n",
    "    return f\n",
    "\n",
    "n = int(input('Digite um número: '))\n",
    "print(f'O fatorial de {n} é igual a {fatorial(n)}.')"
   ]
  },
  {
   "cell_type": "code",
   "execution_count": 13,
   "id": "514b9073",
   "metadata": {},
   "outputs": [
    {
     "name": "stdout",
     "output_type": "stream",
     "text": [
      "Os resultados é 120, 24 e 1.\n"
     ]
    }
   ],
   "source": [
    "def fatorial(n=1):\n",
    "    f = 1\n",
    "    for c in range(n, 0, -1):\n",
    "        f *= c\n",
    "    return f\n",
    "\n",
    "f1 = fatorial(5)\n",
    "f2 = fatorial(4)\n",
    "f3 = fatorial()\n",
    "\n",
    "print(f'Os resultados é {f1}, {f2} e {f3}.')"
   ]
  },
  {
   "cell_type": "code",
   "execution_count": 18,
   "id": "db216c4f",
   "metadata": {},
   "outputs": [
    {
     "name": "stdout",
     "output_type": "stream",
     "text": [
      "Digite um número: 8\n",
      "É par.\n"
     ]
    }
   ],
   "source": [
    "def par(num=0):\n",
    "    if num % 2 == 0:\n",
    "        return True\n",
    "    else:\n",
    "        return False\n",
    "\n",
    "num = int(input('Digite um número: '))\n",
    "if par(num):\n",
    "    print('É par.')\n",
    "else:\n",
    "    print('É impar.')"
   ]
  },
  {
   "cell_type": "code",
   "execution_count": null,
   "id": "7ea54039",
   "metadata": {},
   "outputs": [],
   "source": []
  },
  {
   "cell_type": "code",
   "execution_count": null,
   "id": "d3afd9e1",
   "metadata": {},
   "outputs": [],
   "source": []
  }
 ],
 "metadata": {
  "kernelspec": {
   "display_name": "Python 3 (ipykernel)",
   "language": "python",
   "name": "python3"
  },
  "language_info": {
   "codemirror_mode": {
    "name": "ipython",
    "version": 3
   },
   "file_extension": ".py",
   "mimetype": "text/x-python",
   "name": "python",
   "nbconvert_exporter": "python",
   "pygments_lexer": "ipython3",
   "version": "3.9.7"
  }
 },
 "nbformat": 4,
 "nbformat_minor": 5
}
