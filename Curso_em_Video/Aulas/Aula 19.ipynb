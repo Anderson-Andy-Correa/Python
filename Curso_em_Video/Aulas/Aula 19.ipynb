{
 "cells": [
  {
   "cell_type": "markdown",
   "id": "3611bf2d",
   "metadata": {},
   "source": []
  },
  {
   "cell_type": "code",
   "execution_count": 1,
   "id": "3cad8678",
   "metadata": {},
   "outputs": [
    {
     "name": "stdout",
     "output_type": "stream",
     "text": [
      "Unidade Federativa: sd\n",
      "Sigla do Estado: sdf\n",
      "Unidade Federativa: fghj\n",
      "Sigla do Estado: hjk\n",
      "Unidade Federativa: çll\n",
      "Sigla do Estado: jkl\n",
      "O campo UF tem valor sd\n",
      "O campo sigla tem valor sdf\n",
      "O campo UF tem valor fghj\n",
      "O campo sigla tem valor hjk\n",
      "O campo UF tem valor çll\n",
      "O campo sigla tem valor jkl\n"
     ]
    }
   ],
   "source": [
    "#pessoas = {'nome': 'Gustavo', 'sexo': 'M', 'idade': 22}\n",
    "#print(f'O {pessoas[\"nome\"]} tem {pessoas[\"idade\"]} anos.')\n",
    "#print(pessoas.keys())\n",
    "#print(pessoas.values())\n",
    "#print(pessoas.items())\n",
    "\n",
    "#del pessoas['sexo']\n",
    "\n",
    "#pessoas['nome'] = 'Leandro'\n",
    "#pessoas['peso'] = 98.5\n",
    "\n",
    "#for k, v in pessoas.items():\n",
    "#    print(f'{k} = {v}')\n",
    "\n",
    "\"\"\"Brasil = []\n",
    "estado1 = {'UF': 'Rio de Janeiro', 'sigla': 'RJ'}\n",
    "estado2 = {'UF': 'São Paulo', 'sigla': 'SP'}\n",
    "Brasil.append(estado1)\n",
    "Brasil.append(estado2)\n",
    "print(Brasil[0]['UF'])\"\"\"\n",
    "\n",
    "estado = dict()\n",
    "brasil = list()\n",
    "\n",
    "for c in range(0, 3):\n",
    "    estado['UF'] = input('Unidade Federativa: ')\n",
    "    estado['sigla'] = input('Sigla do Estado: ')\n",
    "    brasil.append(estado.copy())\n",
    "    \n",
    "for e in brasil:\n",
    "    for k, v in e.items():\n",
    "        print(f'O campo {k} tem valor {v}')\n"
   ]
  },
  {
   "cell_type": "code",
   "execution_count": null,
   "id": "4dac432a",
   "metadata": {},
   "outputs": [],
   "source": []
  }
 ],
 "metadata": {
  "kernelspec": {
   "display_name": "Python 3 (ipykernel)",
   "language": "python",
   "name": "python3"
  },
  "language_info": {
   "codemirror_mode": {
    "name": "ipython",
    "version": 3
   },
   "file_extension": ".py",
   "mimetype": "text/x-python",
   "name": "python",
   "nbconvert_exporter": "python",
   "pygments_lexer": "ipython3",
   "version": "3.9.7"
  }
 },
 "nbformat": 4,
 "nbformat_minor": 5
}
