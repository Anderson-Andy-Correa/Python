{
 "cells": [
  {
   "cell_type": "code",
   "execution_count": 2,
   "id": "be369703",
   "metadata": {},
   "outputs": [
    {
     "name": "stdout",
     "output_type": "stream",
     "text": [
      "Digite um número inteiro: 8\n",
      "O fatorial de 8 é 40320\n",
      "O dobro de 8 é 16\n"
     ]
    }
   ],
   "source": [
    "from uteis import numeros\n",
    "\n",
    "num = int(input(\"Digite um número inteiro: \"))\n",
    "fat = numeros.fatorial(num)\n",
    "print(f\"O fatorial de {num} é {fat}\")\n",
    "print(f\"O dobro de {num} é {numeros.dobro(num)}\")"
   ]
  }
 ],
 "metadata": {
  "kernelspec": {
   "display_name": "Python 3 (ipykernel)",
   "language": "python",
   "name": "python3"
  },
  "language_info": {
   "codemirror_mode": {
    "name": "ipython",
    "version": 3
   },
   "file_extension": ".py",
   "mimetype": "text/x-python",
   "name": "python",
   "nbconvert_exporter": "python",
   "pygments_lexer": "ipython3",
   "version": "3.9.7"
  }
 },
 "nbformat": 4,
 "nbformat_minor": 5
}
