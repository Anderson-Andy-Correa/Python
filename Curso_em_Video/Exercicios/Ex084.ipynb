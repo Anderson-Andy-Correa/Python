{
 "cells": [
  {
   "cell_type": "code",
   "execution_count": null,
   "id": "8ca4a700",
   "metadata": {},
   "outputs": [],
   "source": [
    "#\n",
    "\n",
    "lista = []\n",
    "cont = menor = maior = nomeMenor = nomeMaior = 0\n",
    "\n",
    "while True:\n",
    "    nome = input('Nome: ').strip().capitalize()\n",
    "    peso = float(input('Peso: '))\n",
    "    lista.append([nome, peso])\n",
    "    if cont == 0:\n",
    "        maior = peso\n",
    "        nomeMaior = lista[cont][0]\n",
    "        menor = peso\n",
    "        nomeMenor = lista[cont][0]\n",
    "    else:\n",
    "        if maior < peso:\n",
    "            maior = peso\n",
    "            nomeMaior = lista[cont][0]\n",
    "        elif maior == peso:\n",
    "            nomeMaior = nomeMaior + ', ' + lista[cont][0]\n",
    "        if menor > peso:\n",
    "            menor = peso\n",
    "            nomeMenor = lista[cont][0]\n",
    "        elif menor == peso:\n",
    "            nomeMenor = nomeMenor + ', ' + lista[cont][0]\n",
    "    cont += 1\n",
    "    c = input('Quer continuar? [S/N] ').strip().upper()[0]\n",
    "    while c not in 'SN':\n",
    "        c = input('Resposta inválida, tente novamente. Quer continuar? [S/N] ').strip().upper()[0]\n",
    "    if c in 'N':\n",
    "        break\n",
    "print('=-'*30)\n",
    "print(f'Ao todo, você cadastrou {cont} pessoas.')\n",
    "print(f'O maior peso foi de {maior}Kg. Peso de {nomeMaior}')\n",
    "print(f'O menor peso foi de {menor}Kg. Peso de {nomeMenor}')"
   ]
  }
 ],
 "metadata": {
  "kernelspec": {
   "display_name": "Python 3 (ipykernel)",
   "language": "python",
   "name": "python3"
  },
  "language_info": {
   "codemirror_mode": {
    "name": "ipython",
    "version": 3
   },
   "file_extension": ".py",
   "mimetype": "text/x-python",
   "name": "python",
   "nbconvert_exporter": "python",
   "pygments_lexer": "ipython3",
   "version": "3.9.7"
  }
 },
 "nbformat": 4,
 "nbformat_minor": 5
}
