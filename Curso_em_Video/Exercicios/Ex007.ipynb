{
 "cells": [
  {
   "cell_type": "code",
   "execution_count": 1,
   "id": "1f9ed127",
   "metadata": {},
   "outputs": [
    {
     "name": "stdout",
     "output_type": "stream",
     "text": [
      "Primeira nota: 5\n",
      "Segunda nota: 10\n",
      "A sua média entre as notas 5.0 e 10.0 é de 7.5\n"
     ]
    }
   ],
   "source": [
    "#Desenvolva um programa que leia as duas notas de um aluno, calcule e mostre a sua média.\n",
    "Nota1 = float(input(\"Primeira nota: \"))\n",
    "Nota2 = float(input(\"Segunda nota: \"))\n",
    "print(f\"A sua média entre as notas {Nota1} e {Nota2} é de {(Nota1 + Nota2)/2}\")"
   ]
  },
  {
   "cell_type": "code",
   "execution_count": null,
   "id": "a142328b",
   "metadata": {},
   "outputs": [],
   "source": []
  }
 ],
 "metadata": {
  "kernelspec": {
   "display_name": "Python 3 (ipykernel)",
   "language": "python",
   "name": "python3"
  },
  "language_info": {
   "codemirror_mode": {
    "name": "ipython",
    "version": 3
   },
   "file_extension": ".py",
   "mimetype": "text/x-python",
   "name": "python",
   "nbconvert_exporter": "python",
   "pygments_lexer": "ipython3",
   "version": "3.9.7"
  }
 },
 "nbformat": 4,
 "nbformat_minor": 5
}
