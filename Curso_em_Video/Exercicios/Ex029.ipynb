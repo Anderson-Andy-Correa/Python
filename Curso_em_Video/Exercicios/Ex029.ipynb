{
 "cells": [
  {
   "cell_type": "code",
   "execution_count": 6,
   "id": "2ce02ce7",
   "metadata": {},
   "outputs": [
    {
     "name": "stdout",
     "output_type": "stream",
     "text": [
      "Qual a velocidade atual do carro? 100\n",
      "\u001b[1;31mMultado! \u001b[31mVocê excedeu o limite permitido que é 80Km/h \n",
      "Você deve pagar uma multa de \u001b[1;33mR$140.00\u001b[m\n",
      "\u001b[1;32mTenha um bom dia! Dirija com segurança!\u001b[3m\n"
     ]
    }
   ],
   "source": [
    "#Escreva um programa que leia a velocidade de um carro. Se ele ultrapassar 80Km/h, mostre uma mensagem dizendo que ele foi multado. A multa vai custar R$7,00 por cada Km acima do limite.\n",
    "vel = float(input('Qual a velocidade atual do carro? '))\n",
    "if vel > 80:\n",
    "    print(f'\\033[1;31mMultado! \\033[31mVocê excedeu o limite permitido que é 80Km/h \\nVocê deve pagar uma multa de \\033[1;33mR${(vel-80)*7:.2f}\\033[m')\n",
    "print('\\033[1;32mTenha um bom dia! Dirija com segurança!\\033[3m')\n",
    "    "
   ]
  }
 ],
 "metadata": {
  "kernelspec": {
   "display_name": "Python 3 (ipykernel)",
   "language": "python",
   "name": "python3"
  },
  "language_info": {
   "codemirror_mode": {
    "name": "ipython",
    "version": 3
   },
   "file_extension": ".py",
   "mimetype": "text/x-python",
   "name": "python",
   "nbconvert_exporter": "python",
   "pygments_lexer": "ipython3",
   "version": "3.9.7"
  }
 },
 "nbformat": 4,
 "nbformat_minor": 5
}
