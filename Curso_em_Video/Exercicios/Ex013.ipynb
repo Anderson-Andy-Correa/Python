{
 "cells": [
  {
   "cell_type": "code",
   "execution_count": 4,
   "id": "abd6d987",
   "metadata": {},
   "outputs": [
    {
     "name": "stdout",
     "output_type": "stream",
     "text": [
      "Digite o valor do salário: R$100\n",
      "Qual a porcentagem do aumento? 15\n",
      "O salário de R$100.00 com o aumento de 15.0%, vai passar para 115.00. Um aumento de R$15.00.\n"
     ]
    }
   ],
   "source": [
    "#Faça um algoritmo que leia o salário de um funcionário e mostre seu novo salário, com 15% de aumento.\n",
    "SalárioAnt = float(input(\"Digite o valor do salário: R$\"))\n",
    "Aumento = float(input(\"Qual a porcentagem do aumento? \"))\n",
    "SalárioNovo = SalárioAnt * (1+(Aumento/100))\n",
    "print(f\"O salário de R${SalárioAnt:,.2f} com o aumento de {Aumento}%, vai passar para {SalárioNovo:,.2f}. Um aumento de R${SalárioNovo - SalárioAnt:,.2f}.\")"
   ]
  },
  {
   "cell_type": "code",
   "execution_count": null,
   "id": "cc74ca58",
   "metadata": {},
   "outputs": [],
   "source": []
  }
 ],
 "metadata": {
  "kernelspec": {
   "display_name": "Python 3 (ipykernel)",
   "language": "python",
   "name": "python3"
  },
  "language_info": {
   "codemirror_mode": {
    "name": "ipython",
    "version": 3
   },
   "file_extension": ".py",
   "mimetype": "text/x-python",
   "name": "python",
   "nbconvert_exporter": "python",
   "pygments_lexer": "ipython3",
   "version": "3.9.7"
  }
 },
 "nbformat": 4,
 "nbformat_minor": 5
}
