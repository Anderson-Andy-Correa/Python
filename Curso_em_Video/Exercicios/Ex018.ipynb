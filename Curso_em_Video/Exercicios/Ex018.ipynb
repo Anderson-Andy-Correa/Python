{
 "cells": [
  {
   "cell_type": "code",
   "execution_count": 11,
   "id": "642201d9",
   "metadata": {},
   "outputs": [
    {
     "name": "stdout",
     "output_type": "stream",
     "text": [
      "Digite um angulo: 60\n",
      "Sabendo que o ângulo é 60.0°:\n",
      "O seno é igual a 0.87\n",
      "O Cosseno é igual a 0.50\n",
      "E a Tangente é igual a 1.73\n"
     ]
    }
   ],
   "source": [
    "#Faça um programa que leia um ângulo qualquer e mostre na tela o valor do seno, cosseno e tangente desse ângulo.\n",
    "from math import cos, sin, tan, degrees, radians\n",
    "angulo = float(input(\"Digite um angulo: \"))\n",
    "rad = radians(angulo)\n",
    "sin = sin(rad)\n",
    "cos = cos(rad)\n",
    "tan = tan(rad)\n",
    "print(f\"\"\"Sabendo que o ângulo é {angulo}°:\n",
    "O seno é igual a {sin:.2f}\n",
    "O Cosseno é igual a {cos:.2f}\n",
    "E a Tangente é igual a {tan:.2f}\"\"\")"
   ]
  },
  {
   "cell_type": "code",
   "execution_count": null,
   "id": "09a2662e",
   "metadata": {},
   "outputs": [],
   "source": []
  }
 ],
 "metadata": {
  "kernelspec": {
   "display_name": "Python 3 (ipykernel)",
   "language": "python",
   "name": "python3"
  },
  "language_info": {
   "codemirror_mode": {
    "name": "ipython",
    "version": 3
   },
   "file_extension": ".py",
   "mimetype": "text/x-python",
   "name": "python",
   "nbconvert_exporter": "python",
   "pygments_lexer": "ipython3",
   "version": "3.9.7"
  }
 },
 "nbformat": 4,
 "nbformat_minor": 5
}
