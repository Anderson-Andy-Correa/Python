{
 "cells": [
  {
   "cell_type": "code",
   "execution_count": 23,
   "id": "da830194",
   "metadata": {},
   "outputs": [
    {
     "name": "stdout",
     "output_type": "stream",
     "text": [
      "====================\n",
      "====================\n",
      "Primeiro termo: 55\n",
      "Razão: 5\n",
      "55 -> 60 -> 65 -> 70 -> 75 -> 80 -> 85 -> 90 -> 95 -> 100 -> ACABOU!\n"
     ]
    }
   ],
   "source": [
    "#Desenvolva um programa que leia o primeiro termo e a razão de uma PA. No final, mostre os 10 primeiros termos dessa progressão.\n",
    "print('=' * 20)\n",
    "#print('10 TEMOS DE UMA PA':^50*'')\n",
    "print('=' * 20)\n",
    "begin = int(input('Primeiro termo: '))\n",
    "passo = int(input('Razão: '))\n",
    "\n",
    "for lista in range(begin, (begin + passo * 10, passo):\n",
    "    print(f'{lista} → ', end = '')\n",
    "print('ACABOU!')"
   ]
  },
  {
   "cell_type": "code",
   "execution_count": null,
   "id": "23da0729",
   "metadata": {},
   "outputs": [],
   "source": []
  }
 ],
 "metadata": {
  "kernelspec": {
   "display_name": "Python 3 (ipykernel)",
   "language": "python",
   "name": "python3"
  },
  "language_info": {
   "codemirror_mode": {
    "name": "ipython",
    "version": 3
   },
   "file_extension": ".py",
   "mimetype": "text/x-python",
   "name": "python",
   "nbconvert_exporter": "python",
   "pygments_lexer": "ipython3",
   "version": "3.9.7"
  }
 },
 "nbformat": 4,
 "nbformat_minor": 5
}
