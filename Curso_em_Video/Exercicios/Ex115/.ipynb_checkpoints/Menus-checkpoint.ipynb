{
 "cells": [
  {
   "cell_type": "code",
   "execution_count": 4,
   "id": "8ea69f81",
   "metadata": {},
   "outputs": [],
   "source": [
    "def mainMenu():\n",
    "    titulo(\"MENU PRINCIPAL\")\n",
    "    print(\"\\033[33m1 - \\033[34mVer pessoas cadastradas\\033[m\")\n",
    "    print(\"\\033[33m2 - \\033[34mCadastrar nova Pessoa\\033[m\")\n",
    "    print(\"\\033[33m3 - \\033[34mSair do Sistema\\033[m\")\n",
    "    print('-'*50)\n",
    "    resp = verificarMenu()\n",
    "    return resp\n",
    "\n",
    "\n",
    "def verificarMenu():\n",
    "    while True:\n",
    "        try:\n",
    "            resp = int(input(\"\\033[33mSua Opção: \\033[m\"))\n",
    "            if 0 < resp < 4:\n",
    "                break\n",
    "            else:\n",
    "                print(\"\\033[31mERRO! Use apensa números entre 1 a 3.\\033[m\")\n",
    "        except:\n",
    "            print(\"\\033[31mERRO! Use apensa números!\\033[m\")\n",
    "    return resp\n",
    "\n",
    "def titulo(txt):\n",
    "    print('-'*50)\n",
    "    print(\"{:^50}\".format(txt))\n",
    "    print('-'*50)"
   ]
  },
  {
   "cell_type": "code",
   "execution_count": null,
   "id": "ee9405a7",
   "metadata": {},
   "outputs": [
    {
     "name": "stdout",
     "output_type": "stream",
     "text": [
      "--------------------------------------------------\n",
      "                  MENU PRINCIPAL                  \n",
      "--------------------------------------------------\n",
      "--------------------------------------------------\n",
      "\u001b[33m1 - \u001b[34mVer pessoas cadastradas\u001b[m\n",
      "\u001b[33m2 - \u001b[34mCadastrar nova Pessoa\u001b[m\n",
      "\u001b[33m3 - \u001b[34mSair do Sistema\u001b[m\n",
      "--------------------------------------------------\n"
     ]
    }
   ],
   "source": [
    "mainMenu()"
   ]
  },
  {
   "cell_type": "code",
   "execution_count": null,
   "id": "a0a8efc7",
   "metadata": {},
   "outputs": [],
   "source": []
  }
 ],
 "metadata": {
  "kernelspec": {
   "display_name": "Python 3 (ipykernel)",
   "language": "python",
   "name": "python3"
  },
  "language_info": {
   "codemirror_mode": {
    "name": "ipython",
    "version": 3
   },
   "file_extension": ".py",
   "mimetype": "text/x-python",
   "name": "python",
   "nbconvert_exporter": "python",
   "pygments_lexer": "ipython3",
   "version": "3.9.7"
  }
 },
 "nbformat": 4,
 "nbformat_minor": 5
}
