{
 "cells": [
  {
   "cell_type": "code",
   "execution_count": 55,
   "id": "49c27c9a",
   "metadata": {},
   "outputs": [],
   "source": [
    "# Vamos ver como fazer acesso a arquivos usando o Python.\n",
    "\n",
    "from Menus import *\n",
    "\n",
    "def mostrar():\n",
    "    titulo(\"PESSOAS CADASTRADAS\")\n",
    "    try:\n",
    "        arquivo = open(\"Banco_de_Dados.txt\", \"r\")\n",
    "        linha = arquivo.readlines()\n",
    "        for i in linha:\n",
    "            nome = i.find(\";\")\n",
    "            print(f\"{i[:nome]:<40} {i[nome+2:-1]:>3} anos\")\n",
    "    except:\n",
    "        print('Não há registros, por favor, adicione um novo cadastro.')\n",
    "    finally:\n",
    "        arquivo.close()\n",
    "\n",
    "def armazenar():\n",
    "    titulo(\"NOVO CADASTRO\")\n",
    "    nome = input(\"Nome: \")\n",
    "    if nome == \"\":\n",
    "        nome == \"<desconhecido>\"\n",
    "    while True:\n",
    "        try:\n",
    "            idade = int(input(\"Idade: \"))\n",
    "        except:\n",
    "            print(\"\\033[31mIdade inválida, tente novamente colocando um número inteiro válido.\\033[m\")\n",
    "        else:\n",
    "            print(f\"Registro de {nome} adicionado.\")\n",
    "            break\n",
    "    arquivo = open(\"Banco_de_Dados.txt\", \"a\")\n",
    "    arquivo.write(f\"{nome}; {idade}\\n\")\n",
    "    arquivo.close()\n"
   ]
  },
  {
   "cell_type": "code",
   "execution_count": 56,
   "id": "341307f6",
   "metadata": {},
   "outputs": [
    {
     "name": "stdout",
     "output_type": "stream",
     "text": [
      "--------------------------------------------------\n",
      "               PESSOAS CADASTRADAS                \n",
      "--------------------------------------------------\n",
      "Alan Nogueira                             85 anos\n",
      "Beatriz Leixley                           65 anos\n",
      "Santhiago Freitas                          9 anos\n",
      "Brithgtney Yosgheter                      88 anos\n",
      "igor Freitas                              10 anos\n"
     ]
    }
   ],
   "source": [
    "mostrar()\n"
   ]
  },
  {
   "cell_type": "code",
   "execution_count": 60,
   "id": "e1219f6a",
   "metadata": {},
   "outputs": [
    {
     "name": "stdout",
     "output_type": "stream",
     "text": [
      "[1, 3, 5]\n"
     ]
    }
   ],
   "source": [
    "tupla = (1,5,3)\n",
    "print(sorted(tupla))"
   ]
  },
  {
   "cell_type": "code",
   "execution_count": null,
   "id": "49b03f6f",
   "metadata": {},
   "outputs": [],
   "source": []
  }
 ],
 "metadata": {
  "kernelspec": {
   "display_name": "Python 3 (ipykernel)",
   "language": "python",
   "name": "python3"
  },
  "language_info": {
   "codemirror_mode": {
    "name": "ipython",
    "version": 3
   },
   "file_extension": ".py",
   "mimetype": "text/x-python",
   "name": "python",
   "nbconvert_exporter": "python",
   "pygments_lexer": "ipython3",
   "version": "3.9.7"
  }
 },
 "nbformat": 4,
 "nbformat_minor": 5
}
