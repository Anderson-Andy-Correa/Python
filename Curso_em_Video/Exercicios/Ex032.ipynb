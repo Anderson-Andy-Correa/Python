{
 "cells": [
  {
   "cell_type": "code",
   "execution_count": 58,
   "id": "aff81058",
   "metadata": {},
   "outputs": [
    {
     "name": "stdout",
     "output_type": "stream",
     "text": [
      "Que ano você quer analizar? Coloque 0 para analizar o ano atual: 0\n",
      "O ano 2022 NÃO é BISSEXTO.\n"
     ]
    }
   ],
   "source": [
    "#Faça um programa que leia um ano qualquer e mostre se ele é bissexto.\n",
    "from time import strftime\n",
    "ano = int(input('Que ano você quer analizar? Coloque 0 para analizar o ano atual: '))\n",
    "if ano == 0:\n",
    "    ano = int(strftime('%Y'))\n",
    "if ano % 4 == 0:\n",
    "    if ano % 100 == 0:\n",
    "        if ano % 400 == 0:\n",
    "            print(f'O ano {ano} é BISSEXTO')\n",
    "        else:\n",
    "            print(f'O ano {ano} NÃO é BISSEXTO')\n",
    "    else:\n",
    "        print(f'O ano {ano} é BISSEXTO.')\n",
    "else:\n",
    "    print(f'O ano {ano} NÃO é BISSEXTO.')\n",
    "#ano divisível por 4?\n",
    "#ano com restante do seculo em 00?\n",
    "#ano do século divisível por 400?"
   ]
  },
  {
   "cell_type": "code",
   "execution_count": 61,
   "id": "f4ffcab1",
   "metadata": {},
   "outputs": [
    {
     "name": "stdout",
     "output_type": "stream",
     "text": [
      "Que ano quer analisar? Coloque 0 para analisar o ano atual: 0\n",
      "O ano 2022 NÃO é BISSEXTO\n"
     ]
    }
   ],
   "source": [
    "from time import strftime\n",
    "ano = int(input('Que ano quer analisar? Coloque 0 para analisar o ano atual: '))\n",
    "if ano == 0:\n",
    "    ano = int(strftime('%Y'))\n",
    "if ano % 4 == 0 and ano % 100 != 0 or ano % 400 == 0:\n",
    "    print(f'O ano {ano} é BISSEXTO')\n",
    "else:\n",
    "    print(f'O ano {ano} NÃO é BISSEXTO')"
   ]
  },
  {
   "cell_type": "code",
   "execution_count": null,
   "id": "f734c41c",
   "metadata": {},
   "outputs": [],
   "source": []
  }
 ],
 "metadata": {
  "kernelspec": {
   "display_name": "Python 3 (ipykernel)",
   "language": "python",
   "name": "python3"
  },
  "language_info": {
   "codemirror_mode": {
    "name": "ipython",
    "version": 3
   },
   "file_extension": ".py",
   "mimetype": "text/x-python",
   "name": "python",
   "nbconvert_exporter": "python",
   "pygments_lexer": "ipython3",
   "version": "3.9.7"
  }
 },
 "nbformat": 4,
 "nbformat_minor": 5
}
