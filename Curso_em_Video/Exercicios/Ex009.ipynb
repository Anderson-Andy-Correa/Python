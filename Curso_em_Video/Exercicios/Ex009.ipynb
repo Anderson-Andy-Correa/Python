{
 "cells": [
  {
   "cell_type": "code",
   "execution_count": 15,
   "id": "9db439fa",
   "metadata": {},
   "outputs": [
    {
     "name": "stdout",
     "output_type": "stream",
     "text": [
      "Digite um número inteiro: 12\n",
      "--------------\n",
      "12 x  1 = 12\n",
      "12 x  2 = 24\n",
      "12 x  3 = 36\n",
      "12 x  4 = 48\n",
      "12 x  5 = 60\n",
      "12 x  6 = 72\n",
      "12 x  7 = 84\n",
      "12 x  8 = 96\n",
      "12 x  9 = 108\n",
      "12 x 10 = 120\n",
      "--------------\n"
     ]
    }
   ],
   "source": [
    "#Faça um programa que leia um número Inteiro qualquer e mostre na tela a sua tabuada.\n",
    "n = int(input(\"Digite um número inteiro: \"))\n",
    "print(\"-\"*14)\n",
    "print(f\"\"\"{n} x {1:2} = {n*1}\n",
    "{n} x {2:2} = {n*2}\n",
    "{n} x {3:2} = {n*3}\n",
    "{n} x {4:2} = {n*4}\n",
    "{n} x {5:2} = {n*5}\n",
    "{n} x {6:2} = {n*6}\n",
    "{n} x {7:2} = {n*7}\n",
    "{n} x {8:2} = {n*8}\n",
    "{n} x {9:2} = {n*9}\n",
    "{n} x {10:2} = {n*10}\"\"\")\n",
    "print(\"-\"*14)"
   ]
  },
  {
   "cell_type": "code",
   "execution_count": null,
   "id": "3c586b7e",
   "metadata": {},
   "outputs": [],
   "source": []
  }
 ],
 "metadata": {
  "kernelspec": {
   "display_name": "Python 3 (ipykernel)",
   "language": "python",
   "name": "python3"
  },
  "language_info": {
   "codemirror_mode": {
    "name": "ipython",
    "version": 3
   },
   "file_extension": ".py",
   "mimetype": "text/x-python",
   "name": "python",
   "nbconvert_exporter": "python",
   "pygments_lexer": "ipython3",
   "version": "3.9.7"
  }
 },
 "nbformat": 4,
 "nbformat_minor": 5
}
