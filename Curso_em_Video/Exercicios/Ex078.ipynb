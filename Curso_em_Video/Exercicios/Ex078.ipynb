{
 "cells": [
  {
   "cell_type": "code",
   "execution_count": null,
   "id": "624ff13d",
   "metadata": {},
   "outputs": [],
   "source": [
    "# Faça um programa que leia 5 valores numéricos e guarde-os em uma lista.\n",
    "# No final, mostre qual foi o maior e o menor valor digitado e as suas respectivas posições na lista.\n",
    "\n",
    "lista = list()\n",
    "for valor in range(0, 5):\n",
    "    lista.append(int(input(f'Digite um valor para a Posição {valor}: ')))\n",
    "print('=-'*30)\n",
    "print(f'Você digitou os valores: ', end='')\n",
    "for pos, num in enumerate(lista):\n",
    "    print(num, end=', ') if pos < len(lista)-1 else print(num)\n",
    "print(f'O maior valor digitado foi {max(lista)} nas posições ', end='')\n",
    "for pos, valor in enumerate(lista):\n",
    "    if valor == max(lista):\n",
    "        print(f'{pos}...', end=' ')\n",
    "print(f'\\nO menor valor digitado foi {min(lista)} nas posições ', end='')\n",
    "for pos, valor in enumerate(lista):\n",
    "    if valor == min(lista):\n",
    "        print(f'{pos}...', end=' ')"
   ]
  }
 ],
 "metadata": {
  "kernelspec": {
   "display_name": "Python 3 (ipykernel)",
   "language": "python",
   "name": "python3"
  },
  "language_info": {
   "codemirror_mode": {
    "name": "ipython",
    "version": 3
   },
   "file_extension": ".py",
   "mimetype": "text/x-python",
   "name": "python",
   "nbconvert_exporter": "python",
   "pygments_lexer": "ipython3",
   "version": "3.9.7"
  }
 },
 "nbformat": 4,
 "nbformat_minor": 5
}
