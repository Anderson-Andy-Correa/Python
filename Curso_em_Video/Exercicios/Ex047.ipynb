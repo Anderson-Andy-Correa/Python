{
 "cells": [
  {
   "cell_type": "code",
   "execution_count": 18,
   "id": "07cc8e8b",
   "metadata": {},
   "outputs": [
    {
     "name": "stdout",
     "output_type": "stream",
     "text": [
      "\u001b[33m2\u001b[m \u001b[35m4\u001b[m \u001b[34m6\u001b[m \u001b[35m8\u001b[m \u001b[36m10\u001b[m \u001b[32m12\u001b[m \u001b[31m14\u001b[m \u001b[32m16\u001b[m \u001b[35m18\u001b[m \u001b[34m20\u001b[m \u001b[35m22\u001b[m \u001b[33m24\u001b[m \u001b[33m26\u001b[m \u001b[34m28\u001b[m \u001b[31m30\u001b[m \u001b[33m32\u001b[m \u001b[31m34\u001b[m \u001b[36m36\u001b[m \u001b[34m38\u001b[m \u001b[33m40\u001b[m \u001b[35m42\u001b[m \u001b[33m44\u001b[m \u001b[34m46\u001b[m \u001b[31m48\u001b[m \u001b[31m50\u001b[m \n",
      "\u001b[31mFIM\u001b[m\n"
     ]
    }
   ],
   "source": [
    "#Crie um programa que mostre na tela todos os números pares que estão no intervalo entre 1 e 50.\n",
    "from random import randint\n",
    "\"\"\"for int in range(1, 51):\n",
    "    if int % 2 == 0:\n",
    "        print(f'\\033[{randint(31,36)}m{int}\\033[m ', end = '')\n",
    "print('\\n\\033[31mFIM\\033[m')\"\"\"\n",
    "for int in range(2, 51, 2):\n",
    "    print(f'\\033[{randint(31,36)}m{int}\\033[m ', end = '')\n",
    "print('\\n\\033[31mFIM\\033[m')"
   ]
  },
  {
   "cell_type": "code",
   "execution_count": null,
   "id": "f21a74d7",
   "metadata": {},
   "outputs": [],
   "source": []
  }
 ],
 "metadata": {
  "kernelspec": {
   "display_name": "Python 3 (ipykernel)",
   "language": "python",
   "name": "python3"
  },
  "language_info": {
   "codemirror_mode": {
    "name": "ipython",
    "version": 3
   },
   "file_extension": ".py",
   "mimetype": "text/x-python",
   "name": "python",
   "nbconvert_exporter": "python",
   "pygments_lexer": "ipython3",
   "version": "3.9.7"
  }
 },
 "nbformat": 4,
 "nbformat_minor": 5
}
