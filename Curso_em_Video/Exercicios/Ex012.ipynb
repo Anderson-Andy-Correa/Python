{
 "cells": [
  {
   "cell_type": "code",
   "execution_count": 6,
   "id": "5d617806",
   "metadata": {},
   "outputs": [
    {
     "name": "stdout",
     "output_type": "stream",
     "text": [
      "Qual o valor do produto? 1594.45\n",
      "Qaul a porcentagem do desconto? 55\n",
      "O produto no valor de R$1,594.45 com o desconto de 55.0%, irá passar para R$717.50. Tendo uma economia de R$876.95.\n"
     ]
    }
   ],
   "source": [
    "#Faça um algoritmo que leia o preço de um produto e mostre seu novo preço, com 5% de desconto.\n",
    "ValorAnt = float(input(\"Qual o valor do produto? \"))\n",
    "Desc = float(input(\"Qaul a porcentagem do desconto? \"))\n",
    "ValorNovo = ValorAnt * (100-Desc)/100\n",
    "print(f\"O produto no valor de R${ValorAnt:,.2f} com o desconto de {Desc}%, irá passar para R${ValorNovo:,.2f}. Tendo uma economia de R${ValorAnt - ValorNovo:,.2f}.\")"
   ]
  },
  {
   "cell_type": "code",
   "execution_count": null,
   "id": "8602d806",
   "metadata": {},
   "outputs": [],
   "source": []
  }
 ],
 "metadata": {
  "kernelspec": {
   "display_name": "Python 3 (ipykernel)",
   "language": "python",
   "name": "python3"
  },
  "language_info": {
   "codemirror_mode": {
    "name": "ipython",
    "version": 3
   },
   "file_extension": ".py",
   "mimetype": "text/x-python",
   "name": "python",
   "nbconvert_exporter": "python",
   "pygments_lexer": "ipython3",
   "version": "3.9.7"
  }
 },
 "nbformat": 4,
 "nbformat_minor": 5
}
