{
 "cells": [
  {
   "cell_type": "code",
   "execution_count": 7,
   "id": "0e6abf67",
   "metadata": {},
   "outputs": [
    {
     "name": "stdout",
     "output_type": "stream",
     "text": [
      "\u001b[36m-\u001b[m\u001b[36m-\u001b[m\u001b[36m-\u001b[m\u001b[36m-\u001b[m\u001b[36m-\u001b[m\u001b[36m-\u001b[m\u001b[36m-\u001b[m\u001b[36m-\u001b[m\u001b[36m-\u001b[m\u001b[36m-\u001b[m\u001b[36m-\u001b[m\u001b[36m-\u001b[m\u001b[36m-\u001b[m\u001b[36m-\u001b[m\u001b[36m-\u001b[m\u001b[36m-\u001b[m\u001b[36m-\u001b[m\u001b[36m-\u001b[m\u001b[36m-\u001b[m\u001b[36m-\u001b[m\u001b[36m-\u001b[m\u001b[36m-\u001b[m\u001b[36m-\u001b[m\u001b[36m-\u001b[m\u001b[36m-\u001b[m\u001b[36m-\u001b[m\u001b[36m-\u001b[m\u001b[36m-\u001b[m\u001b[36m-\u001b[m\u001b[36m-\u001b[m\n",
      " \u001b[32mCADASTRE UMA PESSOA\u001b[m  \n",
      "\u001b[36m-\u001b[m\u001b[36m-\u001b[m\u001b[36m-\u001b[m\u001b[36m-\u001b[m\u001b[36m-\u001b[m\u001b[36m-\u001b[m\u001b[36m-\u001b[m\u001b[36m-\u001b[m\u001b[36m-\u001b[m\u001b[36m-\u001b[m\u001b[36m-\u001b[m\u001b[36m-\u001b[m\u001b[36m-\u001b[m\u001b[36m-\u001b[m\u001b[36m-\u001b[m\u001b[36m-\u001b[m\u001b[36m-\u001b[m\u001b[36m-\u001b[m\u001b[36m-\u001b[m\u001b[36m-\u001b[m\u001b[36m-\u001b[m\u001b[36m-\u001b[m\u001b[36m-\u001b[m\u001b[36m-\u001b[m\u001b[36m-\u001b[m\u001b[36m-\u001b[m\u001b[36m-\u001b[m\u001b[36m-\u001b[m\u001b[36m-\u001b[m\u001b[36m-\u001b[m\n",
      "Idade: 21\n",
      "Sexo: [F/M] m\n",
      "Quer continuar? [S/N] s\n",
      "\u001b[36m-\u001b[m\u001b[36m-\u001b[m\u001b[36m-\u001b[m\u001b[36m-\u001b[m\u001b[36m-\u001b[m\u001b[36m-\u001b[m\u001b[36m-\u001b[m\u001b[36m-\u001b[m\u001b[36m-\u001b[m\u001b[36m-\u001b[m\u001b[36m-\u001b[m\u001b[36m-\u001b[m\u001b[36m-\u001b[m\u001b[36m-\u001b[m\u001b[36m-\u001b[m\u001b[36m-\u001b[m\u001b[36m-\u001b[m\u001b[36m-\u001b[m\u001b[36m-\u001b[m\u001b[36m-\u001b[m\u001b[36m-\u001b[m\u001b[36m-\u001b[m\u001b[36m-\u001b[m\u001b[36m-\u001b[m\u001b[36m-\u001b[m\u001b[36m-\u001b[m\u001b[36m-\u001b[m\u001b[36m-\u001b[m\u001b[36m-\u001b[m\u001b[36m-\u001b[m\n",
      " \u001b[32mCADASTRE UMA PESSOA\u001b[m  \n",
      "\u001b[36m-\u001b[m\u001b[36m-\u001b[m\u001b[36m-\u001b[m\u001b[36m-\u001b[m\u001b[36m-\u001b[m\u001b[36m-\u001b[m\u001b[36m-\u001b[m\u001b[36m-\u001b[m\u001b[36m-\u001b[m\u001b[36m-\u001b[m\u001b[36m-\u001b[m\u001b[36m-\u001b[m\u001b[36m-\u001b[m\u001b[36m-\u001b[m\u001b[36m-\u001b[m\u001b[36m-\u001b[m\u001b[36m-\u001b[m\u001b[36m-\u001b[m\u001b[36m-\u001b[m\u001b[36m-\u001b[m\u001b[36m-\u001b[m\u001b[36m-\u001b[m\u001b[36m-\u001b[m\u001b[36m-\u001b[m\u001b[36m-\u001b[m\u001b[36m-\u001b[m\u001b[36m-\u001b[m\u001b[36m-\u001b[m\u001b[36m-\u001b[m\u001b[36m-\u001b[m\n",
      "Idade: 21\n",
      "Sexo: [F/M] f\n",
      "Quer continuar? [S/N] n\n",
      "------------------------------\n",
      "Total de pessoas com mais de 18 anos: \u001b[32m2\u001b[m\n",
      "Ao todo temos \u001b[32m1\u001b[m homem cadastrado.\n",
      "E \u001b[31mNenhuma\u001b[m mulher com menos de 20 anos foi cadastrada.\n"
     ]
    }
   ],
   "source": [
    "# Crie um programa que leia a idade e o sexo de várias pessoas.\n",
    "# A cada pessoa cadastrada, o programa deverá perguntar se o usuário quer ou não continuar.\n",
    "# No final, mostre:\n",
    "\n",
    "#A) quantas pessoas tem mais de 18 anos.\n",
    "#B) quantos homens foram cadastrados.\n",
    "#C) quantas mulheres tem menos de 20 anos.\n",
    "\n",
    "idade = menorF = totH = maior = 0\n",
    "\n",
    "while True:\n",
    "    print('\\033[36m-\\033[m'*30)\n",
    "    print(\"{:^30}\".format('\\033[32mCADASTRE UMA PESSOA\\033[m'))\n",
    "    print(\"\\033[36m-\\033[m\"*30)\n",
    "    idade = int(input(\"Idade: \"))\n",
    "    sexo = input(\"Sexo: \\033[32m[F/M]\\033[m \").strip().upper()[0]\n",
    "    while sexo not in \"FM\":\n",
    "        sexo = input(\"\\033[31mInserção inválida, tente novamente.\\033[m \\033[32m[F/M]\\033[m \").strip().upper()[0]\n",
    "    if idade >= 18:\n",
    "        maior += 1\n",
    "    if sexo == 'M':\n",
    "        totH += 1\n",
    "    if sexo == 'F' and idade < 20:\n",
    "        menorF += 1\n",
    "    cont = input(\"Quer continuar? \\033[32m[S/N]\\033[m \").strip().upper()[0]\n",
    "    while cont not in 'SN':\n",
    "        cont = input(\"\\033[31mInserção inválida, tente novamente.\\033[m \\033[32m[S/N]\\033[m \").strip().upper()[0]\n",
    "    if cont == 'N':\n",
    "        break\n",
    "print(\"-\"*30)\n",
    "print(f'Total de pessoas com mais de 18 anos: \\033[32m{maior}\\033[m')\n",
    "if totH == 1:\n",
    "    print(f'Ao todo temos \\033[32m{totH}\\033[m homem cadastrado.')\n",
    "elif totH > 1:\n",
    "    print(f'Ao todo temos \\033[32m{totH}\\033[m homens cadastrados.')\n",
    "else:\n",
    "    print('\\033[31mNenhum\\033[m homem foi cadastrado.')\n",
    "if menorF == 1:\n",
    "    print(f\"E temos \\033[32m{menorF}\\033[m mulher com menos de 20 anos.\")\n",
    "elif menorF > 1:\n",
    "    print(f\"E temos \\033[32m{menorF}\\033[m mulheres com menos de 20 anos.\")\n",
    "else:\n",
    "    print(f\"E \\033[31mNenhuma\\033[m mulher com menos de 20 anos foi cadastrada.\")\n"
   ]
  },
  {
   "cell_type": "code",
   "execution_count": null,
   "id": "edcf382a",
   "metadata": {},
   "outputs": [],
   "source": []
  }
 ],
 "metadata": {
  "kernelspec": {
   "display_name": "Python 3 (ipykernel)",
   "language": "python",
   "name": "python3"
  },
  "language_info": {
   "codemirror_mode": {
    "name": "ipython",
    "version": 3
   },
   "file_extension": ".py",
   "mimetype": "text/x-python",
   "name": "python",
   "nbconvert_exporter": "python",
   "pygments_lexer": "ipython3",
   "version": "3.9.7"
  }
 },
 "nbformat": 4,
 "nbformat_minor": 5
}
