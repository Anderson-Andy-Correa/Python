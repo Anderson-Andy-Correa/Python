{
 "cells": [
  {
   "cell_type": "code",
   "execution_count": 14,
   "id": "6e6f7267",
   "metadata": {},
   "outputs": [
    {
     "name": "stdout",
     "output_type": "stream",
     "text": [
      "Sorteando 5 valores na lista: 9 2 0 8 3 PRONTO!\n",
      "Somando os valores de [9, 2, 0, 8, 3], temos 10\n",
      "-=-=-=-=-=-=-=-=-=-=-=-=-=-=-=-=-=-=-=-=-=-=-=-=-=\n",
      "Sorteando 5 valores na lista: 4 9 0 2 0 PRONTO!\n",
      "Somando os valores de [4, 9, 0, 2, 0], temos 6\n",
      "-=-=-=-=-=-=-=-=-=-=-=-=-=-=-=-=-=-=-=-=-=-=-=-=-=\n",
      "Sorteando 5 valores na lista: 8 10 4 6 2 PRONTO!\n",
      "Somando os valores de [8, 10, 4, 6, 2], temos 30\n",
      "-=-=-=-=-=-=-=-=-=-=-=-=-=-=-=-=-=-=-=-=-=-=-=-=-=\n",
      "Sorteando 5 valores na lista: 8 3 7 0 7 PRONTO!\n",
      "Somando os valores de [8, 3, 7, 0, 7], temos 8\n",
      "-=-=-=-=-=-=-=-=-=-=-=-=-=-=-=-=-=-=-=-=-=-=-=-=-=\n",
      "Sorteando 5 valores na lista: 4 9 8 4 5 PRONTO!\n",
      "Somando os valores de [4, 9, 8, 4, 5], temos 16\n",
      "-=-=-=-=-=-=-=-=-=-=-=-=-=-=-=-=-=-=-=-=-=-=-=-=-=\n"
     ]
    }
   ],
   "source": [
    "# Faça um programa que tenha uma lista chamada números e duas funções chamadas sorteia() e somaPar(). \n",
    "# A primeira função vai sortear 5 números e vai colocá-los dentro da lista e a segunda função vai mostrar a soma entre todos os valores pares sorteados pela função anterior.\n",
    "\n",
    "from random import randint\n",
    "from time import sleep\n",
    "\n",
    "def sorteia():\n",
    "    print('Sorteando 5 valores na lista:', end=' ')\n",
    "    for n in range(0, 5):\n",
    "        números.append(randint(0, 10))\n",
    "        print(números[n], end=' ', flush=True)\n",
    "        sleep(0.25)\n",
    "    print('PRONTO!')\n",
    "\n",
    "\n",
    "def soma(pares):\n",
    "    for par in números:\n",
    "        if par % 2 == 0:\n",
    "            pares = pares + par\n",
    "    print(f'Somando os valores de {números}, temos {pares}')\n",
    "    \n",
    "números = []\n",
    "\n",
    "for l in range(0, 5):\n",
    "    sorteia()\n",
    "    sleep(1)\n",
    "    soma(0)\n",
    "    números.clear()\n",
    "    print('-='*25)\n",
    "    sleep(1)"
   ]
  }
 ],
 "metadata": {
  "kernelspec": {
   "display_name": "Python 3 (ipykernel)",
   "language": "python",
   "name": "python3"
  },
  "language_info": {
   "codemirror_mode": {
    "name": "ipython",
    "version": 3
   },
   "file_extension": ".py",
   "mimetype": "text/x-python",
   "name": "python",
   "nbconvert_exporter": "python",
   "pygments_lexer": "ipython3",
   "version": "3.9.7"
  }
 },
 "nbformat": 4,
 "nbformat_minor": 5
}
