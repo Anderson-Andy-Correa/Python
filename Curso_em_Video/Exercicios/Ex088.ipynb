{
 "cells": [
  {
   "cell_type": "code",
   "execution_count": 10,
   "id": "7be23b62",
   "metadata": {},
   "outputs": [
    {
     "name": "stdout",
     "output_type": "stream",
     "text": [
      "------------------------------\n",
      "      JOGA NA MEGA SENA       \n",
      "------------------------------\n",
      "Quantos jogos você quer que eu sorteie? 5\n",
      "----- SORTEANDO 5 JOGOS ------\n",
      "Jogo 1: [9, 10, 33, 42, 43, 57]\n",
      "Jogo 2: [3, 13, 15, 21, 40, 46]\n",
      "Jogo 3: [14, 20, 25, 32, 38, 46]\n",
      "Jogo 4: [4, 12, 34, 38, 45, 47]\n",
      "Jogo 5: [9, 17, 21, 26, 31, 37]\n",
      "------- < BOA SORTE! > -------\n"
     ]
    }
   ],
   "source": [
    "# Faça um programa que ajude um jogador da MEGA SENA a criar palpites.\n",
    "# O programa vai perguntar quantos jogos serão gerados e vai sortear 6 números entre 1 e 60 para cada jogo, cadastrando tudo em uma lista composta.\n",
    "\n",
    "from random import randint\n",
    "from time import sleep\n",
    "\n",
    "print('-'*30)\n",
    "print(f'{\"JOGA NA MEGA SENA\":^30}')\n",
    "print('-'*30)\n",
    "\n",
    "vezes = int(input('Quantos jogos você quer que eu sorteie? '))\n",
    "print(f'{f\" SORTEANDO {vezes} JOGOS \":-^30}')\n",
    "\n",
    "lista = []\n",
    "chute = []\n",
    "\n",
    "for c in range(0, vezes):\n",
    "    for n in range(0, 6):\n",
    "        num = randint(1, 60)\n",
    "        while num in chute:\n",
    "            num = randint(1, 60)\n",
    "        chute.append(num)\n",
    "    chute.sort()\n",
    "    lista.append(chute[:])\n",
    "    print(f'Jogo {c+1}: {lista[c]}')\n",
    "    chute.clear()\n",
    "    sleep(1)\n",
    "print(f'{f\" < BOA SORTE! > \":-^30}')\n"
   ]
  },
  {
   "cell_type": "code",
   "execution_count": null,
   "id": "7097174b",
   "metadata": {},
   "outputs": [],
   "source": []
  }
 ],
 "metadata": {
  "kernelspec": {
   "display_name": "Python 3 (ipykernel)",
   "language": "python",
   "name": "python3"
  },
  "language_info": {
   "codemirror_mode": {
    "name": "ipython",
    "version": 3
   },
   "file_extension": ".py",
   "mimetype": "text/x-python",
   "name": "python",
   "nbconvert_exporter": "python",
   "pygments_lexer": "ipython3",
   "version": "3.9.7"
  }
 },
 "nbformat": 4,
 "nbformat_minor": 5
}
