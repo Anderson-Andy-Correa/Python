{
 "cells": [
  {
   "cell_type": "code",
   "execution_count": 7,
   "id": "4e1baa03",
   "metadata": {},
   "outputs": [
    {
     "name": "stdout",
     "output_type": "stream",
     "text": [
      "----------------------------------------\n",
      "           LOJA SUPER BARATÃO           \n",
      "----------------------------------------\n",
      "Nome do produto: Lapiseira\n",
      "Preço: R$6\n",
      "Quer continuar? [S/N] s\n",
      "----------------------------------------\n",
      "Nome do produto: Caderno\n",
      "Preço: R$25\n",
      "Quer continuar? [S/N] s\n",
      "----------------------------------------\n",
      "Nome do produto: Computador\n",
      "Preço: R$12000\n",
      "Quer continuar? [S/N] s\n",
      "----------------------------------------\n",
      "Nome do produto: Impressora\n",
      "Preço: R$750\n",
      "Quer continuar? [S/N] n\n",
      "----------- FIM DO PROGRAMA ------------\n",
      "O total de compra foi de R$12,781.00\n",
      "Temos 1 produtos custando mais de R$1,000.00\n",
      "O produto mais barato foi Lapiseira que custa R$6.00\n"
     ]
    }
   ],
   "source": [
    "# Crie um programa que leia o nome e o preço de vários produtos.\n",
    "# O programa deverá perguntar se o usuário vai continuar ou não. No final, mostre:\n",
    "\n",
    "#A) qual é o total gasto na compra.\n",
    "#B) quantos produtos custam mais de R$1000.\n",
    "#C) qual é o nome do produto mais barato.\n",
    "\n",
    "tot = mais1000 = barato = nomeBarato = c = 0\n",
    "\n",
    "print('-'*40)\n",
    "print('{:^40}'.format('LOJA SUPER BARATÃO'))\n",
    "\n",
    "while True:\n",
    "    print('-'*40)\n",
    "    produto = input('Nome do produto: ').strip().capitalize()\n",
    "    preço = float(input('Preço: R$'))\n",
    "    tot += preço\n",
    "    c += 1\n",
    "    if preço >=1000:\n",
    "        mais1000 += 1\n",
    "    if c == 1 or barato > preço:\n",
    "        barato = preço\n",
    "        nomeBarato = produto\n",
    "    cont = input('Quer continuar? [S/N] ').strip().upper()[0]\n",
    "    while cont not in 'SN':\n",
    "        cont = input('inserção inválida, tente novamente. [S/N] ').strip().upper()[0]\n",
    "    if cont == 'N':\n",
    "        break\n",
    "print('{:-^40}'.format(' FIM DO PROGRAMA '))\n",
    "print(f'''O total de compra foi de R${tot:,.2f}\n",
    "Temos {mais1000} produtos custando mais de R$1,000.00\n",
    "O produto mais barato foi {nomeBarato} que custa R${barato:,.2f}''')"
   ]
  },
  {
   "cell_type": "code",
   "execution_count": null,
   "id": "bb4ac4d1",
   "metadata": {},
   "outputs": [],
   "source": []
  }
 ],
 "metadata": {
  "kernelspec": {
   "display_name": "Python 3 (ipykernel)",
   "language": "python",
   "name": "python3"
  },
  "language_info": {
   "codemirror_mode": {
    "name": "ipython",
    "version": 3
   },
   "file_extension": ".py",
   "mimetype": "text/x-python",
   "name": "python",
   "nbconvert_exporter": "python",
   "pygments_lexer": "ipython3",
   "version": "3.9.7"
  }
 },
 "nbformat": 4,
 "nbformat_minor": 5
}
