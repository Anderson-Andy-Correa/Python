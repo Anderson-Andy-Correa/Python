{
 "cells": [
  {
   "cell_type": "code",
   "execution_count": null,
   "id": "4513c692",
   "metadata": {},
   "outputs": [],
   "source": [
    "# Crie um programa onde o usuário digite uma expressão qualquer que use parênteses.\n",
    "# Seu aplicativo deverá analisar se a expressão passada está com os parênteses abertos e fechados na ordem correta.\n",
    "\n",
    "lista = list()\n",
    "\n",
    "frase = input('Digite a expressão: ')\n",
    "for dig in frase:\n",
    "    if dig == '(':\n",
    "        lista.append(dig)\n",
    "    elif dig == ')':\n",
    "        if len(frase) > 0:\n",
    "            lista.pop()\n",
    "        else:\n",
    "            lista.append(')')\n",
    "            break\n",
    "if len(lista) == 0:\n",
    "    print('Sua expressão está válida!')\n",
    "else:\n",
    "    print('Sua expressão está errada!')"
   ]
  }
 ],
 "metadata": {
  "kernelspec": {
   "display_name": "Python 3 (ipykernel)",
   "language": "python",
   "name": "python3"
  },
  "language_info": {
   "codemirror_mode": {
    "name": "ipython",
    "version": 3
   },
   "file_extension": ".py",
   "mimetype": "text/x-python",
   "name": "python",
   "nbconvert_exporter": "python",
   "pygments_lexer": "ipython3",
   "version": "3.9.7"
  }
 },
 "nbformat": 4,
 "nbformat_minor": 5
}
