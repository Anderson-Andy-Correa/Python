{
 "cells": [
  {
   "cell_type": "code",
   "execution_count": 2,
   "id": "03c0141a",
   "metadata": {},
   "outputs": [
    {
     "name": "stdout",
     "output_type": "stream",
     "text": [
      "Digite o comprimento do cateto oposto: 10\n",
      "Digite o comprimento do cateto adjacente: 15\n",
      "Com os catetos mediondo 10.0 e 15.0, a hipotenusa deve ser de 18.03.\n"
     ]
    }
   ],
   "source": [
    "#Faça um programa que leia o comprimento do cateto oposto e do cateto adjacente de um triângulo retângulo. Calcule e mostre o comprimento da hipotenusa.\n",
    "from math import hypot\n",
    "co = float(input(\"Digite o comprimento do cateto oposto: \"))\n",
    "ca = float (input(\"Digite o comprimento do cateto adjacente: \"))\n",
    "hipo = hypot(ca,co)\n",
    "print(f\"Com os catetos mediondo {co} e {ca}, a hipotenusa deve ser de {hipo:.2f}.\")"
   ]
  },
  {
   "cell_type": "code",
   "execution_count": null,
   "id": "4b8aadbf",
   "metadata": {},
   "outputs": [],
   "source": []
  }
 ],
 "metadata": {
  "kernelspec": {
   "display_name": "Python 3 (ipykernel)",
   "language": "python",
   "name": "python3"
  },
  "language_info": {
   "codemirror_mode": {
    "name": "ipython",
    "version": 3
   },
   "file_extension": ".py",
   "mimetype": "text/x-python",
   "name": "python",
   "nbconvert_exporter": "python",
   "pygments_lexer": "ipython3",
   "version": "3.9.7"
  }
 },
 "nbformat": 4,
 "nbformat_minor": 5
}
