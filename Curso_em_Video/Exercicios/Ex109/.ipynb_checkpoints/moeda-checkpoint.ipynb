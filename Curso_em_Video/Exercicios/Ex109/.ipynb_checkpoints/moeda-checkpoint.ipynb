{
 "cells": [
  {
   "cell_type": "code",
   "execution_count": 6,
   "id": "c7ffec74",
   "metadata": {},
   "outputs": [],
   "source": [
    "def metade(n=0, show=False):\n",
    "    if show == False:\n",
    "        return n / 2\n",
    "    else:\n",
    "        return f\"R${(n / 2):.2f}\"\n",
    "\n",
    "\n",
    "def dobro(n=0, show=False):\n",
    "    if show == False:\n",
    "        return n * 2\n",
    "    else:\n",
    "        return f\"R${(n * 2):.2f}\"\n",
    "    \n",
    "\n",
    "def aumentar(n=0, more=0, show=False):\n",
    "    if show == False:\n",
    "        return n * (more / 100 + 1)\n",
    "    else:\n",
    "        return f\"R${(n * (more / 100 + 1)):.2f}\"\n",
    "    \n",
    "\n",
    "def diminuir(n=0, minus=0, show=False):\n",
    "    if show == False:\n",
    "        return n * (1 - minus / 100)\n",
    "    else:\n",
    "        return f\"R${(n * (1 - minus / 100)):.2f}\"\n",
    "    \n",
    "\n",
    "def estrutura(n=0, moeda='R$'):\n",
    "    return f\"{moeda}{n:.2f}\".replace('.',',')\n"
   ]
  }
 ],
 "metadata": {
  "kernelspec": {
   "display_name": "Python 3 (ipykernel)",
   "language": "python",
   "name": "python3"
  },
  "language_info": {
   "codemirror_mode": {
    "name": "ipython",
    "version": 3
   },
   "file_extension": ".py",
   "mimetype": "text/x-python",
   "name": "python",
   "nbconvert_exporter": "python",
   "pygments_lexer": "ipython3",
   "version": "3.9.7"
  }
 },
 "nbformat": 4,
 "nbformat_minor": 5
}
