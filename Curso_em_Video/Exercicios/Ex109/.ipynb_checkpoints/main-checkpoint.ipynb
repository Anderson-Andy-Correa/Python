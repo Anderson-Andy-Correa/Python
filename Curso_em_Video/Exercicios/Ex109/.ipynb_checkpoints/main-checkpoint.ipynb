{
 "cells": [
  {
   "cell_type": "code",
   "execution_count": 3,
   "id": "009d14e1",
   "metadata": {},
   "outputs": [
    {
     "name": "stdout",
     "output_type": "stream",
     "text": [
      "Digite um preço: R$15.55\n",
      "A metade de R$15,55 é R$7,78\n",
      "O dobro de R$15,55 é R$31,10\n",
      "Aumentando 10% de R$15,55, temos R$17,11\n",
      "Reduzindo 13% de R$15,55, temos R$13,53\n"
     ]
    }
   ],
   "source": [
    "# Modifique as funções que form criadas no desafio 107 para que elas aceitem um parâmetro a mais, informando se o valor retornado por elas vai ser ou não formatado pela função moeda(), desenvolvida no desafio 108.\n",
    "\n",
    "from moeda import *\n",
    "\n",
    "p = float(input(\"Digite um preço: R$\"))\n",
    "print(f\"\"\"A metade de {estrutura(p)} é {metade(p, True)}\n",
    "O dobro de {estrutura(p)} é {dobro(p, True)}\n",
    "Aumentando 10% de {estrutura(p)}, temos {aumentar(p, 10, True)}\n",
    "Reduzindo 13% de {estrutura(p)}, temos {diminuir(p, 13, True)}\"\"\")"
   ]
  }
 ],
 "metadata": {
  "kernelspec": {
   "display_name": "Python 3 (ipykernel)",
   "language": "python",
   "name": "python3"
  },
  "language_info": {
   "codemirror_mode": {
    "name": "ipython",
    "version": 3
   },
   "file_extension": ".py",
   "mimetype": "text/x-python",
   "name": "python",
   "nbconvert_exporter": "python",
   "pygments_lexer": "ipython3",
   "version": "3.9.7"
  }
 },
 "nbformat": 4,
 "nbformat_minor": 5
}
