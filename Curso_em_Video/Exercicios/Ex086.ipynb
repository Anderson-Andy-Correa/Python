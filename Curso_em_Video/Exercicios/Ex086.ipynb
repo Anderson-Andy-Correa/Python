{
 "cells": [
  {
   "cell_type": "code",
   "execution_count": null,
   "id": "15bef2b8",
   "metadata": {},
   "outputs": [],
   "source": [
    "#\n",
    "\n",
    "A =[]\n",
    "B = []\n",
    "C = []\n",
    "lista = [A, B, C]\n",
    "\n",
    "for a in range(0, 3):\n",
    "    linhaA = int(input(f'Digite um valor para [0, {a}]: '))\n",
    "    A.append(linhaA)\n",
    "for b in range(0, 3):\n",
    "    linhaB = int(input(f'Digite um valor para [1, {b}]: '))\n",
    "    B.append(linhaB)\n",
    "for c in range(0, 3):\n",
    "    linhaC = int(input(f'Digite um valor para [2, {c}]: '))\n",
    "    C.append(linhaC)\n",
    "\n",
    "print('=-'*20)\n",
    "\n",
    "print(f'''[ {A[0]} ][ {A[1]} ][ {A[2]} ]\n",
    "[ {B[0]} ][ {B[1]} ][ {B[2]} ]\n",
    "[ {C[0]} ][ {C[1]} ][ {C[2]} ]''')"
   ]
  }
 ],
 "metadata": {
  "kernelspec": {
   "display_name": "Python 3 (ipykernel)",
   "language": "python",
   "name": "python3"
  },
  "language_info": {
   "codemirror_mode": {
    "name": "ipython",
    "version": 3
   },
   "file_extension": ".py",
   "mimetype": "text/x-python",
   "name": "python",
   "nbconvert_exporter": "python",
   "pygments_lexer": "ipython3",
   "version": "3.9.7"
  }
 },
 "nbformat": 4,
 "nbformat_minor": 5
}
