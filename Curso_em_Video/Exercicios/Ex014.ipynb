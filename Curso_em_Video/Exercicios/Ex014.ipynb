{
 "cells": [
  {
   "cell_type": "code",
   "execution_count": 1,
   "id": "dc0660a3",
   "metadata": {},
   "outputs": [
    {
     "name": "stdout",
     "output_type": "stream",
     "text": [
      "Digite a temperatura em graus Celcius: 57\n",
      "A temperatura de 57.0°C é equivalente a 134.6°F\n"
     ]
    }
   ],
   "source": [
    "#Escreva um programa que converta uma temperatura digitando em graus Celsius e converta para graus Fahrenheit.\n",
    "C = float(input(\"Digite a temperatura em graus Celcius: \"))\n",
    "F = C * 9 / 5 + 32\n",
    "print(f\"A temperatura de {C:,.1f}°C é equivalente a {F:,.1f}°F\")"
   ]
  },
  {
   "cell_type": "code",
   "execution_count": null,
   "id": "6959e299",
   "metadata": {},
   "outputs": [],
   "source": []
  }
 ],
 "metadata": {
  "kernelspec": {
   "display_name": "Python 3 (ipykernel)",
   "language": "python",
   "name": "python3"
  },
  "language_info": {
   "codemirror_mode": {
    "name": "ipython",
    "version": 3
   },
   "file_extension": ".py",
   "mimetype": "text/x-python",
   "name": "python",
   "nbconvert_exporter": "python",
   "pygments_lexer": "ipython3",
   "version": "3.9.7"
  }
 },
 "nbformat": 4,
 "nbformat_minor": 5
}
