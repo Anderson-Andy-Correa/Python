{
 "cells": [
  {
   "cell_type": "code",
   "execution_count": null,
   "id": "22ace9b7",
   "metadata": {},
   "outputs": [],
   "source": [
    "#\n",
    "\n",
    "A =[]\n",
    "B = []\n",
    "C = []\n",
    "lista = [A, B, C]\n",
    "pares = 0\n",
    "for a in range(0, 3):\n",
    "    linhaA = int(input(f'Digite um valor para [0, {a}]: '))\n",
    "    A.append(linhaA)\n",
    "    if linhaA % 2 == 0:\n",
    "        pares += linhaA\n",
    "for b in range(0, 3):\n",
    "    linhaB = int(input(f'Digite um valor para [1, {b}]: '))\n",
    "    B.append(linhaB)\n",
    "    if linhaB % 2 == 0:\n",
    "        pares += linhaB\n",
    "for c in range(0, 3):\n",
    "    linhaC = int(input(f'Digite um valor para [2, {c}]: '))\n",
    "    C.append(linhaC)\n",
    "    if linhaC % 2 == 0:\n",
    "        pares += linhaC\n",
    "print('=-'*20)\n",
    "\n",
    "print(f'''[ {A[0]} ][ {A[1]} ][ {A[2]} ]\n",
    "[ {B[0]} ][ {B[1]} ][ {B[2]} ]\n",
    "[ {C[0]} ][ {C[1]} ][ {C[2]} ]''')\n",
    "\n",
    "print('=-'*20)\n",
    "\n",
    "print(f'''A soma dos valores pares é {pares}.\n",
    "A soma dos valores da terceira coluna é {A[2] + B[2] + C[2]}.\n",
    "O maior valor da segunda linha é {max(B)}.''')"
   ]
  }
 ],
 "metadata": {
  "kernelspec": {
   "display_name": "Python 3 (ipykernel)",
   "language": "python",
   "name": "python3"
  },
  "language_info": {
   "codemirror_mode": {
    "name": "ipython",
    "version": 3
   },
   "file_extension": ".py",
   "mimetype": "text/x-python",
   "name": "python",
   "nbconvert_exporter": "python",
   "pygments_lexer": "ipython3",
   "version": "3.9.7"
  }
 },
 "nbformat": 4,
 "nbformat_minor": 5
}
