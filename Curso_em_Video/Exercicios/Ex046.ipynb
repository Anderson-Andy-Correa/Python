{
 "cells": [
  {
   "cell_type": "code",
   "execution_count": 9,
   "id": "285fbb1c",
   "metadata": {},
   "outputs": [
    {
     "name": "stdout",
     "output_type": "stream",
     "text": [
      "\u001b[31m10\u001b[m\n",
      "\u001b[34m9\u001b[m\n",
      "\u001b[37m8\u001b[m\n",
      "\u001b[33m7\u001b[m\n",
      "\u001b[33m6\u001b[m\n",
      "\u001b[36m5\u001b[m\n",
      "\u001b[37m4\u001b[m\n",
      "\u001b[31m3\u001b[m\n",
      "\u001b[32m2\u001b[m\n",
      "\u001b[37m1\u001b[m\n",
      "🎆 FELIZ ANO NOVO!!! 🎆\n"
     ]
    }
   ],
   "source": [
    "#Faça um programa que mostre na tela uma contagem regressiva para o estouro de fogos de artifício, indo de 10 até 0, com uma pausa de 1 segundo entre eles.\n",
    "\n",
    "from time import sleep\n",
    "from emojis import encode\n",
    "from random import randint\n",
    "\n",
    "for time in range(10 ,0 ,-1):\n",
    "    print(f'\\033[{randint(31, 37)}m{time}\\033[m')\n",
    "    sleep(1)\n",
    "print(encode(':fireworks: FELIZ ANO NOVO!!! :fireworks:'))\n"
   ]
  },
  {
   "cell_type": "code",
   "execution_count": null,
   "id": "b558814a",
   "metadata": {},
   "outputs": [],
   "source": []
  }
 ],
 "metadata": {
  "kernelspec": {
   "display_name": "Python 3 (ipykernel)",
   "language": "python",
   "name": "python3"
  },
  "language_info": {
   "codemirror_mode": {
    "name": "ipython",
    "version": 3
   },
   "file_extension": ".py",
   "mimetype": "text/x-python",
   "name": "python",
   "nbconvert_exporter": "python",
   "pygments_lexer": "ipython3",
   "version": "3.9.7"
  }
 },
 "nbformat": 4,
 "nbformat_minor": 5
}
