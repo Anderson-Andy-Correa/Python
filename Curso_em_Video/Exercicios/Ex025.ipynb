{
 "cells": [
  {
   "cell_type": "code",
   "execution_count": 5,
   "id": "df8679d5",
   "metadata": {},
   "outputs": [
    {
     "name": "stdout",
     "output_type": "stream",
     "text": [
      "Digite um nome completo: asda Silva sda\n",
      "O nome contem \"Silva\"? True\n"
     ]
    }
   ],
   "source": [
    "#Crie um programa que leia o nome de uma cidade diga se ela começa ou não com o nome “SANTO”.\n",
    "name = input(\"Digite um nome completo: \").strip()\n",
    "#Silva = (name.upper()).find(\"SILVA\")>=0\n",
    "\n",
    "print(f'O nome contem \"Silva\"? {\"SILVA\" in name.upper()}')"
   ]
  },
  {
   "cell_type": "code",
   "execution_count": null,
   "id": "7c44caaf",
   "metadata": {},
   "outputs": [],
   "source": []
  }
 ],
 "metadata": {
  "kernelspec": {
   "display_name": "Python 3 (ipykernel)",
   "language": "python",
   "name": "python3"
  },
  "language_info": {
   "codemirror_mode": {
    "name": "ipython",
    "version": 3
   },
   "file_extension": ".py",
   "mimetype": "text/x-python",
   "name": "python",
   "nbconvert_exporter": "python",
   "pygments_lexer": "ipython3",
   "version": "3.9.7"
  }
 },
 "nbformat": 4,
 "nbformat_minor": 5
}
