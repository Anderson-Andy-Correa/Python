{
 "cells": [
  {
   "cell_type": "code",
   "execution_count": 1,
   "id": "7e34759d",
   "metadata": {},
   "outputs": [
    {
     "name": "stdout",
     "output_type": "stream",
     "text": [
      "Nome do grupo 1: a\n",
      "Nome do grupo 2: b\n",
      "Nome do grupo 3: c\n",
      "Nome do grupo 4: d\n",
      "['d', 'a', 'c', 'b']\n"
     ]
    }
   ],
   "source": [
    "#O mesmo professor do desafio 19 quer sortear a ordem de apresentação de trabalhos dos alunos. Faça um programa que leia o nome dos quatro alunos e mostre a ordem sorteada.\n",
    "from random import shuffle\n",
    "gr1 = input(\"Nome do grupo 1: \")\n",
    "gr2 = input(\"Nome do grupo 2: \")\n",
    "gr3 = input(\"Nome do grupo 3: \")\n",
    "gr4 = input(\"Nome do grupo 4: \")\n",
    "lista = [gr1, gr2, gr3, gr4]\n",
    "mistura = shuffle(lista)\n",
    "print(f\"A ordem dos grupos vai ser {lista}.\")"
   ]
  }
 ],
 "metadata": {
  "kernelspec": {
   "display_name": "Python 3 (ipykernel)",
   "language": "python",
   "name": "python3"
  },
  "language_info": {
   "codemirror_mode": {
    "name": "ipython",
    "version": 3
   },
   "file_extension": ".py",
   "mimetype": "text/x-python",
   "name": "python",
   "nbconvert_exporter": "python",
   "pygments_lexer": "ipython3",
   "version": "3.9.7"
  }
 },
 "nbformat": 4,
 "nbformat_minor": 5
}
