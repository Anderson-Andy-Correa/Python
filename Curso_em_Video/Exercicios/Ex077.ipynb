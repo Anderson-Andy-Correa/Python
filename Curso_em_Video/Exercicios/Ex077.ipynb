{
 "cells": [
  {
   "cell_type": "code",
   "execution_count": 10,
   "id": "339bd2e9",
   "metadata": {},
   "outputs": [
    {
     "name": "stdout",
     "output_type": "stream",
     "text": [
      "Digite um número entre 0 e 20: 2\n",
      "Você digitou o número dois.\n",
      "Gostaria de continuar? [Y/N] n\n"
     ]
    }
   ],
   "source": [
    "# Crie um programa que tenha uma dupla totalmente preenchida com uma contagem por extenso, de zero até vinte. \n",
    "# Seu programa deverá ler um número pelo teclado (entre 0 e 20) e mostrá-lo por extenso.\n",
    "\n",
    "tupla = ('zero', 'um', 'dois', 'três', 'quatro', 'cinco', 'seis', 'sete', 'oito', 'nove', 'dez', 'onze', 'doze', 'treze', 'cartoze', 'quize', 'dezesseis', 'dezesete', 'dezoito', 'dezenove', 'vinte')\n",
    "\n",
    "while True:\n",
    "    while True:\n",
    "        n = int(input('Digite um número entre 0 e 20: '))\n",
    "        if 0 <= n <= 20:\n",
    "            break\n",
    "        print('Tente novamente.', end=' ')  \n",
    "    print(f'Você digitou o número {tupla[n]}.')\n",
    "    cont = input('Gostaria de continuar? [Y/N] ').strip().upper()[0]\n",
    "    if cont in 'N':\n",
    "        break"
   ]
  },
  {
   "cell_type": "code",
   "execution_count": null,
   "id": "138a8c0d",
   "metadata": {},
   "outputs": [],
   "source": []
  }
 ],
 "metadata": {
  "kernelspec": {
   "display_name": "Python 3 (ipykernel)",
   "language": "python",
   "name": "python3"
  },
  "language_info": {
   "codemirror_mode": {
    "name": "ipython",
    "version": 3
   },
   "file_extension": ".py",
   "mimetype": "text/x-python",
   "name": "python",
   "nbconvert_exporter": "python",
   "pygments_lexer": "ipython3",
   "version": "3.9.7"
  }
 },
 "nbformat": 4,
 "nbformat_minor": 5
}
