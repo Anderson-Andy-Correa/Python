{
 "cells": [
  {
   "cell_type": "code",
   "execution_count": 9,
   "id": "7b49e54e",
   "metadata": {},
   "outputs": [
    {
     "name": "stdout",
     "output_type": "stream",
     "text": [
      "Valores sorteados:\n",
      "jogador1 tirou 2 no dado.\n",
      "jogador2 tirou 3 no dado.\n",
      "jogador3 tirou 4 no dado.\n",
      "jogador4 tirou 4 no dado.\n",
      "-=-=-=-=-=-=-=-=-=-=-=-=-=-=-=-=-=-=-=-=-=-=-=-=-=-=-=-=-=-=\n",
      "  == RENKING DOS JOGADORES ==\n",
      "    1º lugar: jogador3 com 4\n",
      "    2º lugar: jogador4 com 4\n",
      "    3º lugar: jogador2 com 3\n",
      "    4º lugar: jogador1 com 2\n"
     ]
    }
   ],
   "source": [
    "# Crie um programa onde 4 jogadores joguem um dado e tenham resultados aleatórios.\n",
    "# Guarde esses resultados em um dicionário em Python.\n",
    "# No final, coloque esse dicionário em ordem, sabendo que o vencedor tirou o maior número no dado.\n",
    "\n",
    "from time import sleep\n",
    "from random import randint\n",
    "from operator import itemgetter\n",
    "\n",
    "\n",
    "dic = {'jogador1': randint(1, 6),\n",
    "       'jogador2': randint(1, 6),\n",
    "       'jogador3': randint(1, 6),\n",
    "       'jogador4': randint(1, 6)}\n",
    "rank = []\n",
    "\n",
    "print('Valores sorteados:')\n",
    "for k, v in dic.items():\n",
    "    print(f'{k} tirou {v} no dado.')\n",
    "    sleep(1)\n",
    "print('-='*30)\n",
    "print('  == RANKING DOS JOGADORES ==')\n",
    "rank = sorted(dic.items(), key=itemgetter(1), reverse=True)\n",
    "for n, i in enumerate(rank):\n",
    "    print(f'    {n+1}º lugar: {i[0]} com {i[1]}')\n",
    "    sleep(1)\n",
    "\n"
   ]
  },
  {
   "cell_type": "code",
   "execution_count": null,
   "id": "2e7b9ad0",
   "metadata": {},
   "outputs": [],
   "source": []
  }
 ],
 "metadata": {
  "kernelspec": {
   "display_name": "Python 3 (ipykernel)",
   "language": "python",
   "name": "python3"
  },
  "language_info": {
   "codemirror_mode": {
    "name": "ipython",
    "version": 3
   },
   "file_extension": ".py",
   "mimetype": "text/x-python",
   "name": "python",
   "nbconvert_exporter": "python",
   "pygments_lexer": "ipython3",
   "version": "3.9.7"
  }
 },
 "nbformat": 4,
 "nbformat_minor": 5
}
