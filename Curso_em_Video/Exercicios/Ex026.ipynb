{
 "cells": [
  {
   "cell_type": "code",
   "execution_count": 10,
   "id": "84e961c3",
   "metadata": {},
   "outputs": [
    {
     "name": "stdout",
     "output_type": "stream",
     "text": [
      "Digite uma frase: asdas asda\n",
      "Na frase: \"\"asdas asda\"\", contém:\n",
      "4 letra(s) \"A\";\n",
      "Aparece a primeira vez na posição 1;\n",
      "E a última vez na posição: 10.\n",
      "\n"
     ]
    }
   ],
   "source": [
    "#Crie um programa que leia o nome de uma cidade diga se ela começa ou não com o nome “SANTO”.\n",
    "Frase = str(input(\"Digite uma frase: \")).strip()\n",
    "print(f'''Na frase: \"\"{Frase}\"\", contém:\n",
    "{(Frase.upper()).count(\"A\")} letra(s) \"A\";\n",
    "Aparece a primeira vez na posição {(Frase.upper()).find(\"A\")+1};\n",
    "E a última vez na posição: {(Frase.upper()).rfind(\"A\")+1}.\n",
    "''')"
   ]
  },
  {
   "cell_type": "code",
   "execution_count": null,
   "id": "ff91793f",
   "metadata": {},
   "outputs": [],
   "source": []
  }
 ],
 "metadata": {
  "kernelspec": {
   "display_name": "Python 3 (ipykernel)",
   "language": "python",
   "name": "python3"
  },
  "language_info": {
   "codemirror_mode": {
    "name": "ipython",
    "version": 3
   },
   "file_extension": ".py",
   "mimetype": "text/x-python",
   "name": "python",
   "nbconvert_exporter": "python",
   "pygments_lexer": "ipython3",
   "version": "3.9.7"
  }
 },
 "nbformat": 4,
 "nbformat_minor": 5
}
