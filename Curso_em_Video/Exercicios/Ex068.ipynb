{
 "cells": [
  {
   "cell_type": "code",
   "execution_count": 9,
   "id": "7570a03e",
   "metadata": {},
   "outputs": [
    {
     "name": "stdout",
     "output_type": "stream",
     "text": [
      "=-=-=-=-=-=-=-=-=-=-=-=-=-=-=-\n",
      "   VAMOS JOGAR PAR OU IMPAR   \n",
      "=-=-=-=-=-=-=-=-=-=-=-=-=-=-=-\n",
      "Diga um valor: 8\n",
      "Par ou Impar? [P/I] p\n",
      "------------------------------\n",
      "Você jogou 8 e o computador 2.\n",
      "Total de 10 DEU PAR.\n",
      "------------------------------\n",
      "Você VENCEU!\n",
      "Vamos jogar novamente...\n",
      "=-=-=-=-=-=-=-=-=-=-=-=-=-=-=-\n",
      "Diga um valor: 7\n",
      "Par ou Impar? [P/I] i\n",
      "------------------------------\n",
      "Você jogou 7 e o computador 3.\n",
      "Total de 10 DEU PAR.\n",
      "------------------------------\n",
      "GAME OVER! Você venceu 1 vezes.\n"
     ]
    }
   ],
   "source": [
    "#Faça um programa que jogue par ou ímpar com o computador.\n",
    "# O jogo só será interrompido quando o jogador perder, mostrando o total de vitórias consecutivas que ele conquistou no final do jogo.\n",
    "\n",
    "from random import randint\n",
    "\n",
    "cont = soma = 0\n",
    "\n",
    "print('=-'*15)\n",
    "print('{:^30}'.format('VAMOS JOGAR PAR OU IMPAR'))\n",
    "\n",
    "\n",
    "while True:\n",
    "    print('=-'*15)\n",
    "    user = int(input('Diga um valor: '))\n",
    "    choice = input('Par ou Impar? [P/I] ').strip().upper()[0]\n",
    "    while choice not in 'PI':\n",
    "        choice = input('Opção inválida, tente novamente. [P/I] ').strip().upper()[0]\n",
    "    pc = randint(1,10)\n",
    "    soma = pc + user\n",
    "    print('-'*30)\n",
    "    print(f'''Você jogou {user} e o computador {pc}.\n",
    "Total de {soma} DEU ''', end='')\n",
    "    if soma % 2 == 0:\n",
    "        print('PAR.')\n",
    "    else:\n",
    "        print('IMPAR.')\n",
    "    print('-'*30)\n",
    "    if soma % 2 == 0 and choice == 'P' or soma % 2 != 0 and choice == 'I':\n",
    "        print('''Você VENCEU!\n",
    "Vamos jogar novamente...''')\n",
    "    else:\n",
    "        break\n",
    "    cont += 1\n",
    "print(f'GAME OVER! Você venceu {cont} vezes.')\n"
   ]
  }
 ],
 "metadata": {
  "kernelspec": {
   "display_name": "Python 3 (ipykernel)",
   "language": "python",
   "name": "python3"
  },
  "language_info": {
   "codemirror_mode": {
    "name": "ipython",
    "version": 3
   },
   "file_extension": ".py",
   "mimetype": "text/x-python",
   "name": "python",
   "nbconvert_exporter": "python",
   "pygments_lexer": "ipython3",
   "version": "3.9.7"
  }
 },
 "nbformat": 4,
 "nbformat_minor": 5
}
