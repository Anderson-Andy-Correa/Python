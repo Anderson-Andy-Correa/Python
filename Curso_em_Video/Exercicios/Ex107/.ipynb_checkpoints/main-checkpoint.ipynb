{
 "cells": [
  {
   "cell_type": "code",
   "execution_count": 3,
   "id": "51cd6575",
   "metadata": {},
   "outputs": [
    {
     "name": "stdout",
     "output_type": "stream",
     "text": [
      "Digite um preço: R$120\n",
      "A metade de R$120.0 é R$60.0\n",
      "O dobro de R$120.0 é R$240.0\n",
      "Aumentando 10% de R$120.0 é R$132.0\n",
      "Reduzindo 13% de R$120.0 é R$104.4\n"
     ]
    }
   ],
   "source": [
    "# Crie um módulo chamado moeda.py que tenha as funções incorporadas aumentar(), diminuir(), dobro() e metade().\n",
    "# Faça também um programa que importe esse módulo e use algumas dessas funções.\n",
    "\n",
    "from moeda import *\n",
    "\n",
    "p = float(input(\"Digite um preço: R$\"))\n",
    "print(f\"\"\"A metade de R${p} é R${metade(p)}\n",
    "O dobro de R${p} é R${dobro(p)}\n",
    "Aumentando 10% de R${p} é R${aumentar(p)}\n",
    "Reduzindo 13% de R${p} é R${diminuir(p)}\"\"\")"
   ]
  }
 ],
 "metadata": {
  "kernelspec": {
   "display_name": "Python 3 (ipykernel)",
   "language": "python",
   "name": "python3"
  },
  "language_info": {
   "codemirror_mode": {
    "name": "ipython",
    "version": 3
   },
   "file_extension": ".py",
   "mimetype": "text/x-python",
   "name": "python",
   "nbconvert_exporter": "python",
   "pygments_lexer": "ipython3",
   "version": "3.9.7"
  }
 },
 "nbformat": 4,
 "nbformat_minor": 5
}
