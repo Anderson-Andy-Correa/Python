{
 "cells": [
  {
   "cell_type": "code",
   "execution_count": null,
   "id": "c7ffec74",
   "metadata": {},
   "outputs": [],
   "source": [
    "def metade(n):\n",
    "    return n / 2\n",
    "\n",
    "\n",
    "def dobro(n):\n",
    "    return n * 2\n",
    "\n",
    "\n",
    "def aumentar(n):\n",
    "    return n * 1.10\n",
    "\n",
    "\n",
    "def diminuir(n):\n",
    "    return n * 0.87\n",
    "\n"
   ]
  }
 ],
 "metadata": {
  "kernelspec": {
   "display_name": "Python 3 (ipykernel)",
   "language": "python",
   "name": "python3"
  },
  "language_info": {
   "codemirror_mode": {
    "name": "ipython",
    "version": 3
   },
   "file_extension": ".py",
   "mimetype": "text/x-python",
   "name": "python",
   "nbconvert_exporter": "python",
   "pygments_lexer": "ipython3",
   "version": "3.9.7"
  }
 },
 "nbformat": 4,
 "nbformat_minor": 5
}
