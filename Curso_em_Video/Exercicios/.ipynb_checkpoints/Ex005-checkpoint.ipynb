{
 "cells": [
  {
   "cell_type": "code",
   "execution_count": 2,
   "id": "f744c5d4",
   "metadata": {},
   "outputs": [
    {
     "name": "stdout",
     "output_type": "stream",
     "text": [
      "Digite um número inteiro3\n",
      "O número \u001b[44m3\u001b[m tem o seu sucessor sendo \u001b[45m4\u001b[m e o seu anterior \u001b[46m2\u001b[m.\n"
     ]
    }
   ],
   "source": [
    "#Faça um programa que leia um número Inteiro e mostre na tela o seu sucessor e seu antecessor.\n",
    "N = int(input(\"Digite um número inteiro\"))\n",
    "print(f\"O número \\033[44m{N}\\033[m tem o seu sucessor sendo \\033[45m{N+1}\\033[m e o seu anterior \\033[46m{N-1}\\033[m.\")"
   ]
  },
  {
   "cell_type": "code",
   "execution_count": null,
   "id": "e14a3fce",
   "metadata": {},
   "outputs": [],
   "source": []
  }
 ],
 "metadata": {
  "kernelspec": {
   "display_name": "Python 3 (ipykernel)",
   "language": "python",
   "name": "python3"
  },
  "language_info": {
   "codemirror_mode": {
    "name": "ipython",
    "version": 3
   },
   "file_extension": ".py",
   "mimetype": "text/x-python",
   "name": "python",
   "nbconvert_exporter": "python",
   "pygments_lexer": "ipython3",
   "version": "3.9.7"
  }
 },
 "nbformat": 4,
 "nbformat_minor": 5
}
