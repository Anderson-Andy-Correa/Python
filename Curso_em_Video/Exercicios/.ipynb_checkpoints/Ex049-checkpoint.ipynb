{
 "cells": [
  {
   "cell_type": "code",
   "execution_count": 12,
   "id": "f45961f0",
   "metadata": {},
   "outputs": [
    {
     "name": "stdout",
     "output_type": "stream",
     "text": [
      "Digite o número de base: 7\n",
      "Digite o número de inicio da tabuada: 0\n",
      "Digite até qual multiplicação: 35\n",
      "-=-=-=-=-=-=-=-=-=-=-=-=\n",
      "7 x  0 = 0\n",
      "7 x  1 = 7\n",
      "7 x  2 = 14\n",
      "7 x  3 = 21\n",
      "7 x  4 = 28\n",
      "7 x  5 = 35\n",
      "7 x  6 = 42\n",
      "7 x  7 = 49\n",
      "7 x  8 = 56\n",
      "7 x  9 = 63\n",
      "7 x 10 = 70\n",
      "7 x 11 = 77\n",
      "7 x 12 = 84\n",
      "7 x 13 = 91\n",
      "7 x 14 = 98\n",
      "7 x 15 = 105\n",
      "7 x 16 = 112\n",
      "7 x 17 = 119\n",
      "7 x 18 = 126\n",
      "7 x 19 = 133\n",
      "7 x 20 = 140\n",
      "7 x 21 = 147\n",
      "7 x 22 = 154\n",
      "7 x 23 = 161\n",
      "7 x 24 = 168\n",
      "7 x 25 = 175\n",
      "7 x 26 = 182\n",
      "7 x 27 = 189\n",
      "7 x 28 = 196\n",
      "7 x 29 = 203\n",
      "7 x 30 = 210\n",
      "7 x 31 = 217\n",
      "7 x 32 = 224\n",
      "7 x 33 = 231\n",
      "7 x 34 = 238\n",
      "7 x 35 = 245\n",
      "-=-=-=-=-=-=-=-=-=-=-=-=\n"
     ]
    }
   ],
   "source": [
    "#Refaça o DESAFIO 9, mostrando a tabuada de um número que o usuário escolher, só que agora utilizando um laço for.\n",
    "\n",
    "base = int(input('Digite o número de base: '))\n",
    "begin = int(input('Digite o número de inicio da tabuada: '))\n",
    "end = int(input('Digite até qual multiplicação: '))\n",
    "s = 0\n",
    "n = begin - 1\n",
    "print('-=' * 12)\n",
    "for inteiro in range (begin, end + 1):\n",
    "    n = n + 1 \n",
    "    s = inteiro * base   \n",
    "    print(f'{base} x {n:2} = {s}')\n",
    "    \n",
    "print('-=' * 12)"
   ]
  }
 ],
 "metadata": {
  "kernelspec": {
   "display_name": "Python 3 (ipykernel)",
   "language": "python",
   "name": "python3"
  },
  "language_info": {
   "codemirror_mode": {
    "name": "ipython",
    "version": 3
   },
   "file_extension": ".py",
   "mimetype": "text/x-python",
   "name": "python",
   "nbconvert_exporter": "python",
   "pygments_lexer": "ipython3",
   "version": "3.9.7"
  }
 },
 "nbformat": 4,
 "nbformat_minor": 5
}
