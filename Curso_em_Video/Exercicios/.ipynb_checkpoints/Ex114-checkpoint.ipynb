{
 "cells": [
  {
   "cell_type": "code",
   "execution_count": 1,
   "id": "a8930064",
   "metadata": {},
   "outputs": [
    {
     "name": "stdout",
     "output_type": "stream",
     "text": [
      "\u001b[33mConsegui acessar o site Pudim com sucesso!\u001b[m\n"
     ]
    }
   ],
   "source": [
    "# Crie um código em Python que teste se o site pudim está acessível pelo computador usado.\n",
    "\n",
    "import requests\n",
    "\n",
    "def acessar(url):\n",
    "    try:\n",
    "        html = requests.get(url)\n",
    "    except:\n",
    "        print(\"\\033[31mO site Pudim não está disponível no momento.\\033[m\")\n",
    "    else:\n",
    "        print(\"\\033[33mConsegui acessar o site Pudim com sucesso!\\033[m\")\n",
    "        \n",
    "\n",
    "teste = acessar(\"http://www.pudim.com.br/\")"
   ]
  }
 ],
 "metadata": {
  "kernelspec": {
   "display_name": "Python 3 (ipykernel)",
   "language": "python",
   "name": "python3"
  },
  "language_info": {
   "codemirror_mode": {
    "name": "ipython",
    "version": 3
   },
   "file_extension": ".py",
   "mimetype": "text/x-python",
   "name": "python",
   "nbconvert_exporter": "python",
   "pygments_lexer": "ipython3",
   "version": "3.9.7"
  }
 },
 "nbformat": 4,
 "nbformat_minor": 5
}
