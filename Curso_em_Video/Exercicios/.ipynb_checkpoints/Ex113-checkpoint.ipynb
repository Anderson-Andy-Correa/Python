{
 "cells": [
  {
   "cell_type": "code",
   "execution_count": 4,
   "id": "92cd85b4",
   "metadata": {},
   "outputs": [
    {
     "name": "stdout",
     "output_type": "stream",
     "text": [
      "\u001b[31mO usuário preferiu não digitar esse número.\u001b[m\n",
      "\u001b[31mO usuário preferiu não digitar esse número.\u001b[m\n",
      "O valor inteiro digitado foi 0 e o real foi 0.00\n"
     ]
    }
   ],
   "source": [
    "# Reescreva a função leiaInt() que fizemos no desafio 104, incluindo agora a possibilidade da digitação de um número de tipo inválido.\n",
    "# Aproveite e crie também uma função leiaFloat() com a mesma funcionalidade.\n",
    "\n",
    "def leiaInt(txt):\n",
    "    while True:\n",
    "        try:\n",
    "            n = int(input(txt))\n",
    "            break\n",
    "        except KeyboardInterrupt:\n",
    "            print(\"\\033[31mO usuário preferiu não digitar esse número.\\033[m\")\n",
    "            return 0\n",
    "        except:\n",
    "            print(\"\\033[31mErro: por favor, digite um valor inteiro válido!\\033[m\")\n",
    "    return n\n",
    "\n",
    "\n",
    "def leiaFloat(txt):\n",
    "    while True:\n",
    "        try:\n",
    "            n = float(input(txt))\n",
    "            break\n",
    "        except KeyboardInterrupt:\n",
    "            print(\"\\033[31mO usuário preferiu não digitar esse número.\\033[m\")\n",
    "            return 0\n",
    "        except:\n",
    "            print(\"\\033[31mErro: por favor, digite um valor inteiro válido!\\033[m\")\n",
    "    return n\n",
    "\n",
    "\n",
    "inteiro = leiaInt(\"Digite um valor inteiro: \")\n",
    "real = leiaFloat(\"Digite um valor real: \")\n",
    "print(f\"O valor inteiro digitado foi {inteiro} e o real foi {real:.2f}\")"
   ]
  },
  {
   "cell_type": "code",
   "execution_count": null,
   "id": "275e8807",
   "metadata": {},
   "outputs": [],
   "source": []
  }
 ],
 "metadata": {
  "kernelspec": {
   "display_name": "Python 3 (ipykernel)",
   "language": "python",
   "name": "python3"
  },
  "language_info": {
   "codemirror_mode": {
    "name": "ipython",
    "version": 3
   },
   "file_extension": ".py",
   "mimetype": "text/x-python",
   "name": "python",
   "nbconvert_exporter": "python",
   "pygments_lexer": "ipython3",
   "version": "3.9.7"
  }
 },
 "nbformat": 4,
 "nbformat_minor": 5
}
