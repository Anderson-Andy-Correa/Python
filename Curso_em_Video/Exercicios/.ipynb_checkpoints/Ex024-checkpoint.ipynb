{
 "cells": [
  {
   "cell_type": "code",
   "execution_count": 9,
   "id": "30bebaaf",
   "metadata": {},
   "outputs": [
    {
     "name": "stdout",
     "output_type": "stream",
     "text": [
      "Digite um nome de uma cidade:     SaNtoS m\n",
      "A cidade     SaNtoS m começa com o nome \"Santo\"? True\n"
     ]
    }
   ],
   "source": [
    "#Crie um programa que leia o nome de uma cidade diga se ela começa ou não com o nome “SANTO”.\n",
    "name = input(\"Digite um nome de uma cidade: \")\n",
    "upper = name.upper()\n",
    "noSpace = \"\".join(upper.split())\n",
    "find = noSpace.find(\"SANTO\")\n",
    "print(f'A cidade começa com o nome \"Santo\"? {find>=0}')"
   ]
  },
  {
   "cell_type": "code",
   "execution_count": null,
   "id": "4fc20c53",
   "metadata": {},
   "outputs": [],
   "source": []
  }
 ],
 "metadata": {
  "kernelspec": {
   "display_name": "Python 3 (ipykernel)",
   "language": "python",
   "name": "python3"
  },
  "language_info": {
   "codemirror_mode": {
    "name": "ipython",
    "version": 3
   },
   "file_extension": ".py",
   "mimetype": "text/x-python",
   "name": "python",
   "nbconvert_exporter": "python",
   "pygments_lexer": "ipython3",
   "version": "3.9.7"
  }
 },
 "nbformat": 4,
 "nbformat_minor": 5
}
