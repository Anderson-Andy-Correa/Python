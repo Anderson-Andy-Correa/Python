{
 "cells": [
  {
   "cell_type": "code",
   "execution_count": 1,
   "id": "ef6413c4",
   "metadata": {},
   "outputs": [
    {
     "name": "stdout",
     "output_type": "stream",
     "text": [
      "Qual a largura em metros da parede? 2\n",
      "Qual a altura em metros da parede? 3\n",
      "A quantidade de tinta para pintar uma parede de 6.0m2 será de 3.0 litros.\n"
     ]
    }
   ],
   "source": [
    "#Crie um programa que leia quanto dinheiro uma pessoa tem na carteira e mostre quantos dólares ela pode comprar.\n",
    "\n",
    "largura = float(input(\"Qual a largura em metros da parede? \"))\n",
    "altura = float(input(\"Qual a altura em metros da parede? \"))\n",
    "print(f\"A quantidade de tinta para pintar uma parede de {largura * altura}m² será de {(largura *altura) / 2} litros.\")"
   ]
  },
  {
   "cell_type": "code",
   "execution_count": null,
   "id": "75eff085",
   "metadata": {},
   "outputs": [],
   "source": []
  }
 ],
 "metadata": {
  "kernelspec": {
   "display_name": "Python 3 (ipykernel)",
   "language": "python",
   "name": "python3"
  },
  "language_info": {
   "codemirror_mode": {
    "name": "ipython",
    "version": 3
   },
   "file_extension": ".py",
   "mimetype": "text/x-python",
   "name": "python",
   "nbconvert_exporter": "python",
   "pygments_lexer": "ipython3",
   "version": "3.9.7"
  }
 },
 "nbformat": 4,
 "nbformat_minor": 5
}
