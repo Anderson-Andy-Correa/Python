{
 "cells": [
  {
   "cell_type": "code",
   "execution_count": null,
   "id": "7be23b62",
   "metadata": {},
   "outputs": [],
   "source": [
    "#\n",
    "\n",
    "from random import randint\n",
    "from time import sleep\n",
    "\n",
    "print('-'*30)\n",
    "print(f'{\"JOGA NA MEGA SENA\":^30}')\n",
    "print('-'*30)\n",
    "\n",
    "vezes = int(input('Quantos jogos você quer que eu sorteie? '))\n",
    "print(f'{f\" SORTEANDO {vezes} JOGOS \":-^30}')\n",
    "chute = []\n",
    "\n",
    "for c in range(0, vezes):\n",
    "    for n in range(0, 6):\n",
    "        num = randint(1, 60)\n",
    "        while num in chute:\n",
    "            num = randint(1, 60)\n",
    "        chute.append(num)\n",
    "    print(f'Jogo {c+1}: {chute}')\n",
    "    chute.clear()\n",
    "    sleep(1)\n",
    "print(f'{f\" < BOA SORTE! > \":-^30}')"
   ]
  }
 ],
 "metadata": {
  "kernelspec": {
   "display_name": "Python 3 (ipykernel)",
   "language": "python",
   "name": "python3"
  },
  "language_info": {
   "codemirror_mode": {
    "name": "ipython",
    "version": 3
   },
   "file_extension": ".py",
   "mimetype": "text/x-python",
   "name": "python",
   "nbconvert_exporter": "python",
   "pygments_lexer": "ipython3",
   "version": "3.9.7"
  }
 },
 "nbformat": 4,
 "nbformat_minor": 5
}
