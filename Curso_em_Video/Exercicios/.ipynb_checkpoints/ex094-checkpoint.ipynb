{
 "cells": [
  {
   "cell_type": "code",
   "execution_count": 41,
   "id": "6e97db30",
   "metadata": {},
   "outputs": [
    {
     "name": "stdout",
     "output_type": "stream",
     "text": [
      "Nome: Ana\n",
      "Sexo: [M/F] f\n",
      "Idade: 22\n",
      "Quer continuar? [S/N] s\n",
      "Nome: Pedro\n",
      "Sexo: [M/F] h\n",
      "ERRO! Por favor, digite apenas M ou F. \n",
      "Sexo: [M/F] m\n",
      "Idade: 43\n",
      "Quer continuar? [S/N] d\n",
      "ERRO! Responda apenas S ou N \n",
      "Quer continuar? [S/N]s\n",
      "Nome: Geovani\n",
      "Sexo: [M/F] m\n",
      "Idade: 23\n",
      "Quer continuar? [S/N] s\n",
      "Nome: Paula\n",
      "Sexo: [M/F] f\n",
      "Idade: 41\n",
      "Quer continuar? [S/N] n\n",
      "-=-=-=-=-=-=-=-=-=-=-=-=-=-=-=-=-=-=-=-=-=-=-=-=-=-=-=-=-=-=\n",
      "→ O grupo tem 4 pessoas.\n",
      "→ A média de idade é de 32.25 anos\n",
      "→ As mulheres cadastradas foram: Ana Paula \n",
      "→ Lista de pessoas que estão acima da média: \n",
      "\n",
      "nome = Pedro; sexo = M; idade = 43;\n",
      "\n",
      "nome = Paula; sexo = F; idade = 41;\n",
      "<< ENCERRANDO >>\n"
     ]
    }
   ],
   "source": [
    "# Crie um programa que leia nome, sexo e idade de várias pessoas, guardando os dados de cada pessoa em um dicionário e todos os dicionários em uma lista. \n",
    "# No final, mostre: \n",
    "# A) Quantas pessoas foram cadastradas \n",
    "# B) A média de idade \n",
    "# C) Uma lista com as mulheres \n",
    "# D) Uma lista de pessoas com idade acima da média\n",
    "\n",
    "\n",
    "dic = {}\n",
    "lista = []\n",
    "media = 0\n",
    "\n",
    "while True:\n",
    "    dic['nome'] = input('Nome: ').strip().capitalize()\n",
    "    dic['sexo'] = input('Sexo: [M/F] ').strip().upper()[0]\n",
    "    while dic['sexo'] not in 'MF':\n",
    "        dic['sexo'] = input('ERRO! Por favor, digite apenas M ou F. \\nSexo: [M/F] ').strip().upper()[0]\n",
    "    dic['idade'] = int(input('Idade: '))\n",
    "    media += dic['idade']\n",
    "    lista.append(dic.copy())\n",
    "    r = input('Quer continuar? [S/N] ').strip().upper()[0]\n",
    "    while r not in 'SN':\n",
    "        r = input('ERRO! Responda apenas S ou N \\nQuer continuar? [S/N]').strip().upper()[0]\n",
    "    if r == 'N':\n",
    "        break\n",
    "print('-='*30)\n",
    "print(f'A) Ao todo temos {len(lista)} pessoas.')\n",
    "print(f'B) A média de idade é de {(media/len(lista)):.2f} anos')\n",
    "print(f'C) As mulheres cadastradas foram:', end=' ')\n",
    "for c in lista:\n",
    "    for k, v in c.items():\n",
    "        if k == 'sexo' and v == 'F':\n",
    "            print(c['nome'], end=' ')\n",
    "print()\n",
    "print(f'D) Lista de pessoas que estão acima da média: ')\n",
    "for c in lista:\n",
    "    for k, v in c.items():\n",
    "        if k == 'idade':\n",
    "            if v > (media/len(lista)):\n",
    "                print(f'nome = {c[\"nome\"]}; sexo = {c[\"sexo\"]}; idade = {c[\"idade\"]};')\n",
    "print('<< ENCERRANDO >>')"
   ]
  }
 ],
 "metadata": {
  "kernelspec": {
   "display_name": "Python 3 (ipykernel)",
   "language": "python",
   "name": "python3"
  },
  "language_info": {
   "codemirror_mode": {
    "name": "ipython",
    "version": 3
   },
   "file_extension": ".py",
   "mimetype": "text/x-python",
   "name": "python",
   "nbconvert_exporter": "python",
   "pygments_lexer": "ipython3",
   "version": "3.9.7"
  }
 },
 "nbformat": 4,
 "nbformat_minor": 5
}
