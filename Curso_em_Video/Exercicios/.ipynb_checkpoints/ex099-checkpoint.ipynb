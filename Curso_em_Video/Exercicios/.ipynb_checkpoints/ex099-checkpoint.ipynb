{
 "cells": [
  {
   "cell_type": "code",
   "execution_count": 18,
   "id": "33164877",
   "metadata": {},
   "outputs": [
    {
     "name": "stdout",
     "output_type": "stream",
     "text": [
      "Analizando os valores passados...\n",
      "5 8 2 3 3 9 \n",
      "Foram informados 6 valores ao todo.\n",
      "O maior valor informado foi 9\n",
      "-=-=-=-=-=-=-=-=-=-=-=-=-=-=-=\n",
      "Analizando os valores passados...\n",
      "8 5 3 \n",
      "Foram informados 3 valores ao todo.\n",
      "O maior valor informado foi 8\n",
      "-=-=-=-=-=-=-=-=-=-=-=-=-=-=-=\n",
      "Analizando os valores passados...\n",
      "0 8 \n",
      "Foram informados 2 valores ao todo.\n",
      "O maior valor informado foi 8\n",
      "-=-=-=-=-=-=-=-=-=-=-=-=-=-=-=\n",
      "Analizando os valores passados...\n",
      "9 \n",
      "Foram informados 1 valores ao todo.\n",
      "O maior valor informado foi 9\n",
      "-=-=-=-=-=-=-=-=-=-=-=-=-=-=-=\n",
      "Analizando os valores passados...\n",
      "\n",
      "Foram informados 0 valores ao todo.\n",
      "O maior valor informado foi 0\n",
      "-=-=-=-=-=-=-=-=-=-=-=-=-=-=-=\n"
     ]
    }
   ],
   "source": [
    "# Faça um programa que tenha uma função chamada maior(), que receba vários parâmetros com valores inteiros. \n",
    "# Seu programa tem que analisar todos os valores e dizer qual deles é o maior.\n",
    "\n",
    "from random import randint\n",
    "from time import sleep\n",
    "\n",
    "def maior(lista, vezes):\n",
    "    print('Analizando os valores passados...')\n",
    "    for vez in range(0, vezes):\n",
    "        lista.append(randint(0, 9))\n",
    "        print(lista[vez], end=' ')\n",
    "        sleep(0.5)\n",
    "    print()\n",
    "    print(f'Foram informados {len(lista)} valores ao todo.')\n",
    "    if len(lista) != 0:\n",
    "        print(f'O maior valor informado foi {max(lista)}')\n",
    "    else:\n",
    "        print(f'O maior valor informado foi {len(lista)}')\n",
    "    lista.clear()\n",
    "    print('-='*15)\n",
    "    \n",
    "\n",
    "lista = []\n",
    "\n",
    "for n in range(5, 0, -1):\n",
    "    if n == 5:\n",
    "        vezes = n + 1\n",
    "    else:\n",
    "        vezes = n - 1\n",
    "    maior(lista, vezes)\n"
   ]
  }
 ],
 "metadata": {
  "kernelspec": {
   "display_name": "Python 3 (ipykernel)",
   "language": "python",
   "name": "python3"
  },
  "language_info": {
   "codemirror_mode": {
    "name": "ipython",
    "version": 3
   },
   "file_extension": ".py",
   "mimetype": "text/x-python",
   "name": "python",
   "nbconvert_exporter": "python",
   "pygments_lexer": "ipython3",
   "version": "3.9.7"
  }
 },
 "nbformat": 4,
 "nbformat_minor": 5
}
