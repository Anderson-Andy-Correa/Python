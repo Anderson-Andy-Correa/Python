{
 "cells": [
  {
   "cell_type": "code",
   "execution_count": 8,
   "id": "8b5ea105",
   "metadata": {},
   "outputs": [
    {
     "name": "stdout",
     "output_type": "stream",
     "text": [
      "Digite o 1º número: 2\n",
      "Digite o 2º número: 5\n",
      "Digite o 3º número: 91\n",
      "Digite o 4º número: 5\n",
      "Digite o 5º número: 55\n",
      "Digite o 6º número: 5\n",
      "Você digitou 1 número par e sendo essa o número 2.\n"
     ]
    }
   ],
   "source": [
    "#Desenvolva um programa que leia seis números inteiros e mostre a soma apenas daqueles que forem pares. Se o valor digitado for ímpar, desconsidere-o.\n",
    "\n",
    "s = 0\n",
    "i = 0\n",
    "for lista in range(1, 7):\n",
    "    n = int(input(f'Digite o {lista}º número: '))\n",
    "    if n % 2 == 0:\n",
    "        s = s + n\n",
    "        i = i + 1\n",
    "        \n",
    "if i == 0:\n",
    "    print('Nenhum numero par foi informado.')\n",
    "elif i == 1:\n",
    "    print(f'Você digitou {i} número par sendo essa o número {s}.')\n",
    "elif i > 1:\n",
    "    print(f'Você digitou {i} números pares e a soma foi {s}.')\n",
    "    "
   ]
  },
  {
   "cell_type": "code",
   "execution_count": null,
   "id": "1b48764b",
   "metadata": {},
   "outputs": [],
   "source": []
  }
 ],
 "metadata": {
  "kernelspec": {
   "display_name": "Python 3 (ipykernel)",
   "language": "python",
   "name": "python3"
  },
  "language_info": {
   "codemirror_mode": {
    "name": "ipython",
    "version": 3
   },
   "file_extension": ".py",
   "mimetype": "text/x-python",
   "name": "python",
   "nbconvert_exporter": "python",
   "pygments_lexer": "ipython3",
   "version": "3.9.7"
  }
 },
 "nbformat": 4,
 "nbformat_minor": 5
}
