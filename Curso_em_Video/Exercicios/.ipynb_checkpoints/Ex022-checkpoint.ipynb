{
 "cells": [
  {
   "cell_type": "code",
   "execution_count": 11,
   "id": "9db7ba8d",
   "metadata": {},
   "outputs": [
    {
     "name": "stdout",
     "output_type": "stream",
     "text": [
      "Qual é o seu nome?    Cinco   Cinco\n",
      "Com o nome de    Cinco   Cinco:\n",
      "Com todas as letras maiúsculas ficaria:    CINCO   CINCO\n",
      "Com todas as letras minúsculas ficaria:   cinco   cinco\n",
      "Possui 10 letras ao todo;\n",
      "Só no primeiro nome tem 5 letras.\n"
     ]
    }
   ],
   "source": [
    "#Crie um programa que leia o nome completo de uma pessoa e mostre:\n",
    "#– O nome com todas as letras maiúsculas e minúsculas.\n",
    "#– Quantas letras ao todo (sem considerar espaços).\n",
    "#– Quantas letras tem o primeiro nome.\n",
    "name = input(\"Qual é o seu nome? \")\n",
    "print(f\"\"\"Com o nome de {name}:\n",
    "Com todas as letras maiúsculas ficaria: {name.upper()}\n",
    "Com todas as letras minúsculas ficaria:{name.lower()}\n",
    "Possui {len(''.join(name.split()))} letras ao todo;\n",
    "Só no primeiro nome tem {len(name.split()[0])} letras.\"\"\")"
   ]
  },
  {
   "cell_type": "code",
   "execution_count": null,
   "id": "bcc9b92c",
   "metadata": {},
   "outputs": [],
   "source": []
  }
 ],
 "metadata": {
  "kernelspec": {
   "display_name": "Python 3 (ipykernel)",
   "language": "python",
   "name": "python3"
  },
  "language_info": {
   "codemirror_mode": {
    "name": "ipython",
    "version": 3
   },
   "file_extension": ".py",
   "mimetype": "text/x-python",
   "name": "python",
   "nbconvert_exporter": "python",
   "pygments_lexer": "ipython3",
   "version": "3.9.7"
  }
 },
 "nbformat": 4,
 "nbformat_minor": 5
}
