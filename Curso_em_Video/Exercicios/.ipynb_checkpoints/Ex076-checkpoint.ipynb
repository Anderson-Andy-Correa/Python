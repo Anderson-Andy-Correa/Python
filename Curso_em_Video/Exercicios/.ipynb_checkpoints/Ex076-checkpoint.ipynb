{
 "cells": [
  {
   "cell_type": "code",
   "execution_count": 19,
   "id": "434cb90d",
   "metadata": {
    "scrolled": true
   },
   "outputs": [
    {
     "name": "stdout",
     "output_type": "stream",
     "text": [
      "----------------------------------------\n",
      "           LISTAGEM DE PREÇOS           \n",
      "----------------------------------------\n",
      "Lápis.........................R$   1.75\n",
      "Borracha......................R$   2.00\n",
      "Caderno.......................R$  15.00\n",
      "Estojo........................R$  25.00\n",
      "Transferidor..................R$   4.20\n",
      "Compasso......................R$   9.99\n",
      "Mochila.......................R$ 120.32\n",
      "Canetas.......................R$  22.30\n",
      "Livro.........................R$  34.90\n",
      "----------------------------------------\n"
     ]
    }
   ],
   "source": [
    "#\n",
    "\n",
    "lista = ('Lápis', 1.75, 'Borracha', 2, 'Caderno', 15, 'Estojo', 25, 'Transferidor', 4.2, 'Compasso', 9.99, 'Mochila', 120.32, 'Canetas', 22.3, 'Livro', 34.9)\n",
    "\n",
    "print('-'*40)\n",
    "print('{:^40}'.format('LISTAGEM DE PREÇOS'))\n",
    "print('-'*40)\n",
    "\n",
    "cont = 1\n",
    "for item in lista:\n",
    "    if cont % 2 != 0:\n",
    "        print('{:.<30}'.format(item), end='')\n",
    "    elif cont % 2 == 0:\n",
    "        print('R${:>7.2f}'.format(item))\n",
    "    cont +=1\n",
    "print('-'*40)"
   ]
  },
  {
   "cell_type": "code",
   "execution_count": null,
   "id": "3d8c1e02",
   "metadata": {},
   "outputs": [],
   "source": []
  }
 ],
 "metadata": {
  "kernelspec": {
   "display_name": "Python 3 (ipykernel)",
   "language": "python",
   "name": "python3"
  },
  "language_info": {
   "codemirror_mode": {
    "name": "ipython",
    "version": 3
   },
   "file_extension": ".py",
   "mimetype": "text/x-python",
   "name": "python",
   "nbconvert_exporter": "python",
   "pygments_lexer": "ipython3",
   "version": "3.9.7"
  }
 },
 "nbformat": 4,
 "nbformat_minor": 5
}
