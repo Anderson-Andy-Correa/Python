{
 "cells": [
  {
   "cell_type": "code",
   "execution_count": 2,
   "id": "1e84283e",
   "metadata": {},
   "outputs": [
    {
     "name": "stdout",
     "output_type": "stream",
     "text": [
      "Quer ver a tabuada de qual valor? 3\n",
      "------------------------------\n",
      "3 x  1 = 3\n",
      "3 x  2 = 6\n",
      "3 x  3 = 9\n",
      "3 x  4 = 12\n",
      "3 x  5 = 15\n",
      "3 x  6 = 18\n",
      "3 x  7 = 21\n",
      "3 x  8 = 24\n",
      "3 x  9 = 27\n",
      "3 x 10 = 30\n",
      "------------------------------\n",
      "Quer ver a tabuada de qual valor? -1\n"
     ]
    }
   ],
   "source": [
    "#\n",
    "\n",
    "n = soma = cont = 0\n",
    "\n",
    "while True:\n",
    "    n = int(input('Quer ver a tabuada de qual valor? ' ))\n",
    "    if n < 0:\n",
    "        break\n",
    "    print('-'*30)\n",
    "    while True:\n",
    "        if cont == 10:\n",
    "            break\n",
    "        cont += 1\n",
    "        soma += n\n",
    "        print(f'{n} x {cont:2} = {soma}')\n",
    "    print('-'*30)\n",
    "    cont = 0\n",
    "    soma = 0\n",
    "    "
   ]
  },
  {
   "cell_type": "code",
   "execution_count": null,
   "id": "d5f0daa1",
   "metadata": {},
   "outputs": [],
   "source": []
  }
 ],
 "metadata": {
  "kernelspec": {
   "display_name": "Python 3 (ipykernel)",
   "language": "python",
   "name": "python3"
  },
  "language_info": {
   "codemirror_mode": {
    "name": "ipython",
    "version": 3
   },
   "file_extension": ".py",
   "mimetype": "text/x-python",
   "name": "python",
   "nbconvert_exporter": "python",
   "pygments_lexer": "ipython3",
   "version": "3.9.7"
  }
 },
 "nbformat": 4,
 "nbformat_minor": 5
}
