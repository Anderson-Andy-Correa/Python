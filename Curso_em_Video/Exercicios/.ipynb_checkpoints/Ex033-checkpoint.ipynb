{
 "cells": [
  {
   "cell_type": "code",
   "execution_count": 1,
   "id": "a0d34037",
   "metadata": {},
   "outputs": [
    {
     "name": "stdout",
     "output_type": "stream",
     "text": [
      "Primeiro valor: 2\n",
      "Segundo valor: 5\n",
      "Terceiro valor: 9\n",
      "O menor valor digitado foi 2 \n",
      "O maior valor digitado foi 9\n"
     ]
    }
   ],
   "source": [
    "#Faça um programa que leia três números e mostre qual é o maior e qual é o menor.\n",
    "first = int(input('Primeiro valor: '))\n",
    "second = int(input('Segundo valor: '))\n",
    "third = int(input('Terceiro valor: '))\n",
    "#high = max([first, second, third])\n",
    "#low = min([first, second, third])\n",
    "low = first\n",
    "if second < first and second < third:\n",
    "    low = second\n",
    "if third < first and third < second:\n",
    "    low = third\n",
    "high = first\n",
    "if second > first and second > third:\n",
    "    high = second\n",
    "if third > first and third > second:\n",
    "    high = third\n",
    "print(f'O menor valor digitado foi {low} \\nO maior valor digitado foi {high}')"
   ]
  }
 ],
 "metadata": {
  "kernelspec": {
   "display_name": "Python 3 (ipykernel)",
   "language": "python",
   "name": "python3"
  },
  "language_info": {
   "codemirror_mode": {
    "name": "ipython",
    "version": 3
   },
   "file_extension": ".py",
   "mimetype": "text/x-python",
   "name": "python",
   "nbconvert_exporter": "python",
   "pygments_lexer": "ipython3",
   "version": "3.9.7"
  }
 },
 "nbformat": 4,
 "nbformat_minor": 5
}
