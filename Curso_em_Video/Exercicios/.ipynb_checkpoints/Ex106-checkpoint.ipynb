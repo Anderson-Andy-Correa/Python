{
 "cells": [
  {
   "cell_type": "code",
   "execution_count": null,
   "id": "81d3a233",
   "metadata": {},
   "outputs": [
    {
     "name": "stdout",
     "output_type": "stream",
     "text": [
      "\u001b[042m~~~~~~~~~~~~~~~~~~~~~~~~~~~\n",
      "  SISTEMA DE AJUDA PyHELP  \n",
      "~~~~~~~~~~~~~~~~~~~~~~~~~~~\n",
      "\u001b[mFunção ou biblioteca > help\n",
      "\u001b[044m~~~~~~~~~~~~~~~~~~~~~~~~~~~~~~~~~~~~~~~~\n",
      "  Acessando o manual do comando 'help'  \n",
      "~~~~~~~~~~~~~~~~~~~~~~~~~~~~~~~~~~~~~~~~\n",
      "\u001b[m\u001b[7mHelp on _Helper in module _sitebuiltins object:\n",
      "\n",
      "help = class _Helper(builtins.object)\n",
      " |  Define the builtin 'help'.\n",
      " |  \n",
      " |  This is a wrapper around pydoc.help that provides a helpful message\n",
      " |  when 'help' is typed at the Python interactive prompt.\n",
      " |  \n",
      " |  Calling help() at the Python prompt starts an interactive help session.\n",
      " |  Calling help(thing) prints help for the python object 'thing'.\n",
      " |  \n",
      " |  Methods defined here:\n",
      " |  \n",
      " |  __call__(self, *args, **kwds)\n",
      " |      Call self as a function.\n",
      " |  \n",
      " |  __repr__(self)\n",
      " |      Return repr(self).\n",
      " |  \n",
      " |  ----------------------------------------------------------------------\n",
      " |  Data descriptors defined here:\n",
      " |  \n",
      " |  __dict__\n",
      " |      dictionary for instance variables (if defined)\n",
      " |  \n",
      " |  __weakref__\n",
      " |      list of weak references to the object (if defined)\n",
      "\n",
      "\u001b[m\u001b[042m~~~~~~~~~~~~~~~~~~~~~~~~~~~\n",
      "  SISTEMA DE AJUDA PyHELP  \n",
      "~~~~~~~~~~~~~~~~~~~~~~~~~~~\n",
      "\u001b[m"
     ]
    }
   ],
   "source": [
    "#Faça um mini-sistema que utilize o Interactive Help do Python.\n",
    "# O usuário vai digitar o comando e o manual vai aparecer.\n",
    "# Quando o usuário digitar a palavra ‘FIM’, o programa se encerrará.\n",
    "#Importante: use cores.\n",
    "\n",
    "from time import sleep\n",
    "\n",
    "\n",
    "def bonito(texto, cor):\n",
    "    tamanho = len(texto)+4\n",
    "    print(f'\\033[{cor}m', end='')\n",
    "    print(f'~'*(tamanho))\n",
    "    print('{:^{tamanho}}'.format(texto, tamanho = tamanho))\n",
    "    print('~'*(tamanho))\n",
    "    print(f'\\033[m', end='')\n",
    "    sleep(1)\n",
    "\n",
    "def ajuda(fun):\n",
    "    bonito(f'Acessando o manual do comando \\'{fun}\\'', '044')\n",
    "    print(f'\\033[7m', end='')\n",
    "    help(fun)\n",
    "    print(f'\\033[m', end='')\n",
    "    sleep(2)\n",
    "    \n",
    "    \n",
    "while True:\n",
    "    bonito('SISTEMA DE AJUDA PyHELP', '042')\n",
    "    fun = input('Função ou biblioteca > ').strip()\n",
    "    if fun.upper() == 'FIM':\n",
    "        break\n",
    "    ajuda(fun)\n",
    "bonito('ATÉ LOGO', '041')"
   ]
  },
  {
   "cell_type": "code",
   "execution_count": 57,
   "id": "ca695f21",
   "metadata": {},
   "outputs": [
    {
     "name": "stdout",
     "output_type": "stream",
     "text": [
      "Help on _Helper in module _sitebuiltins object:\n",
      "\n",
      "class _Helper(builtins.object)\n",
      " |  Define the builtin 'help'.\n",
      " |  \n",
      " |  This is a wrapper around pydoc.help that provides a helpful message\n",
      " |  when 'help' is typed at the Python interactive prompt.\n",
      " |  \n",
      " |  Calling help() at the Python prompt starts an interactive help session.\n",
      " |  Calling help(thing) prints help for the python object 'thing'.\n",
      " |  \n",
      " |  Methods defined here:\n",
      " |  \n",
      " |  __call__(self, *args, **kwds)\n",
      " |      Call self as a function.\n",
      " |  \n",
      " |  __repr__(self)\n",
      " |      Return repr(self).\n",
      " |  \n",
      " |  ----------------------------------------------------------------------\n",
      " |  Data descriptors defined here:\n",
      " |  \n",
      " |  __dict__\n",
      " |      dictionary for instance variables (if defined)\n",
      " |  \n",
      " |  __weakref__\n",
      " |      list of weak references to the object (if defined)\n",
      "\n",
      "None "
     ]
    }
   ],
   "source": [
    "print(help(help), '', end='')"
   ]
  },
  {
   "cell_type": "code",
   "execution_count": null,
   "id": "99865fc7",
   "metadata": {},
   "outputs": [],
   "source": []
  }
 ],
 "metadata": {
  "kernelspec": {
   "display_name": "Python 3 (ipykernel)",
   "language": "python",
   "name": "python3"
  },
  "language_info": {
   "codemirror_mode": {
    "name": "ipython",
    "version": 3
   },
   "file_extension": ".py",
   "mimetype": "text/x-python",
   "name": "python",
   "nbconvert_exporter": "python",
   "pygments_lexer": "ipython3",
   "version": "3.9.7"
  }
 },
 "nbformat": 4,
 "nbformat_minor": 5
}
