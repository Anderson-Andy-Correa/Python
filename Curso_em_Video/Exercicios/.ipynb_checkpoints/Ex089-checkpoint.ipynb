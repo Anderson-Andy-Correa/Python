{
 "cells": [
  {
   "cell_type": "code",
   "execution_count": null,
   "id": "dce26e78",
   "metadata": {},
   "outputs": [
    {
     "name": "stdout",
     "output_type": "stream",
     "text": [
      "Nome: lp\n",
      "Nota 1: 5\n",
      "Nota 2: 6\n",
      "Quer continuar? [S/N]s\n",
      "Nome: ij\n",
      "Nota 1: 8\n",
      "Nota 2: 9\n",
      "Quer continuar? [S/N]n\n",
      "-=-=-=-=-=-=-=-=-=-=-=-=-=-=-=-=-=-=-=-=-=-=-=-=-=-=-=-=-=-=\n",
      "No.  NOME           MÉDIA\n",
      "------------------------------\n",
      "0    NOME           MÉDIA\n",
      "1    NOME           MÉDIA\n",
      "------------------------------\n",
      "Mostrar notas de qual aluno? (999 interrompe): 1\n",
      "Notas de Maria são Notas.\n",
      "[[[], [], []], [[], [], []]]\n"
     ]
    }
   ],
   "source": [
    "#\n",
    "\n",
    "media = []\n",
    "notas = []\n",
    "nome = []\n",
    "listaAux = [nome, notas, media]\n",
    "lista = []\n",
    "cont = 0\n",
    "\n",
    "while True:\n",
    "    aluno = input('Nome: ').strip().capitalize()\n",
    "    n1 = float(input('Nota 1: '))\n",
    "    n2 = float(input('Nota 2: '))\n",
    "    nome.append(aluno)\n",
    "    notas.append([n1, n2])\n",
    "    media.append((n1 + n2)/2)\n",
    "    lista.append(listaAux[:])\n",
    "    media.clear()\n",
    "    notas.clear()\n",
    "    nome.clear()\n",
    "    listaAux.clear()\n",
    "    listaAux = [nome, notas, media]\n",
    "    cont += 1\n",
    "    \n",
    "    continua = input('Quer continuar? [S/N]').strip().upper()[0]\n",
    "    while continua not in 'SN':\n",
    "        continua = input('Resposta inválida, tente novamente. \\nQuer continuar? [S/N] ').strip().upper()[0]\n",
    "    if continua in 'N':\n",
    "        break\n",
    "print('-='*30)\n",
    "print(f'{f\"No.\":<5}', end='')\n",
    "print(f'{f\"NOME\":<15}', end='')\n",
    "print(f'{f\"MÉDIA\":>5}')\n",
    "print('-'*30)\n",
    "for c in range(0, cont):\n",
    "    print(f'{f\"{c}\":<5}', end='')\n",
    "    print(f'{f\"NOME\":<15}', end='')\n",
    "    print(f'{f\"MÉDIA\":>5}',)\n",
    "print('-'*30)\n",
    "\n",
    "while True:\n",
    "    show = int(input('Mostrar notas de qual aluno? (999 interrompe): '))\n",
    "    if show == 999:\n",
    "        break\n",
    "    print(f'Notas de {\"Maria\"} são {\"Notas\"}.')\n",
    "    print(lista)"
   ]
  },
  {
   "cell_type": "code",
   "execution_count": null,
   "id": "652f47d5",
   "metadata": {},
   "outputs": [],
   "source": []
  }
 ],
 "metadata": {
  "kernelspec": {
   "display_name": "Python 3 (ipykernel)",
   "language": "python",
   "name": "python3"
  },
  "language_info": {
   "codemirror_mode": {
    "name": "ipython",
    "version": 3
   },
   "file_extension": ".py",
   "mimetype": "text/x-python",
   "name": "python",
   "nbconvert_exporter": "python",
   "pygments_lexer": "ipython3",
   "version": "3.9.7"
  }
 },
 "nbformat": 4,
 "nbformat_minor": 5
}
