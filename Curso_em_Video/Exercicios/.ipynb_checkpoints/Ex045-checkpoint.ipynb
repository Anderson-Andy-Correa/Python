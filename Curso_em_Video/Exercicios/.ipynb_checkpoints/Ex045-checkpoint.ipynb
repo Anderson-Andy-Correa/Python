{
 "cells": [
  {
   "cell_type": "code",
   "execution_count": null,
   "id": "1b4ca16b",
   "metadata": {},
   "outputs": [
    {
     "name": "stdout",
     "output_type": "stream",
     "text": [
      "-=-=-=-=-=-=-=-=-=-=-=-= \n",
      "[ 1 ] PEDRA \n",
      "[ 2 ] PAPEL \n",
      "[ 3 ] TESOURA\n",
      " -=-=-=-=-=-=-=-=-=-=-=-=\n"
     ]
    }
   ],
   "source": [
    "#Crie um programa que faça o computador jogar Jokenpô com você.\n",
    "from random import randint\n",
    "Sfrom time import sleep\n",
    "\n",
    "print('-=' * 12, \"\\n[ 1 ] PEDRA \\n[ 2 ] PAPEL \\n[ 3 ] TESOURA\\n\", '-=' * 12)\n",
    "\n",
    "play = int(input('Sua Opção: '))\n",
    "\n",
    "if play in [0, 1, 2]:\n",
    "    pc = randint(0, 2)\n",
    "    options = ['PEDRA', 'PAPEL', 'TESOURA']\n",
    "\n",
    "    print('JO')\n",
    "    sleep(1)\n",
    "    print('KEN')\n",
    "    sleep(1)\n",
    "    print('PÔ')\n",
    "\n",
    "    print(f'Sua escolha foi {options[play]}. \\n E a escolha do Computador foi {options[pc]}')\n",
    "\n",
    "    if play == pc:\n",
    "        print('EMPATE!')\n",
    "    elif play == 0 and pc == 2:\n",
    "        print('VITÒRIA!')\n",
    "    elif play == 1 and pc == 0:\n",
    "        print('VITÓRIA!')\n",
    "    elif play == 2 and pc == 1:\n",
    "        print('VITÓRIA!')\n",
    "    else:\n",
    "        print('DERROTA!')\n",
    "\n",
    "else:\n",
    "    print('Escolha inválida, tente novamente.')"
   ]
  },
  {
   "cell_type": "code",
   "execution_count": null,
   "id": "795f799d",
   "metadata": {},
   "outputs": [],
   "source": []
  }
 ],
 "metadata": {
  "kernelspec": {
   "display_name": "Python 3 (ipykernel)",
   "language": "python",
   "name": "python3"
  },
  "language_info": {
   "codemirror_mode": {
    "name": "ipython",
    "version": 3
   },
   "file_extension": ".py",
   "mimetype": "text/x-python",
   "name": "python",
   "nbconvert_exporter": "python",
   "pygments_lexer": "ipython3",
   "version": "3.9.7"
  }
 },
 "nbformat": 4,
 "nbformat_minor": 5
}
