{
 "cells": [
  {
   "cell_type": "code",
   "execution_count": 18,
   "id": "0083bb86",
   "metadata": {},
   "outputs": [
    {
     "name": "stdout",
     "output_type": "stream",
     "text": [
      "Digite uma frase: anotaram a data da maratona\n",
      "O inverso de ANOTARAMADATADAMARATONA é ANOTARAMADATADAMARATONA\n",
      "Temos um palíndromo.\n"
     ]
    }
   ],
   "source": [
    "'''Crie um programa que leia uma frase qualquer e diga se ela é um palíndromo, desconsiderando os espaços. Exemplos de palíndromos:\n",
    "\n",
    "APOS A SOPA, A SACADA DA CASA, A TORRE DA DERROTA, O LOBO AMA O BOLO, ANOTARAM A DATA DA MARATONA.\n",
    "'''\n",
    "\n",
    "\"\"\"f = input('Digite uma frase: ').strip().upper().replace(' ', '')\n",
    "r = ''\n",
    "for i in range(len(f)-1, -1, -1):\n",
    "    r = r + f[i]\n",
    "print(f'O inverso de {f} é {r}')\n",
    "if f == r:\n",
    "    print('Temos um palíndromo.')\n",
    "else:\n",
    "    print('A frase digitada não é palíndromo.')\"\"\"\n",
    "\n",
    "f = input('Digite uma frase: ').strip().upper().replace(' ', '')\n",
    "r = f[::-1]\n",
    "print(f'O inverso de {f} é {r}')\n",
    "if f == r:\n",
    "    print('Temos um palíndromo.')\n",
    "else:\n",
    "    print('A frase digitada não é palíndromo.')"
   ]
  },
  {
   "cell_type": "code",
   "execution_count": null,
   "id": "ce42f4bb",
   "metadata": {},
   "outputs": [],
   "source": []
  }
 ],
 "metadata": {
  "kernelspec": {
   "display_name": "Python 3 (ipykernel)",
   "language": "python",
   "name": "python3"
  },
  "language_info": {
   "codemirror_mode": {
    "name": "ipython",
    "version": 3
   },
   "file_extension": ".py",
   "mimetype": "text/x-python",
   "name": "python",
   "nbconvert_exporter": "python",
   "pygments_lexer": "ipython3",
   "version": "3.9.7"
  }
 },
 "nbformat": 4,
 "nbformat_minor": 5
}
