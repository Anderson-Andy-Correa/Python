{
 "cells": [
  {
   "cell_type": "code",
   "execution_count": 6,
   "id": "a08ac888",
   "metadata": {},
   "outputs": [
    {
     "name": "stdout",
     "output_type": "stream",
     "text": [
      "Digite seu nome completo: Maria de Souza Anjos\n",
      "muito prazar em te conhecer!\n",
      "Seu primeiro nome é Maria\n",
      "E último é Anjos.\n"
     ]
    }
   ],
   "source": [
    "#Faça um programa que leia o nome completo de uma pessoa, mostrando em seguida o primeiro e o último nome separadamente.\n",
    "name = str(input('Digite seu nome completo: ')).strip()\n",
    "print(f'''muito prazar em te conhecer!\n",
    "Seu primeiro nome é {(name.split())[0].lower().title()}\n",
    "E último é {(name.split())[-1].lower().title()}.''')"
   ]
  },
  {
   "cell_type": "code",
   "execution_count": null,
   "id": "851da24f",
   "metadata": {},
   "outputs": [],
   "source": []
  }
 ],
 "metadata": {
  "kernelspec": {
   "display_name": "Python 3 (ipykernel)",
   "language": "python",
   "name": "python3"
  },
  "language_info": {
   "codemirror_mode": {
    "name": "ipython",
    "version": 3
   },
   "file_extension": ".py",
   "mimetype": "text/x-python",
   "name": "python",
   "nbconvert_exporter": "python",
   "pygments_lexer": "ipython3",
   "version": "3.9.7"
  }
 },
 "nbformat": 4,
 "nbformat_minor": 5
}
