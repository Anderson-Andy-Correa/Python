{
 "cells": [
  {
   "cell_type": "code",
   "execution_count": 11,
   "id": "995ecd5a",
   "metadata": {},
   "outputs": [
    {
     "name": "stdout",
     "output_type": "stream",
     "text": [
      "--------------------\n",
      "Qual ano você nasceu? 2000\n",
      "Com 22 anos: VOTO OBRIGATÓRIO.\n"
     ]
    }
   ],
   "source": [
    "#  Crie um programa que tenha uma função chamada voto() que vai receber como parâmetro:\n",
    "# O ano de nascimento de uma pessoa\n",
    "# Retornando um valor literal indicando se uma pessoa tem voto NEGADO, OPCIONAL e OBRIGATÓRIO nas eleições.\n",
    "\n",
    "\n",
    "def voto(anoNasc=date.today().year):\n",
    "    from datetime import date\n",
    "    anoNasc = int(input('Qual ano você nasceu? '))\n",
    "    idade = date.today().year - anoNasc\n",
    "    if idade > 64 or 16 <= idade < 18:\n",
    "        sit = \"OPCIONAL\"\n",
    "    elif idade < 16:\n",
    "        sit = \"NEGADO\"\n",
    "    else:\n",
    "        sit = \"OBRIGATÓRIO\"\n",
    "    return print(f'Com {idade} anos: VOTO {sit}.')\n",
    "    \n",
    "print('-'*20)\n",
    "voto()"
   ]
  },
  {
   "cell_type": "code",
   "execution_count": 6,
   "id": "aafbd68d",
   "metadata": {},
   "outputs": [
    {
     "name": "stdout",
     "output_type": "stream",
     "text": [
      "2022\n"
     ]
    }
   ],
   "source": [
    "from datetime import date\n",
    "\n",
    "print(date.today().year)"
   ]
  },
  {
   "cell_type": "code",
   "execution_count": null,
   "id": "7c5d582f",
   "metadata": {},
   "outputs": [],
   "source": []
  }
 ],
 "metadata": {
  "kernelspec": {
   "display_name": "Python 3 (ipykernel)",
   "language": "python",
   "name": "python3"
  },
  "language_info": {
   "codemirror_mode": {
    "name": "ipython",
    "version": 3
   },
   "file_extension": ".py",
   "mimetype": "text/x-python",
   "name": "python",
   "nbconvert_exporter": "python",
   "pygments_lexer": "ipython3",
   "version": "3.9.7"
  }
 },
 "nbformat": 4,
 "nbformat_minor": 5
}
