{
 "cells": [
  {
   "cell_type": "code",
   "execution_count": null,
   "id": "4641bdf8",
   "metadata": {},
   "outputs": [],
   "source": [
    "# Crie um programa que vai ler vários números e colocar em uma lista.\n",
    "# Depois disso, mostre:\n",
    "# A) Quantos números foram digitados.\n",
    "# B) A lista de valores, ordenada de forma decrescente.\n",
    "# C) Se o valor 5 foi digitado e está ou não na lista.\n",
    "\n",
    "lista = list()\n",
    "listaReversa = lista[:]\n",
    "cont5 = 0\n",
    "\n",
    "while True:\n",
    "    n = int(input('Digite um número: '))\n",
    "    lista.append(n)\n",
    "    continua = input('Quer continuar? [S/N] ').strip().upper()[0]\n",
    "    while continua not in 'SN':\n",
    "        continua = input('Inserção inválida. Quer continuar? [S/N] ').strip().upper()[0]\n",
    "    if continua in 'N':\n",
    "        break\n",
    "listaReversa = lista[:]\n",
    "listaReversa.sort(reverse=True)\n",
    "\n",
    "print('-='*30)\n",
    "print(f'''Você digitou {len(lista)} elementos.\n",
    "Os valores em ordem decrescente são {listaReversa}''')\n",
    "if 5 in lista:\n",
    "    print('O valor 5 faz parte da lista! Nas posições reversas: ', end='')\n",
    "    for valor5 in listaReversa:\n",
    "        cont5 += 1\n",
    "        if valor5 == 5:\n",
    "            print(cont5, end=' ')\n",
    "else:\n",
    "    print('O valor 5 não foi encontrado na lista!')"
   ]
  }
 ],
 "metadata": {
  "kernelspec": {
   "display_name": "Python 3 (ipykernel)",
   "language": "python",
   "name": "python3"
  },
  "language_info": {
   "codemirror_mode": {
    "name": "ipython",
    "version": 3
   },
   "file_extension": ".py",
   "mimetype": "text/x-python",
   "name": "python",
   "nbconvert_exporter": "python",
   "pygments_lexer": "ipython3",
   "version": "3.9.7"
  }
 },
 "nbformat": 4,
 "nbformat_minor": 5
}
