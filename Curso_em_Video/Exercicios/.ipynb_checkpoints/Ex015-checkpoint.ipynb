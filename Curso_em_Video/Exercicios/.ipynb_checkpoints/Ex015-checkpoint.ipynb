{
 "cells": [
  {
   "cell_type": "code",
   "execution_count": 3,
   "id": "bceb58bd",
   "metadata": {},
   "outputs": [
    {
     "name": "stdout",
     "output_type": "stream",
     "text": [
      "Quantos Km rodados? 10\n",
      "Quantos dias rodados? 10\n",
      "Após 10 dias de uso, percorrendo 10.0km, o total a pagar é de R$601.5.\n"
     ]
    }
   ],
   "source": [
    "#Escreva um programa que pergunte a quantidade de Km percorridos por um carro alugado e a quantidade de dias pelos quais ele foi alugado. Calcule o preço a pagar, sabendo que o carro custa R$60 por dia e R$0,15 por Km rodado.\n",
    "Km = float(input(\"Quantos Km rodados? \"))\n",
    "Dias = int(input(\"Quantos dias rodados? \"))\n",
    "print(f\"Após {Dias} dias de uso, percorrendo {Km}km, o total a pagar é de R${Dias * 60 + Km * 0.15}.\")"
   ]
  }
 ],
 "metadata": {
  "kernelspec": {
   "display_name": "Python 3 (ipykernel)",
   "language": "python",
   "name": "python3"
  },
  "language_info": {
   "codemirror_mode": {
    "name": "ipython",
    "version": 3
   },
   "file_extension": ".py",
   "mimetype": "text/x-python",
   "name": "python",
   "nbconvert_exporter": "python",
   "pygments_lexer": "ipython3",
   "version": "3.9.7"
  }
 },
 "nbformat": 4,
 "nbformat_minor": 5
}
