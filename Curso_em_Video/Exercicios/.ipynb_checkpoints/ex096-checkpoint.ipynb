{
 "cells": [
  {
   "cell_type": "code",
   "execution_count": 7,
   "id": "1dd60b24",
   "metadata": {},
   "outputs": [
    {
     "name": "stdout",
     "output_type": "stream",
     "text": [
      "     Controle de terrenos     \n",
      "------------------------------\n",
      "LARGURA: (m) 4\n",
      "COMPRIMENTO:  (m) 5\n",
      "A área de um terreno de 4.0m x 5.0m é de 20.0m²\n"
     ]
    }
   ],
   "source": [
    "# Faça um programa que tenha uma função chamada área(), que receba as dimensões de um terreno retangular (largura e comprimento) e mostre a área do terreno.\n",
    "\n",
    "def area(largura, comprimento):\n",
    "    tam = largura * comprimento\n",
    "    print(f'A área de um terreno de {largura}m x {comprimento}m é de {tam}m²')\n",
    "\n",
    "    \n",
    "print(f'{\"Controle de terrenos\":^30}')\n",
    "print('-'*30)\n",
    "\n",
    "area(largura = float(input(f'{\"LARGURA: (m) \":<13}')), comprimento = float(input(f'{\"COMPRIMENTO:  (m) \":<13}')))"
   ]
  }
 ],
 "metadata": {
  "kernelspec": {
   "display_name": "Python 3 (ipykernel)",
   "language": "python",
   "name": "python3"
  },
  "language_info": {
   "codemirror_mode": {
    "name": "ipython",
    "version": 3
   },
   "file_extension": ".py",
   "mimetype": "text/x-python",
   "name": "python",
   "nbconvert_exporter": "python",
   "pygments_lexer": "ipython3",
   "version": "3.9.7"
  }
 },
 "nbformat": 4,
 "nbformat_minor": 5
}
