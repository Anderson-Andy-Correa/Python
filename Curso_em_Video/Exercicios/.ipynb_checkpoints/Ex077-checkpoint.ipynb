{
 "cells": [
  {
   "cell_type": "code",
   "execution_count": 8,
   "id": "4dbb6951",
   "metadata": {},
   "outputs": [
    {
     "name": "stdout",
     "output_type": "stream",
     "text": [
      "Digite um número entre 0 e 20: -1\n",
      "Tente novamente. Digite um número entre 0 e 20: 21\n",
      "Tente novamente. Digite um número entre 0 e 20: 0\n",
      "Você digitou o número zero.\n"
     ]
    }
   ],
   "source": [
    "# Crie um programa que tenha uma dupla totalmente preenchida com uma contagem por extenso, de zero até vinte. \n",
    "# Seu programa deverá ler um número pelo teclado (entre 0 e 20) e mostrá-lo por extenso.\n",
    "\n",
    "tupla = ('zero', 'um', 'dois', 'três', 'quatro', 'cinco', 'seis', 'sete', 'oito', 'nove', 'dez', 'onze', 'doze', 'treze', 'cartoze', 'quize', 'dezesseis', 'dezesete', 'dezoito', 'dezenove', 'vinte')\n",
    "\n",
    "\n",
    "while True:\n",
    "    n = int(input('Digite um número entre 0 e 20: '))\n",
    "    if 0 <= n <= 20:\n",
    "        break\n",
    "    print('Tente novamente.', end=' ')  \n",
    "print(f'Você digitou o número {tupla[n]}.')\n",
    "    "
   ]
  },
  {
   "cell_type": "code",
   "execution_count": null,
   "id": "02ce5804",
   "metadata": {},
   "outputs": [],
   "source": []
  }
 ],
 "metadata": {
  "kernelspec": {
   "display_name": "Python 3 (ipykernel)",
   "language": "python",
   "name": "python3"
  },
  "language_info": {
   "codemirror_mode": {
    "name": "ipython",
    "version": 3
   },
   "file_extension": ".py",
   "mimetype": "text/x-python",
   "name": "python",
   "nbconvert_exporter": "python",
   "pygments_lexer": "ipython3",
   "version": "3.9.7"
  }
 },
 "nbformat": 4,
 "nbformat_minor": 5
}
