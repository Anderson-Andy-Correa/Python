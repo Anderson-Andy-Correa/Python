{
 "cells": [
  {
   "cell_type": "code",
   "execution_count": null,
   "id": "0ee52e41",
   "metadata": {},
   "outputs": [],
   "source": [
    "# Crie um programa que vai ler vários números e colocar em uma lista.\n",
    "# Depois disso, crie duas listas extras que vão conter apenas os valores pares e os valores ímpares digitados, respectivamente.\n",
    "# Ao final, mostre o conteúdo das três listas geradas.\n",
    "\n",
    "lista = list()\n",
    "par = list()\n",
    "ímpar = list()\n",
    "\n",
    "while True:\n",
    "    n = int(input('Digite um número: '))\n",
    "    lista.append(n)\n",
    "    continuar = input('Quer continuar? [S/N} ').strip().upper()[0]\n",
    "    while continuar not in 'SN':\n",
    "        continuar = input('Opção inválida, tente novamente. QUer continuar? [S/N] ').strip().upper()[0]\n",
    "    if continuar in 'N':\n",
    "        break\n",
    "lista.sort()\n",
    "for item in lista:\n",
    "    if item % 2 == 0:\n",
    "        par.append(item)\n",
    "    else:\n",
    "        ímpar.append(item)\n",
    "print('-='*30)\n",
    "print(f'''A lista completa é {lista}\n",
    "A lista de pares é {par}\n",
    "A lista de Impares é {ímpar}''')"
   ]
  }
 ],
 "metadata": {
  "kernelspec": {
   "display_name": "Python 3 (ipykernel)",
   "language": "python",
   "name": "python3"
  },
  "language_info": {
   "codemirror_mode": {
    "name": "ipython",
    "version": 3
   },
   "file_extension": ".py",
   "mimetype": "text/x-python",
   "name": "python",
   "nbconvert_exporter": "python",
   "pygments_lexer": "ipython3",
   "version": "3.9.7"
  }
 },
 "nbformat": 4,
 "nbformat_minor": 5
}
