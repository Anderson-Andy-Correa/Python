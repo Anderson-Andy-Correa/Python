{
 "cells": [
  {
   "cell_type": "code",
   "execution_count": null,
   "id": "83145285",
   "metadata": {},
   "outputs": [],
   "source": [
    "# Crie um programa onde o usuário possa digitar vários valores numéricos e cadastre-os em uma lista.\n",
    "# Caso o número já exista lá dentro, ele não será adicionado.\n",
    "# No final, serão exibidos todos os valores únicos digitados, em ordem crescente.\n",
    "\n",
    "lista = list()\n",
    "while True:\n",
    "    valor = int(input('Digite um valor: '))\n",
    "    if valor in lista:\n",
    "        print('Valor duplicado! Não vou adicionar...')\n",
    "    else:\n",
    "        lista.append(valor)\n",
    "        print('Valor adicionado com sucesso...')\n",
    "    continuar = input('Quer continuar? [S/N}').strip().upper()[0]\n",
    "    while continuar not in 'SN':\n",
    "        continuar = input('Valor inválido. Quer continuar? [S/N}').strip().lower()[0]\n",
    "    if continuar in 'N':\n",
    "        break\n",
    "print('-='*20)\n",
    "lista.sort()\n",
    "print(f'Você digitou os valores {lista}')"
   ]
  }
 ],
 "metadata": {
  "kernelspec": {
   "display_name": "Python 3 (ipykernel)",
   "language": "python",
   "name": "python3"
  },
  "language_info": {
   "codemirror_mode": {
    "name": "ipython",
    "version": 3
   },
   "file_extension": ".py",
   "mimetype": "text/x-python",
   "name": "python",
   "nbconvert_exporter": "python",
   "pygments_lexer": "ipython3",
   "version": "3.9.7"
  }
 },
 "nbformat": 4,
 "nbformat_minor": 5
}
