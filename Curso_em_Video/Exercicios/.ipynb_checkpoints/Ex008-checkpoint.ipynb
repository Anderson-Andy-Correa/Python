{
 "cells": [
  {
   "cell_type": "code",
   "execution_count": 1,
   "id": "d302f760",
   "metadata": {},
   "outputs": [
    {
     "name": "stdout",
     "output_type": "stream",
     "text": [
      "Digite a medida em metros: 9\n",
      "Os valores convertidos são:\n",
      "0.009mm\n",
      "0.09cm\n",
      "0.9dm\n",
      "9.0m\n",
      "90.0am\n",
      "900.0hm\n",
      "9000.0km\n",
      "\n"
     ]
    }
   ],
   "source": [
    "#Escreva um programa que leia um valor em metros e o exiba convertido em centímetros e milímetros.\n",
    "m = float(input(\"Digite a medida em metros: \"))\n",
    "mm = m/1000\n",
    "cm = m/100\n",
    "dm = m/10\n",
    "m = m\n",
    "am = m*10\n",
    "hm = m*100\n",
    "km = m*1000\n",
    "print(f\"\"\"Os valores convertidos são:\n",
    "{mm}mm\n",
    "{cm}cm\n",
    "{dm}dm\n",
    "{m}m\n",
    "{am}am\n",
    "{hm}hm\n",
    "{km}km\n",
    "\"\"\")"
   ]
  },
  {
   "cell_type": "code",
   "execution_count": null,
   "id": "43bec3bf",
   "metadata": {},
   "outputs": [],
   "source": []
  }
 ],
 "metadata": {
  "kernelspec": {
   "display_name": "Python 3 (ipykernel)",
   "language": "python",
   "name": "python3"
  },
  "language_info": {
   "codemirror_mode": {
    "name": "ipython",
    "version": 3
   },
   "file_extension": ".py",
   "mimetype": "text/x-python",
   "name": "python",
   "nbconvert_exporter": "python",
   "pygments_lexer": "ipython3",
   "version": "3.9.7"
  }
 },
 "nbformat": 4,
 "nbformat_minor": 5
}
