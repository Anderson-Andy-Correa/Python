{
 "cells": [
  {
   "cell_type": "code",
   "execution_count": 7,
   "id": "13f47b13",
   "metadata": {},
   "outputs": [
    {
     "name": "stdout",
     "output_type": "stream",
     "text": [
      "A soma de todos os \u001b[34m83\u001b[m valores solicitados é \u001b[35m20667\u001b[m.\n"
     ]
    }
   ],
   "source": [
    "#Faça um programa que calcule a soma entre todos os números que são múltiplos de três e que se encontram no intervalo de 1 até 500.\n",
    "\n",
    "s = 0\n",
    "n = 0\n",
    "for int in range(0, 501, 3):\n",
    "    if int % 2 != 0:\n",
    "        s = s + int\n",
    "        n = n + 1\n",
    "    \n",
    "print(f'A soma de todos os \\033[34m{n}\\033[m valores solicitados é \\033[35m{s}\\033[m.')\n"
   ]
  }
 ],
 "metadata": {
  "kernelspec": {
   "display_name": "Python 3 (ipykernel)",
   "language": "python",
   "name": "python3"
  },
  "language_info": {
   "codemirror_mode": {
    "name": "ipython",
    "version": 3
   },
   "file_extension": ".py",
   "mimetype": "text/x-python",
   "name": "python",
   "nbconvert_exporter": "python",
   "pygments_lexer": "ipython3",
   "version": "3.9.7"
  }
 },
 "nbformat": 4,
 "nbformat_minor": 5
}
