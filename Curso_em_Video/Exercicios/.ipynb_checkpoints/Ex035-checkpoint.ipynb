{
 "cells": [
  {
   "cell_type": "code",
   "execution_count": 7,
   "id": "9f5a41a4",
   "metadata": {},
   "outputs": [
    {
     "name": "stdout",
     "output_type": "stream",
     "text": [
      "\u001b[33m-=\u001b[m\u001b[33m-=\u001b[m\u001b[33m-=\u001b[m\u001b[33m-=\u001b[m\u001b[33m-=\u001b[m\u001b[33m-=\u001b[m\u001b[33m-=\u001b[m\u001b[33m-=\u001b[m\u001b[33m-=\u001b[m\u001b[33m-=\u001b[m\u001b[33m-=\u001b[m\u001b[33m-=\u001b[m\u001b[33m-=\u001b[m\u001b[33m-=\u001b[m\u001b[33m-=\u001b[m\u001b[33m-=\u001b[m\u001b[33m-=\u001b[m\u001b[33m-=\u001b[m\u001b[33m-=\u001b[m\u001b[33m-=\u001b[m\u001b[33m-=\u001b[m\u001b[33m-=\u001b[m\u001b[33m-=\u001b[m\u001b[33m-=\u001b[m\u001b[33m-=\u001b[m\u001b[33m-=\u001b[m\u001b[33m-=\u001b[m\u001b[33m-=\u001b[m\u001b[33m-=\u001b[m\u001b[33m-=\u001b[m\u001b[33m-=\u001b[m\u001b[33m-=\u001b[m\u001b[33m-=\u001b[m\u001b[33m-=\u001b[m\u001b[33m-=\u001b[m\u001b[33m-=\u001b[m\u001b[33m-=\u001b[m\u001b[33m-=\u001b[m\u001b[33m-=\u001b[m\u001b[33m-=\u001b[m\n",
      "Analisador de Triângulos\n",
      "\u001b[33m-=\u001b[m\u001b[33m-=\u001b[m\u001b[33m-=\u001b[m\u001b[33m-=\u001b[m\u001b[33m-=\u001b[m\u001b[33m-=\u001b[m\u001b[33m-=\u001b[m\u001b[33m-=\u001b[m\u001b[33m-=\u001b[m\u001b[33m-=\u001b[m\u001b[33m-=\u001b[m\u001b[33m-=\u001b[m\u001b[33m-=\u001b[m\u001b[33m-=\u001b[m\u001b[33m-=\u001b[m\u001b[33m-=\u001b[m\u001b[33m-=\u001b[m\u001b[33m-=\u001b[m\u001b[33m-=\u001b[m\u001b[33m-=\u001b[m\u001b[33m-=\u001b[m\u001b[33m-=\u001b[m\u001b[33m-=\u001b[m\u001b[33m-=\u001b[m\u001b[33m-=\u001b[m\u001b[33m-=\u001b[m\u001b[33m-=\u001b[m\u001b[33m-=\u001b[m\u001b[33m-=\u001b[m\u001b[33m-=\u001b[m\u001b[33m-=\u001b[m\u001b[33m-=\u001b[m\u001b[33m-=\u001b[m\u001b[33m-=\u001b[m\u001b[33m-=\u001b[m\u001b[33m-=\u001b[m\u001b[33m-=\u001b[m\u001b[33m-=\u001b[m\u001b[33m-=\u001b[m\u001b[33m-=\u001b[m\n",
      "Primeiro segmento: 1\n",
      "Segundo segmento: 2\n",
      "Terceiro segmento: 3\n",
      "os segments acima NÃO PODEM FORMAR triângulo\n"
     ]
    }
   ],
   "source": [
    "#Desenvolva um programa que leia o comprimento de três retas e diga ao usuário se elas podem ou não formar um triângulo.\n",
    "print('\\033[33m-=\\033[m'*40)\n",
    "print('Analisador de Triângulos')\n",
    "print('\\033[33m-=\\033[m'*40)\n",
    "n1 = float(input('Primeiro segmento: '))\n",
    "n2 = float(input('Segundo segmento: '))\n",
    "n3 = float(input('Terceiro segmento: '))\n",
    "if (abs(n2-n3) < n1 < (n2 + n3)) and (abs(n1-n3) < n2 < (n1 + n3)) and (abs(n1-n2) < n3 < (n1 + n2)):\n",
    "    print('Os segmentos acima PODEM FORMAR triângulo!')\n",
    "else:\n",
    "    print('os segments acima NÃO PODEM FORMAR triângulo')\n"
   ]
  }
 ],
 "metadata": {
  "kernelspec": {
   "display_name": "Python 3 (ipykernel)",
   "language": "python",
   "name": "python3"
  },
  "language_info": {
   "codemirror_mode": {
    "name": "ipython",
    "version": 3
   },
   "file_extension": ".py",
   "mimetype": "text/x-python",
   "name": "python",
   "nbconvert_exporter": "python",
   "pygments_lexer": "ipython3",
   "version": "3.9.7"
  }
 },
 "nbformat": 4,
 "nbformat_minor": 5
}
