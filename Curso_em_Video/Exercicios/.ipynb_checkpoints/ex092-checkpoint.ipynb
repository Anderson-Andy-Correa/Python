{
 "cells": [
  {
   "cell_type": "code",
   "execution_count": 39,
   "id": "337b6d35",
   "metadata": {
    "scrolled": true
   },
   "outputs": [
    {
     "name": "stdout",
     "output_type": "stream",
     "text": [
      "Nome: Pedro\n",
      "Data de Nascimento: 2002\n",
      "Carteira de Trabalho (0 não tem): 0\n",
      "-=-=-=-=-=-=-=-=-=-=-=-=-=-=-=-=-=-=-=-=-=-=-=-=-=-=-=-=-=-=\n",
      "{'nome': 'Pedro', 'idade': 20, 'ctps': 0}\n",
      "nome tem o valor Pedro\n",
      "idade tem o valor 20\n",
      "ctps tem o valor 0\n"
     ]
    }
   ],
   "source": [
    "#\n",
    "\n",
    "from datetime import date\n",
    "\n",
    "dic = dict()\n",
    "dic['nome'] = input('Nome: ').strip().capitalize()\n",
    "dic['idade'] = (date.today().year) - int(input('Data de Nascimento: '))\n",
    "dic['ctps'] = int(input('Carteira de Trabalho (0 não tem): '))\n",
    "if dic['ctps'] > 0:\n",
    "    dic['contratação'] = int(input('Ano de Contratação: '))\n",
    "    dic['salário'] = float(input('Salário: R$ '))\n",
    "    dic['aposentadoria'] = dic['contratação'] + 35 - (date.today().year - dic['idade'])\n",
    "print('-='*30)\n",
    "print(dic)\n",
    "for k, v in dic.items():\n",
    "    print(f'{k} tem o valor {v}')\n"
   ]
  },
  {
   "cell_type": "code",
   "execution_count": null,
   "id": "f8df4296",
   "metadata": {},
   "outputs": [],
   "source": []
  }
 ],
 "metadata": {
  "kernelspec": {
   "display_name": "Python 3 (ipykernel)",
   "language": "python",
   "name": "python3"
  },
  "language_info": {
   "codemirror_mode": {
    "name": "ipython",
    "version": 3
   },
   "file_extension": ".py",
   "mimetype": "text/x-python",
   "name": "python",
   "nbconvert_exporter": "python",
   "pygments_lexer": "ipython3",
   "version": "3.9.7"
  }
 },
 "nbformat": 4,
 "nbformat_minor": 5
}
