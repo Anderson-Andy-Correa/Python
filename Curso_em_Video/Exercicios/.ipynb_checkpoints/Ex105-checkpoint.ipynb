{
 "cells": [
  {
   "cell_type": "code",
   "execution_count": 4,
   "id": "ba493849",
   "metadata": {
    "scrolled": true
   },
   "outputs": [
    {
     "name": "stdout",
     "output_type": "stream",
     "text": [
      "{'total': 10, 'maior': 10, 'menor': 0, 'media': 6.4, 'situacao': 'RAZOÁVEL'}\n",
      "{'total': 6, 'maior': 10, 'menor': 0, 'media': 5.0, 'situacao': 'RUIM'}\n",
      "{'total': 6, 'maior': 10, 'menor': 6, 'media': 7.833333333333333, 'situacao': 'BOA'}\n",
      "{'total': 9, 'maior': 10, 'menor': 1, 'media': 6.666666666666667, 'situacao': 'RAZOÁVEL'}\n",
      "{'total': 9, 'maior': 10, 'menor': 0, 'media': 5.333333333333333, 'situacao': 'RUIM'}\n",
      "{'total': 2, 'maior': 9, 'menor': 2, 'media': 5.5, 'situacao': 'RUIM'}\n",
      "{'total': 1, 'maior': 4, 'menor': 4, 'media': 4.0, 'situacao': 'RUIM'}\n",
      "{'total': 9, 'maior': 10, 'menor': 0, 'media': 5.333333333333333, 'situacao': 'RUIM'}\n",
      "{'total': 10, 'maior': 10, 'menor': 0, 'media': 6.2, 'situacao': 'RAZOÁVEL'}\n",
      "{'total': 1, 'maior': 6, 'menor': 6, 'media': 6.0, 'situacao': 'RAZOÁVEL'}\n"
     ]
    }
   ],
   "source": [
    "# Faça um programa que tenha uma função notas() que pode receber várias notas de alunos e vai retornar um dicionário com as seguintes informações:\n",
    "# – Quantidade de notas\n",
    "# – A maior nota\n",
    "# – A menor nota\n",
    "# – A média da turma\n",
    "# – A situação (opcional)\n",
    "\n",
    "from random import randint\n",
    "\n",
    "def notas(*n, sit=False):\n",
    "    '''    → Função para analisar notas e situações de vários alunos.\n",
    "    :param n: uma ou mais notas dos alunos [aceita várias].\n",
    "    :param sit: valor opcional, indicação se deve ou não adicionar a situação do aluno.\n",
    "    :return: dicionário com várias informações sobre a situação da turma.'''\n",
    "    dic = {}\n",
    "    dic['total'] = len(n[0])\n",
    "    dic['maior'] = max(n[0])\n",
    "    dic['menor'] = min(n[0])\n",
    "    dic['media'] = sum(n[0])/len(n[0])\n",
    "    if sit:\n",
    "        if dic['media'] >= 7:\n",
    "            dic['situacao'] = 'BOA'\n",
    "        elif dic['media'] >= 6:\n",
    "            dic['situacao'] = 'RAZOÁVEL'\n",
    "        else:\n",
    "            dic['situacao'] = 'RUIM'\n",
    "    return dic\n",
    "    \n",
    "# programa principal\n",
    "for c in range(0, 10):\n",
    "    lista = list()\n",
    "    for c in range(0, randint(1,10)):\n",
    "        lista.append(randint(0,10))\n",
    "\n",
    "    resp = notas(lista[:], sit=True)\n",
    "    print(resp)"
   ]
  },
  {
   "cell_type": "code",
   "execution_count": 65,
   "id": "6c85a977",
   "metadata": {},
   "outputs": [
    {
     "name": "stdout",
     "output_type": "stream",
     "text": [
      "Help on function notas in module __main__:\n",
      "\n",
      "notas(*n, sit=False)\n",
      "    → Função para analisar notas e situações de vários alunos.\n",
      "    :param n: uma ou mais notas dos alunos [aceita várias].\n",
      "    :param sit: valor opcional, indicação se deve ou não adicionar a situação do aluno.\n",
      "    :return: dicionário com várias informações sobre a situação da turma.\n",
      "\n"
     ]
    }
   ],
   "source": [
    "help(notas)"
   ]
  },
  {
   "cell_type": "code",
   "execution_count": null,
   "id": "fc65e9c7",
   "metadata": {},
   "outputs": [],
   "source": []
  }
 ],
 "metadata": {
  "kernelspec": {
   "display_name": "Python 3 (ipykernel)",
   "language": "python",
   "name": "python3"
  },
  "language_info": {
   "codemirror_mode": {
    "name": "ipython",
    "version": 3
   },
   "file_extension": ".py",
   "mimetype": "text/x-python",
   "name": "python",
   "nbconvert_exporter": "python",
   "pygments_lexer": "ipython3",
   "version": "3.9.7"
  }
 },
 "nbformat": 4,
 "nbformat_minor": 5
}
