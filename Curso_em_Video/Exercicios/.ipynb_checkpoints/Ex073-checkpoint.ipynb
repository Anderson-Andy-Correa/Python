{
 "cells": [
  {
   "cell_type": "code",
   "execution_count": 1,
   "id": "da98a5fa",
   "metadata": {},
   "outputs": [
    {
     "name": "stdout",
     "output_type": "stream",
     "text": [
      "-=-=-=-=-=-=-=-=-=-=-=-=-=-=-=-=-=-=-=-=\n",
      "Lista de times do Brasileirão: Atlético-MG, Flamengo, Palmeiras, Fortaleza, Corinthians, RB Bragantino, Fluminense, América-MG, Atlético-GO, Santos, Ceará, Internacional, São Paulo, Athletico-PR, Cuiabá, Juventude, Grêmio, Bahia, Sport e Chapecoense.\n",
      "-=-=-=-=-=-=-=-=-=-=-=-=-=-=-=-=-=-=-=-=\n",
      "Os cinco primeiros são: Atlético-MG, Flamengo, Palmeiras, Fortaleza e Corinthians.\n",
      "-=-=-=-=-=-=-=-=-=-=-=-=-=-=-=-=-=-=-=-=\n",
      "Os últimos 4 são: Grêmio, Bahia, Sport e Chapecoense.\n",
      "-=-=-=-=-=-=-=-=-=-=-=-=-=-=-=-=-=-=-=-=\n",
      "Times em ordem alfabética: América-MG, Athletico-PR, Atlético-GO, Atlético-MG, Bahia, Ceará, Chapecoense, Corinthians, Cuiabá, Flamengo, Fluminense, Fortaleza, Grêmio, Internacional, Juventude, Palmeiras, RB Bragantino, Santos, Sport e São Paulo.\n",
      "-=-=-=-=-=-=-=-=-=-=-=-=-=-=-=-=-=-=-=-=\n",
      "O Chapecoense está na 20ª posição\n"
     ]
    }
   ],
   "source": [
    "#Crie uma tupla preenchida com os 20 primeiros colocados da Tabela do Campeonato Brasileiro de Futebol, na ordem de colocação. Depois mostre:\n",
    "\n",
    "#a) Os 5 primeiros times.\n",
    "#b) Os últimos 4 colocados.\n",
    "#c) Times em ordem alfabética.\n",
    "#d) Em que posição está o time da Chapecoense.\n",
    "\n",
    "tupla = ('Atlético-MG', 'Flamengo', 'Palmeiras', 'Fortaleza',\n",
    "      'Corinthians', 'RB Bragantino', 'Fluminense', 'América-MG',\n",
    "      'Atlético-GO', 'Santos', 'Ceará', 'Internacional',\n",
    "      'São Paulo', 'Athletico-PR', 'Cuiabá', 'Juventude',\n",
    "      'Grêmio', 'Bahia', 'Sport', 'Chapecoense')\n",
    "\n",
    "alfabetica = sorted(tupla)\n",
    "\n",
    "print('-='*20)\n",
    "print(f'Lista de times do Brasileirão: ', end='')\n",
    "\n",
    "for lista in tupla:\n",
    "    if lista == tupla[-2]:\n",
    "        print(f'{lista} e', end=' ')\n",
    "    elif lista != tupla[-1]:\n",
    "        print(f'{lista},', end=' ')\n",
    "    else:\n",
    "        print(f'{lista}.')\n",
    "        \n",
    "print('-='*20)\n",
    "print(f'Os cinco primeiros são: ', end='')\n",
    "\n",
    "for primeiros in range(0, 5):\n",
    "    if primeiros == 3:\n",
    "        print(f'{tupla[primeiros]} e', end=' ')\n",
    "    elif primeiros != 4:\n",
    "        print(f'{tupla[primeiros]},', end=' ')\n",
    "    else:\n",
    "        print(f'{tupla[primeiros]}.')\n",
    "\n",
    "print('-='*20)\n",
    "print(f'Os últimos 4 são: ', end='')\n",
    "\n",
    "for ultimos in range(len(tupla)-4, len(tupla)):\n",
    "    if ultimos == len(tupla)-2:\n",
    "        print(f'{tupla[ultimos]} e', end=' ')\n",
    "    elif ultimos != len(tupla)-1:\n",
    "        print(f'{tupla[ultimos]},', end=' ')\n",
    "    else:\n",
    "        print(f'{tupla[ultimos]}.')\n",
    "\n",
    "print('-='*20)\n",
    "print(f'Times em ordem alfabética: ', end='')\n",
    "\n",
    "for posição in alfabetica:\n",
    "    if posição == alfabetica[len(alfabetica)-2]:\n",
    "        print(f'{posição} e', end=' ')\n",
    "    elif posição != alfabetica[len(alfabetica)-1]:\n",
    "        print(f'{posição},', end=' ')\n",
    "    else:\n",
    "        print(f'{posição}.')\n",
    "\n",
    "print('-='*20)\n",
    "print(f'O Chapecoense está na {tupla.index(\"Chapecoense\")+1}ª posição')"
   ]
  },
  {
   "cell_type": "code",
   "execution_count": null,
   "id": "28cb05b8",
   "metadata": {},
   "outputs": [],
   "source": []
  }
 ],
 "metadata": {
  "kernelspec": {
   "display_name": "Python 3 (ipykernel)",
   "language": "python",
   "name": "python3"
  },
  "language_info": {
   "codemirror_mode": {
    "name": "ipython",
    "version": 3
   },
   "file_extension": ".py",
   "mimetype": "text/x-python",
   "name": "python",
   "nbconvert_exporter": "python",
   "pygments_lexer": "ipython3",
   "version": "3.9.7"
  }
 },
 "nbformat": 4,
 "nbformat_minor": 5
}
