{
 "cells": [
  {
   "cell_type": "code",
   "execution_count": null,
   "id": "c1a4101d",
   "metadata": {},
   "outputs": [],
   "source": [
    "# Crie um programa onde o usuário possa digitar cinco valores numéricos e cadastre-os em uma lista, já na posição correta de inserção (sem usar o sort()).\n",
    "# No final, mostre a lista ordenada na tela.\n",
    "\n",
    "lista = []\n",
    "\n",
    "for num in range(0, 5):\n",
    "    valor = int(input('Digite um valor: '))\n",
    "    if num == 0 or valor > lista[-1]:\n",
    "        lista.append(valor)\n",
    "        print('Adicionado ao final da lista...')\n",
    "    else:\n",
    "        pos = 0\n",
    "        while pos < len(lista):\n",
    "            if valor <= lista[pos]:\n",
    "                lista.insert(pos, valor)\n",
    "                print(f'Adicionado na posição {pos} da lista...')\n",
    "                break\n",
    "            pos += 1\n",
    "print('-='*30)\n",
    "print(f'Os valores digitados em ordem foram {lista}.')"
   ]
  }
 ],
 "metadata": {
  "kernelspec": {
   "display_name": "Python 3 (ipykernel)",
   "language": "python",
   "name": "python3"
  },
  "language_info": {
   "codemirror_mode": {
    "name": "ipython",
    "version": 3
   },
   "file_extension": ".py",
   "mimetype": "text/x-python",
   "name": "python",
   "nbconvert_exporter": "python",
   "pygments_lexer": "ipython3",
   "version": "3.9.7"
  }
 },
 "nbformat": 4,
 "nbformat_minor": 5
}
