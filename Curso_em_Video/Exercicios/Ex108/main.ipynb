{
 "cells": [
  {
   "cell_type": "code",
   "execution_count": 4,
   "id": "009d14e1",
   "metadata": {},
   "outputs": [
    {
     "name": "stdout",
     "output_type": "stream",
     "text": [
      "Digite um preço: R$3.75\n",
      "A metade de R$3,75 é R$1,88\n",
      "O dobro de R$3,75 é R$7,50\n",
      "Aumentando 10% de R$3,75 é R$4,12\n",
      "Reduzindo 14% de R$3,75 é R$3,26\n"
     ]
    }
   ],
   "source": [
    "# Adapte o código do desafio #107, criando uma função adicional chamada moeda() que consiga mostrar os números como um valor monetário formatado.\n",
    "\n",
    "from moeda import *\n",
    "\n",
    "p = float(input(\"Digite um preço: R$\"))\n",
    "print(f\"\"\"A metade de {moeda(p)} é {moeda(metade(p))}\n",
    "O dobro de {moeda(p)} é {moeda(dobro(p))}\n",
    "Aumentando 10% de {moeda(p)} é {moeda(aumentar(p))}\n",
    "Reduzindo 14% de {moeda(p)} é {moeda(diminuir(p))}\"\"\")"
   ]
  }
 ],
 "metadata": {
  "kernelspec": {
   "display_name": "Python 3 (ipykernel)",
   "language": "python",
   "name": "python3"
  },
  "language_info": {
   "codemirror_mode": {
    "name": "ipython",
    "version": 3
   },
   "file_extension": ".py",
   "mimetype": "text/x-python",
   "name": "python",
   "nbconvert_exporter": "python",
   "pygments_lexer": "ipython3",
   "version": "3.9.7"
  }
 },
 "nbformat": 4,
 "nbformat_minor": 5
}
