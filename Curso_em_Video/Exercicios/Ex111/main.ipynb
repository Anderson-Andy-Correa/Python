{
 "cells": [
  {
   "cell_type": "code",
   "execution_count": 6,
   "id": "009d14e1",
   "metadata": {},
   "outputs": [
    {
     "name": "stdout",
     "output_type": "stream",
     "text": [
      "Digite o preço: R$15,00\n",
      "Digite a porcentagem de aumento: 15.15\n",
      "Digite a porcentagem de desconto: 15\n",
      "------------------------------\n",
      "       RESUMO DO VALOR        \n",
      "------------------------------\n",
      "Preço analisado:    R$15.00\n",
      "Dobro do preço:     R$30.00\n",
      "Metade do preço:    R$7.50\n",
      "15.15% de aumento:  R$17.27\n",
      "15.0% de redução:   R$12.75\n",
      "------------------------------\n"
     ]
    }
   ],
   "source": [
    "#Crie um pacote chamado utilidadesCeV que tenha dois módulos internos chamados moeda e dado. Transfira todas as funções utilizadas nos desafios 107, 108 e 109 para o primeiro pacote e mantenha tudo funcionando.\n",
    "\n",
    "from utilidadesCeV import moeda\n",
    "\n",
    "certo = False\n",
    "\n",
    "while True:\n",
    "    try:\n",
    "        p = float(input(\"Digite um preço: R$\"))\n",
    "        if p > 0:\n",
    "            certo = True\n",
    "        else:\n",
    "            print('O preço precisa ser maior de 0.')\n",
    "    except:\n",
    "        print(\"Por favor, use apenas números.\")\n",
    "    if certo == True:\n",
    "        break\n",
    "        \n",
    "certo = False\n",
    "\n",
    "while True:\n",
    "    try:\n",
    "        aumento = int(input(\"Possui aumento? (apenas números) \"))\n",
    "        if aumento >= 0:\n",
    "            certo = True\n",
    "        else:\n",
    "            print('O aumento precisa ser maior ou igual a 0.')\n",
    "    except:\n",
    "        print(\"Por favor, use apenas números.\")\n",
    "    if certo == True:\n",
    "        break\n",
    "        \n",
    "certo = False\n",
    "\n",
    "while True:\n",
    "    try:\n",
    "        desconto = int(input(\"Possui desconto? (apenas números) \"))\n",
    "        if desconto >= 0:\n",
    "            certo = True\n",
    "        else:\n",
    "            print('O aumento precisa ser maior ou igual a 0.')\n",
    "    except:\n",
    "        print(\"Por favor, use apenas números.\")\n",
    "    if certo == True:\n",
    "        break\n",
    "\n",
    "moeda.resumo(p, aumento, desconto)"
   ]
  }
 ],
 "metadata": {
  "kernelspec": {
   "display_name": "Python 3 (ipykernel)",
   "language": "python",
   "name": "python3"
  },
  "language_info": {
   "codemirror_mode": {
    "name": "ipython",
    "version": 3
   },
   "file_extension": ".py",
   "mimetype": "text/x-python",
   "name": "python",
   "nbconvert_exporter": "python",
   "pygments_lexer": "ipython3",
   "version": "3.9.7"
  }
 },
 "nbformat": 4,
 "nbformat_minor": 5
}
