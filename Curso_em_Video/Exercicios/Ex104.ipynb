{
 "cells": [
  {
   "cell_type": "code",
   "execution_count": 18,
   "id": "0de6eaab",
   "metadata": {},
   "outputs": [
    {
     "name": "stdout",
     "output_type": "stream",
     "text": [
      "Digite um número: 1994\n",
      "Você digitou o número 1994.\n"
     ]
    }
   ],
   "source": [
    "# Crie um programa que tenha a função leiaInt(), que vai funcionar de forma semelhante ‘a função input() do Python, só que fazendo a validação para aceitar apenas um valor numérico.\n",
    "# Ex: n = leiaInt(‘Digite um n: ‘)\n",
    "\n",
    "def leiaInt(n=0 , end=''): # Função que retorna somente números inteiros.\n",
    "    while True:\n",
    "        n = input('Digite um número: ')\n",
    "        if n.isnumeric() == True:\n",
    "            n = int(n)\n",
    "            break\n",
    "        else:\n",
    "            print('\\033[31mERRO! digite um número inteiro válido.\\033[m')        \n",
    "    return n\n",
    "    \n",
    "# Programa Principal\n",
    "n = leiaInt()\n",
    "print(f'Você digitou o número {n}.')"
   ]
  },
  {
   "cell_type": "code",
   "execution_count": null,
   "id": "addc9f13",
   "metadata": {},
   "outputs": [],
   "source": []
  }
 ],
 "metadata": {
  "kernelspec": {
   "display_name": "Python 3 (ipykernel)",
   "language": "python",
   "name": "python3"
  },
  "language_info": {
   "codemirror_mode": {
    "name": "ipython",
    "version": 3
   },
   "file_extension": ".py",
   "mimetype": "text/x-python",
   "name": "python",
   "nbconvert_exporter": "python",
   "pygments_lexer": "ipython3",
   "version": "3.9.7"
  }
 },
 "nbformat": 4,
 "nbformat_minor": 5
}
