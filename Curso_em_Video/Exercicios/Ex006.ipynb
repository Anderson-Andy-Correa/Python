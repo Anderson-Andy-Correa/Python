{
 "cells": [
  {
   "cell_type": "code",
   "execution_count": 6,
   "id": "ef6b09ad",
   "metadata": {},
   "outputs": [
    {
     "name": "stdout",
     "output_type": "stream",
     "text": [
      "Digite um número inteiro: 9\n",
      "O dobro do númeto \u001b[7;34m9\u001b[m é \u001b[7;35m18\u001b[m, o triplo é \u001b[7;34m27\u001b[m e sua raiz quadrada é \u001b[7;31m3.0\u001b[m\n"
     ]
    }
   ],
   "source": [
    "#Crie um algoritmo que leia um número e mostre o seu dobro, triplo e raiz quadrada.\n",
    "n = int(input(\"Digite um número inteiro: \"))\n",
    "print(f\"O dobro do númeto \\033[7;34m{n}\\033[m é \\033[7;35m{n*2}\\033[m, o triplo é \\033[7;34m{n*3}\\033[m e sua raiz quadrada é \\033[7;31m{n**(1/2)}\\033[m\")"
   ]
  }
 ],
 "metadata": {
  "kernelspec": {
   "display_name": "Python 3 (ipykernel)",
   "language": "python",
   "name": "python3"
  },
  "language_info": {
   "codemirror_mode": {
    "name": "ipython",
    "version": 3
   },
   "file_extension": ".py",
   "mimetype": "text/x-python",
   "name": "python",
   "nbconvert_exporter": "python",
   "pygments_lexer": "ipython3",
   "version": "3.9.7"
  }
 },
 "nbformat": 4,
 "nbformat_minor": 5
}
