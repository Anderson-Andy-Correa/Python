{
 "cells": [
  {
   "cell_type": "code",
   "execution_count": 7,
   "id": "ec757fcb",
   "metadata": {},
   "outputs": [
    {
     "name": "stdout",
     "output_type": "stream",
     "text": [
      "Qual a distância da sua viagem? 1000\n",
      "Você está prestes a começar uma viagem de 1000.0Km.\n",
      "E o preço da sua passagem será de R$450.00\n"
     ]
    }
   ],
   "source": [
    "#Desenvolva um programa que pergunte a distância de uma viagem em Km. Calcule o preço da passagem, cobrando R$0,50 por Km para viagens de até 200Km e R$0,45 parta viagens mais longas.\n",
    "dist = float(input('Qual a distância da sua viagem? '))\n",
    "print(f'Você está prestes a começar uma viagem de {dist}Km.')\n",
    "#if dist > 200:\n",
    "#    print(f\"E o preço da sua passagem será de R${dist*0.45:.2f}\")\n",
    "#else:\n",
    "#    print(f\"E o preço da sua passagem será de R${dist*0.5:.2f}\")\n",
    "custo = dist * 0.45 if dist > 200 else dist * 0.5\n",
    "print(f\"E o preço da sua passagem será de R${custo:.2f}\")"
   ]
  },
  {
   "cell_type": "code",
   "execution_count": null,
   "id": "5326b04d",
   "metadata": {},
   "outputs": [],
   "source": []
  }
 ],
 "metadata": {
  "kernelspec": {
   "display_name": "Python 3 (ipykernel)",
   "language": "python",
   "name": "python3"
  },
  "language_info": {
   "codemirror_mode": {
    "name": "ipython",
    "version": 3
   },
   "file_extension": ".py",
   "mimetype": "text/x-python",
   "name": "python",
   "nbconvert_exporter": "python",
   "pygments_lexer": "ipython3",
   "version": "3.9.7"
  }
 },
 "nbformat": 4,
 "nbformat_minor": 5
}
