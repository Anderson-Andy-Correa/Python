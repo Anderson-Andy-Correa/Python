{
 "cells": [
  {
   "cell_type": "code",
   "execution_count": 41,
   "id": "d784ecaa",
   "metadata": {},
   "outputs": [
    {
     "name": "stdout",
     "output_type": "stream",
     "text": [
      "\u001b[1;33m-=-\u001b[m\u001b[1;33m-=-\u001b[m\u001b[1;33m-=-\u001b[m\u001b[1;33m-=-\u001b[m\u001b[1;33m-=-\u001b[m\u001b[1;33m-=-\u001b[m\u001b[1;33m-=-\u001b[m\u001b[1;33m-=-\u001b[m\u001b[1;33m-=-\u001b[m\u001b[1;33m-=-\u001b[m\u001b[1;33m-=-\u001b[m\u001b[1;33m-=-\u001b[m\u001b[1;33m-=-\u001b[m\u001b[1;33m-=-\u001b[m\u001b[1;33m-=-\u001b[m\u001b[1;33m-=-\u001b[m\u001b[1;33m-=-\u001b[m\u001b[1;33m-=-\u001b[m\u001b[1;33m-=-\u001b[m\u001b[1;33m-=-\u001b[m\u001b[1;33m-=-\u001b[m\u001b[1;33m-=-\u001b[m\u001b[1;33m-=-\u001b[m\u001b[1;33m-=-\u001b[m\u001b[1;33m-=-\u001b[m\u001b[1;33m-=-\u001b[m\u001b[1;33m-=-\u001b[m\u001b[1;33m-=-\u001b[m\u001b[1;33m-=-\u001b[m\u001b[1;33m-=-\u001b[m\u001b[1;33m-=-\u001b[m\u001b[1;33m-=-\u001b[m\u001b[1;33m-=-\u001b[m\u001b[1;33m-=-\u001b[m\u001b[1;33m-=-\u001b[m\u001b[1;33m-=-\u001b[m\u001b[1;33m-=-\u001b[m\u001b[1;33m-=-\u001b[m\u001b[1;33m-=-\u001b[m\u001b[1;33m-=-\u001b[m\n",
      "\u001b[1;34mVou pensar em um número entre 0 e 5. Tente adivinhar...\u001b[m\n",
      "\u001b[1;33m-=-\u001b[m\u001b[1;33m-=-\u001b[m\u001b[1;33m-=-\u001b[m\u001b[1;33m-=-\u001b[m\u001b[1;33m-=-\u001b[m\u001b[1;33m-=-\u001b[m\u001b[1;33m-=-\u001b[m\u001b[1;33m-=-\u001b[m\u001b[1;33m-=-\u001b[m\u001b[1;33m-=-\u001b[m\u001b[1;33m-=-\u001b[m\u001b[1;33m-=-\u001b[m\u001b[1;33m-=-\u001b[m\u001b[1;33m-=-\u001b[m\u001b[1;33m-=-\u001b[m\u001b[1;33m-=-\u001b[m\u001b[1;33m-=-\u001b[m\u001b[1;33m-=-\u001b[m\u001b[1;33m-=-\u001b[m\u001b[1;33m-=-\u001b[m\u001b[1;33m-=-\u001b[m\u001b[1;33m-=-\u001b[m\u001b[1;33m-=-\u001b[m\u001b[1;33m-=-\u001b[m\u001b[1;33m-=-\u001b[m\u001b[1;33m-=-\u001b[m\u001b[1;33m-=-\u001b[m\u001b[1;33m-=-\u001b[m\u001b[1;33m-=-\u001b[m\u001b[1;33m-=-\u001b[m\u001b[1;33m-=-\u001b[m\u001b[1;33m-=-\u001b[m\u001b[1;33m-=-\u001b[m\u001b[1;33m-=-\u001b[m\u001b[1;33m-=-\u001b[m\u001b[1;33m-=-\u001b[m\u001b[1;33m-=-\u001b[m\u001b[1;33m-=-\u001b[m\u001b[1;33m-=-\u001b[m\u001b[1;33m-=-\u001b[m\n",
      "Em que número eu pensei? 2\n",
      "\u001b[1;35mPROCESSANDO...\u001b[m\n",
      "\u001b[1;33mPARABÉNS! Você conseguiu me vencer!\u001b[m\n"
     ]
    }
   ],
   "source": [
    "#Escreva um programa que faça o computador “pensar” em um número inteiro entre 0 e 5 e peça para o usuário tentar descobrir qual foi o número escolhido pelo computador. O programa deverá escrever na tela se o usuário venceu ou perdeu.\n",
    "from random import choice\n",
    "from time import sleep\n",
    "num = choice([0, 1, 2, 3, 4, 5])\n",
    "print('\\033[1;33m-=-\\033[m'*40)\n",
    "print('\\033[1;34mVou pensar em um número entre 0 e 5. Tente adivinhar...\\033[m')\n",
    "print('\\033[1;33m-=-\\033[m'*40)\n",
    "n = int(input(\"Em que número eu pensei? \"))\n",
    "print('\\033[1;35mPROCESSANDO...\\033[m')\n",
    "sleep(2)\n",
    "if n == num:\n",
    "    print('\\033[1;33mPARABÉNS! Você conseguiu me vencer!\\033[m')\n",
    "else:\n",
    "    print(f'\\033[1;31mGANHEI! Eu pensei no número {num} e não no {n}.\\033[m')"
   ]
  }
 ],
 "metadata": {
  "kernelspec": {
   "display_name": "Python 3 (ipykernel)",
   "language": "python",
   "name": "python3"
  },
  "language_info": {
   "codemirror_mode": {
    "name": "ipython",
    "version": 3
   },
   "file_extension": ".py",
   "mimetype": "text/x-python",
   "name": "python",
   "nbconvert_exporter": "python",
   "pygments_lexer": "ipython3",
   "version": "3.9.7"
  }
 },
 "nbformat": 4,
 "nbformat_minor": 5
}
