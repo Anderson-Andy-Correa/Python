{
 "cells": [
  {
   "cell_type": "code",
   "execution_count": 5,
   "id": "b6686ff4",
   "metadata": {},
   "outputs": [
    {
     "name": "stdout",
     "output_type": "stream",
     "text": [
      "Bem vindo, qual é o seu nome?a\n",
      "Muito prazer \u001b[35ma\u001b[m! Como posso lhe ajudar?\n"
     ]
    }
   ],
   "source": [
    "#Faça um programa que leia o nome de uma pessoa e mostre uma mensagem de boas-vindas.\n",
    "Nome = input(\"Bem vindo, qual é o seu nome?\")\n",
    "print(f\"Muito prazer \\033[35m{Nome}\\033[m! Como posso lhe ajudar?\")"
   ]
  },
  {
   "cell_type": "code",
   "execution_count": null,
   "id": "6fe0bda4",
   "metadata": {},
   "outputs": [],
   "source": []
  }
 ],
 "metadata": {
  "kernelspec": {
   "display_name": "Python 3 (ipykernel)",
   "language": "python",
   "name": "python3"
  },
  "language_info": {
   "codemirror_mode": {
    "name": "ipython",
    "version": 3
   },
   "file_extension": ".py",
   "mimetype": "text/x-python",
   "name": "python",
   "nbconvert_exporter": "python",
   "pygments_lexer": "ipython3",
   "version": "3.9.7"
  }
 },
 "nbformat": 4,
 "nbformat_minor": 5
}
