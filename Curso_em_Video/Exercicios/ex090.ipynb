{
 "cells": [
  {
   "cell_type": "code",
   "execution_count": 9,
   "id": "349c0c1a",
   "metadata": {},
   "outputs": [
    {
     "name": "stdout",
     "output_type": "stream",
     "text": [
      "Nome: Gustavo\n",
      "Média de Gustavo: 6\n",
      "-=-=-=-=-=-=-=-=-=-=-=-=-=-=-=-=-=-=-=-=-=-=-=-=-=-=-=-=-=-=\n",
      "    → Nome é igual a Gustavo.\n",
      "    → Média é igual a 6.0.\n",
      "    → Situação é igual a Recuperação.\n"
     ]
    }
   ],
   "source": [
    "# Faça um programa que leia nome e média de um aluno, guardando também a situação em um dicionário.\n",
    "# No final, mostre o conteúdo da estrutura na tela.\n",
    "\n",
    "dic = {'Nome': '', 'Média' : '', 'Situação' : ''}\n",
    "dic['Nome'] = input('Nome: ').strip().capitalize()\n",
    "dic['Média'] = float(input(f'Média de {dic[\"Nome\"]}: '))\n",
    "\n",
    "if 7 <= dic['Média']:\n",
    "    dic['Situação'] = 'Aprovado'\n",
    "elif 5 <= dic['Média']:\n",
    "    dic['Situação'] = 'Recuperação'\n",
    "else:\n",
    "    dic['Situação'] = 'Reprovado'\n",
    "print('-='*30)\n",
    "for k, v in dic.items():\n",
    "    print(f'    → {k} é igual a {v}.')\n"
   ]
  },
  {
   "cell_type": "code",
   "execution_count": null,
   "id": "915e78a8",
   "metadata": {},
   "outputs": [],
   "source": []
  }
 ],
 "metadata": {
  "kernelspec": {
   "display_name": "Python 3 (ipykernel)",
   "language": "python",
   "name": "python3"
  },
  "language_info": {
   "codemirror_mode": {
    "name": "ipython",
    "version": 3
   },
   "file_extension": ".py",
   "mimetype": "text/x-python",
   "name": "python",
   "nbconvert_exporter": "python",
   "pygments_lexer": "ipython3",
   "version": "3.9.7"
  }
 },
 "nbformat": 4,
 "nbformat_minor": 5
}
