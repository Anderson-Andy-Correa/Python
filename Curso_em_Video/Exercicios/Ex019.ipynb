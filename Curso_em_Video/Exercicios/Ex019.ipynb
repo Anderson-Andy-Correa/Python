{
 "cells": [
  {
   "cell_type": "code",
   "execution_count": 4,
   "id": "9e799bf8",
   "metadata": {},
   "outputs": [
    {
     "name": "stdout",
     "output_type": "stream",
     "text": [
      "Qual o nome do primeiro aluno? a\n",
      "Qual o nome do segundo aluno? b\n",
      "Qual o nome do terceiro aluno? c\n",
      "Qual o nome do quarto aluno? d\n",
      "A escolha do professor foi: d\n"
     ]
    }
   ],
   "source": [
    "#Um professor quer sortear um dos seus quatro alunos para apagar o quadro. Faça um programa que ajude ele, lendo o nome dos alunos e escrevendo na tela o nome do escolhido.\n",
    "from random import choice\n",
    "Aluno1 = input(\"Qual o nome do primeiro aluno? \")\n",
    "Aluno2 = input(\"Qual o nome do segundo aluno? \")\n",
    "Aluno3 = input(\"Qual o nome do terceiro aluno? \")\n",
    "Aluno4 = input(\"Qual o nome do quarto aluno? \")\n",
    "print(f\"A escolha do professor foi: {choice([Aluno1, Aluno2, Aluno3, Aluno4])}\")"
   ]
  },
  {
   "cell_type": "code",
   "execution_count": null,
   "id": "143d3f70",
   "metadata": {},
   "outputs": [],
   "source": []
  }
 ],
 "metadata": {
  "kernelspec": {
   "display_name": "Python 3 (ipykernel)",
   "language": "python",
   "name": "python3"
  },
  "language_info": {
   "codemirror_mode": {
    "name": "ipython",
    "version": 3
   },
   "file_extension": ".py",
   "mimetype": "text/x-python",
   "name": "python",
   "nbconvert_exporter": "python",
   "pygments_lexer": "ipython3",
   "version": "3.9.7"
  }
 },
 "nbformat": 4,
 "nbformat_minor": 5
}
