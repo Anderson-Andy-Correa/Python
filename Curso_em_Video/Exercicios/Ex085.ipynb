{
 "cells": [
  {
   "cell_type": "code",
   "execution_count": null,
   "id": "a5c1c372",
   "metadata": {},
   "outputs": [],
   "source": [
    "#\n",
    "\n",
    "pares = []\n",
    "impares = []\n",
    "lista = [pares, impares]\n",
    "\n",
    "for c in range(0, 7):\n",
    "    n = int(input(f'Digite o {c+1}º valor: '))\n",
    "    if n % 2 == 0:\n",
    "        pares.append(n)\n",
    "    else:\n",
    "        impares.append(n)\n",
    "pares.sort()\n",
    "impares.sort()\n",
    "print('-='*40)\n",
    "print(f'''Os valores pares digitados foram: {pares}.\n",
    "E os valores ímpares digitados foram: {impares}.''')"
   ]
  }
 ],
 "metadata": {
  "kernelspec": {
   "display_name": "Python 3 (ipykernel)",
   "language": "python",
   "name": "python3"
  },
  "language_info": {
   "codemirror_mode": {
    "name": "ipython",
    "version": 3
   },
   "file_extension": ".py",
   "mimetype": "text/x-python",
   "name": "python",
   "nbconvert_exporter": "python",
   "pygments_lexer": "ipython3",
   "version": "3.9.7"
  }
 },
 "nbformat": 4,
 "nbformat_minor": 5
}
