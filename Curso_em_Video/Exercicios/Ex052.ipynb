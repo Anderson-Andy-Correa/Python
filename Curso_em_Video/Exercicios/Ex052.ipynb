{
 "cells": [
  {
   "cell_type": "code",
   "execution_count": 32,
   "id": "a4aa7169",
   "metadata": {},
   "outputs": [
    {
     "name": "stdout",
     "output_type": "stream",
     "text": [
      "Digite um número: 97\n",
      "\u001b[34m1\u001b[m \u001b[31m2\u001b[m \u001b[31m3\u001b[m \u001b[31m4\u001b[m \u001b[31m5\u001b[m \u001b[31m6\u001b[m \u001b[31m7\u001b[m \u001b[31m8\u001b[m \u001b[31m9\u001b[m \u001b[31m10\u001b[m \u001b[31m11\u001b[m \u001b[31m12\u001b[m \u001b[31m13\u001b[m \u001b[31m14\u001b[m \u001b[31m15\u001b[m \u001b[31m16\u001b[m \u001b[31m17\u001b[m \u001b[31m18\u001b[m \u001b[31m19\u001b[m \u001b[31m20\u001b[m \u001b[31m21\u001b[m \u001b[31m22\u001b[m \u001b[31m23\u001b[m \u001b[31m24\u001b[m \u001b[31m25\u001b[m \u001b[31m26\u001b[m \u001b[31m27\u001b[m \u001b[31m28\u001b[m \u001b[31m29\u001b[m \u001b[31m30\u001b[m \u001b[31m31\u001b[m \u001b[31m32\u001b[m \u001b[31m33\u001b[m \u001b[31m34\u001b[m \u001b[31m35\u001b[m \u001b[31m36\u001b[m \u001b[31m37\u001b[m \u001b[31m38\u001b[m \u001b[31m39\u001b[m \u001b[31m40\u001b[m \u001b[31m41\u001b[m \u001b[31m42\u001b[m \u001b[31m43\u001b[m \u001b[31m44\u001b[m \u001b[31m45\u001b[m \u001b[31m46\u001b[m \u001b[31m47\u001b[m \u001b[31m48\u001b[m \u001b[31m49\u001b[m \u001b[31m50\u001b[m \u001b[31m51\u001b[m \u001b[31m52\u001b[m \u001b[31m53\u001b[m \u001b[31m54\u001b[m \u001b[31m55\u001b[m \u001b[31m56\u001b[m \u001b[31m57\u001b[m \u001b[31m58\u001b[m \u001b[31m59\u001b[m \u001b[31m60\u001b[m \u001b[31m61\u001b[m \u001b[31m62\u001b[m \u001b[31m63\u001b[m \u001b[31m64\u001b[m \u001b[31m65\u001b[m \u001b[31m66\u001b[m \u001b[31m67\u001b[m \u001b[31m68\u001b[m \u001b[31m69\u001b[m \u001b[31m70\u001b[m \u001b[31m71\u001b[m \u001b[31m72\u001b[m \u001b[31m73\u001b[m \u001b[31m74\u001b[m \u001b[31m75\u001b[m \u001b[31m76\u001b[m \u001b[31m77\u001b[m \u001b[31m78\u001b[m \u001b[31m79\u001b[m \u001b[31m80\u001b[m \u001b[31m81\u001b[m \u001b[31m82\u001b[m \u001b[31m83\u001b[m \u001b[31m84\u001b[m \u001b[31m85\u001b[m \u001b[31m86\u001b[m \u001b[31m87\u001b[m \u001b[31m88\u001b[m \u001b[31m89\u001b[m \u001b[31m90\u001b[m \u001b[31m91\u001b[m \u001b[31m92\u001b[m \u001b[31m93\u001b[m \u001b[31m94\u001b[m \u001b[31m95\u001b[m \u001b[31m96\u001b[m \u001b[34m97\u001b[m \n",
      "O número \u001b[35m97\u001b[m foi divizível \u001b[34m2\u001b[m vezes, ou seja, apenas por \u001b[34m1\u001b[m e \u001b[34m97\u001b[m.\n",
      "E por isso ele \u001b[32mÉ PRIMO\u001b[m.\n"
     ]
    }
   ],
   "source": [
    "#Desenvolva um programa que leia o primeiro termo e a razão de uma PA. No final, mostre os 10 primeiros termos dessa progressão.\n",
    "\n",
    "n = int(input('Digite um número: '))\n",
    "c = 0\n",
    "for lista in range(1, n + 1):\n",
    "    if n % lista == 0:\n",
    "        c = c + 1\n",
    "        print(f'\\033[34m{lista}\\033[m', end = ' ')\n",
    "    elif n % lista != 0:\n",
    "        print(f'\\033[31m{lista}\\033[m', end = ' ')\n",
    "if c == 1:\n",
    "    print(f'''\\nO número \\033[35m{n}\\033[m foi divizível \\033[34m{c}\\033[m única vez, ou seja, apenas por \\033[34m1\\033[m.\n",
    "E por isso ele \\033[32mNÃO É PRIMO\\033[m.''')\n",
    "    \n",
    "elif c == 2:\n",
    "    print(f'''\\nO número \\033[35m{n}\\033[m foi divizível \\033[34m{c}\\033[m vezes, ou seja, apenas por \\033[34m1\\033[m e \\033[34m{n}\\033[m.\n",
    "E por isso ele \\033[32mÉ PRIMO\\033[m.''')\n",
    "\n",
    "elif c > 2:\n",
    "    print(f'''\\nO número \\033[35m{n}\\033[m foi divizível \\033[34m{c}\\033[m vezes.\n",
    "E por isso ele \\033[31mNÃO É PRIMO\\033[m.''')\n",
    "        "
   ]
  },
  {
   "cell_type": "code",
   "execution_count": null,
   "id": "7b3a89cc",
   "metadata": {},
   "outputs": [],
   "source": []
  }
 ],
 "metadata": {
  "kernelspec": {
   "display_name": "Python 3 (ipykernel)",
   "language": "python",
   "name": "python3"
  },
  "language_info": {
   "codemirror_mode": {
    "name": "ipython",
    "version": 3
   },
   "file_extension": ".py",
   "mimetype": "text/x-python",
   "name": "python",
   "nbconvert_exporter": "python",
   "pygments_lexer": "ipython3",
   "version": "3.9.7"
  }
 },
 "nbformat": 4,
 "nbformat_minor": 5
}
