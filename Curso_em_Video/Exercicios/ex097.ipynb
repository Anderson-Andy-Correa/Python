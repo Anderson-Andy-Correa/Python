{
 "cells": [
  {
   "cell_type": "code",
   "execution_count": 21,
   "id": "62f594a8",
   "metadata": {},
   "outputs": [
    {
     "name": "stdout",
     "output_type": "stream",
     "text": [
      "~~~~~~~~~~~~~~~~~~~~~\n",
      "  Gustavo Guanabara\n",
      "~~~~~~~~~~~~~~~~~~~~~\n",
      "~~~~~~~~~~~~~~~~~~~~~~~~~~~~~~\n",
      "  Curso de Python no YouTube\n",
      "~~~~~~~~~~~~~~~~~~~~~~~~~~~~~~\n",
      "~~~~~~~\n",
      "  CEV\n",
      "~~~~~~~\n"
     ]
    }
   ],
   "source": [
    "# Faça um programa que tenha uma função chamada escreva(), que receba um texto qualquer como parâmetro e mostre uma mensagem com tamanho adaptável.\n",
    "# Ex: escreva(‘Olá, Mundo!’) \n",
    "# Saída:\n",
    "#~~~~~~~~~~~~~\n",
    "# Olá, Mundo!\n",
    "#~~~~~~~~~~~~~\n",
    "\n",
    "def escreva(msg):\n",
    "    print('~'*(len(msg)+4))\n",
    "    print(f'  {msg}')\n",
    "    print('~'*(len(msg)+4))\n",
    "    \n",
    "    \n",
    "escreva('Gustavo Guanabara')\n",
    "escreva('Curso de Python no YouTube')\n",
    "escreva('CEV')\n"
   ]
  }
 ],
 "metadata": {
  "kernelspec": {
   "display_name": "Python 3 (ipykernel)",
   "language": "python",
   "name": "python3"
  },
  "language_info": {
   "codemirror_mode": {
    "name": "ipython",
    "version": 3
   },
   "file_extension": ".py",
   "mimetype": "text/x-python",
   "name": "python",
   "nbconvert_exporter": "python",
   "pygments_lexer": "ipython3",
   "version": "3.9.7"
  }
 },
 "nbformat": 4,
 "nbformat_minor": 5
}
