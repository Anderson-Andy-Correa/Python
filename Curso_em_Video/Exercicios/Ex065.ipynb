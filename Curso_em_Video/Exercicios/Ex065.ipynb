{
 "cells": [
  {
   "cell_type": "code",
   "execution_count": 9,
   "id": "0bbd165a",
   "metadata": {},
   "outputs": [
    {
     "name": "stdout",
     "output_type": "stream",
     "text": [
      "Digite um número: 4\n",
      "Gostaria de continuar a digitar mais números? [Y/N] no\n",
      "A média dos 1 valores é igual a 4.00.\n",
      "O maior número foi 4 e o menor foi 4.\n"
     ]
    }
   ],
   "source": [
    "#Crie um programa que leia vários números inteiros pelo teclado. \n",
    "#No final da execução, mostre a média entre todos os valores e qual foi o maior e o menor valores lidos. \n",
    "#O programa deve perguntar ao usuário se ele quer ou não continuar a digitar valores.\n",
    "n = menor = maior = soma = cont = 0\n",
    "c = 'Y'\n",
    "\n",
    "while c == 'Y':\n",
    "    n = int(input('Digite um número: '))\n",
    "    if cont == 0:\n",
    "        menor = n\n",
    "        maior = n\n",
    "    else:\n",
    "        if maior < n:\n",
    "            maior = n\n",
    "        if menor > n:\n",
    "            menor = n\n",
    "    soma += n\n",
    "    cont += 1\n",
    "    c = input('Gostaria de continuar a digitar mais números? [Y/N] ' ).strip().upper()[0]\n",
    "    if c not in 'YyNn':\n",
    "        c = input('Opção inválida, tente novamente; [Y/N] ').strip().upper()[0]\n",
    "print(f'''A média dos {cont} valores é igual a {soma/cont:,.2f}.\n",
    "O maior número foi {maior} e o menor foi {menor}.''')\n"
   ]
  },
  {
   "cell_type": "code",
   "execution_count": null,
   "id": "1803d621",
   "metadata": {},
   "outputs": [],
   "source": []
  }
 ],
 "metadata": {
  "kernelspec": {
   "display_name": "Python 3 (ipykernel)",
   "language": "python",
   "name": "python3"
  },
  "language_info": {
   "codemirror_mode": {
    "name": "ipython",
    "version": 3
   },
   "file_extension": ".py",
   "mimetype": "text/x-python",
   "name": "python",
   "nbconvert_exporter": "python",
   "pygments_lexer": "ipython3",
   "version": "3.9.7"
  }
 },
 "nbformat": 4,
 "nbformat_minor": 5
}
