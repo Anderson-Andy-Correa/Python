{
 "cells": [
  {
   "cell_type": "code",
   "execution_count": 3,
   "id": "35cdc923",
   "metadata": {},
   "outputs": [
    {
     "name": "stdout",
     "output_type": "stream",
     "text": [
      "Digite um número inteiro qualquer: 2\n",
      "Digite outro número inteiro qualquer: 6\n",
      "A soma entre \u001b[1;31m2\u001b[m e \u001b[1;32m6\u001b[m é igual a \u001b[1;36m8\u001b[m.\n"
     ]
    }
   ],
   "source": [
    "#Crie um programa que leia dois números e mostre a soma entre eles.\n",
    "n1 = int(input(\"Digite um número inteiro qualquer: \"))\n",
    "n2 = int(input(\"Digite outro número inteiro qualquer: \"))\n",
    "Soma = n1 + n2\n",
    "print(f\"A soma entre \\033[1;31m{n1}\\033[m e \\033[1;32m{n2}\\033[m é igual a \\033[1;36m{Soma}\\033[m.\")"
   ]
  },
  {
   "cell_type": "code",
   "execution_count": null,
   "id": "9f747715",
   "metadata": {},
   "outputs": [],
   "source": []
  }
 ],
 "metadata": {
  "kernelspec": {
   "display_name": "Python 3 (ipykernel)",
   "language": "python",
   "name": "python3"
  },
  "language_info": {
   "codemirror_mode": {
    "name": "ipython",
    "version": 3
   },
   "file_extension": ".py",
   "mimetype": "text/x-python",
   "name": "python",
   "nbconvert_exporter": "python",
   "pygments_lexer": "ipython3",
   "version": "3.9.7"
  }
 },
 "nbformat": 4,
 "nbformat_minor": 5
}
