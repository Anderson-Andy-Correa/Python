{
 "cells": [
  {
   "cell_type": "code",
   "execution_count": 39,
   "id": "b846d290",
   "metadata": {},
   "outputs": [
    {
     "name": "stdout",
     "output_type": "stream",
     "text": [
      "--------------------\n",
      "5 x 4 x 3 x 2 x 1 = 120\n",
      "6 x 5 x 4 x 3 x 2 x 1 = 720\n",
      "2 x 1 = 2\n",
      "4 x 3 x 2 x 1 = 24\n",
      "3 x 2 x 1 = 6\n",
      "2 x 1 = 2\n",
      "9 x 8 x 7 x 6 x 5 x 4 x 3 x 2 x 1 = 362880\n",
      "2 x 1 = 2\n",
      "2 x 1 = 2\n",
      "6 x 5 x 4 x 3 x 2 x 1 = 720\n"
     ]
    }
   ],
   "source": [
    "# Crie um programa que tenha uma função fatorial() que receba dois parâmetros:\n",
    "# O primeiro que indique o número a calcular;\n",
    "# O outro chamado show, que será um valor lógico (opcional) indicando se será mostrado ou não na tela o processo de cálculo do fatorial.\n",
    "\n",
    "from random import randint\n",
    "\n",
    "def fatorial(n=1, show=False):\n",
    "    \"\"\"\n",
    "    → Calcula o fatorial de um número.\n",
    "    :param n: O número a ser calculado.\n",
    "    :param show: (opcional) Mostrar ou não a conta.\n",
    "    :return: O valor do Fatorial de um número n.\n",
    "    \"\"\"\n",
    "    f = 1\n",
    "    for c in range(n, 1, -1):\n",
    "        f *= c\n",
    "        if show == True:\n",
    "            print(f'{c} x ', end='')\n",
    "    if show == True:\n",
    "        print('1 = ', end='')\n",
    "    return f\n",
    "\n",
    "print('-'*20)\n",
    "for i in range(0, 10):\n",
    "    print(fatorial(randint(1, 10), True))"
   ]
  },
  {
   "cell_type": "code",
   "execution_count": 15,
   "id": "b1f9f8c1",
   "metadata": {},
   "outputs": [
    {
     "name": "stdout",
     "output_type": "stream",
     "text": [
      "7\n"
     ]
    }
   ],
   "source": [
    "print(randint(1, 10))"
   ]
  },
  {
   "cell_type": "code",
   "execution_count": 40,
   "id": "89d10c94",
   "metadata": {},
   "outputs": [
    {
     "name": "stdout",
     "output_type": "stream",
     "text": [
      "Help on function fatorial in module __main__:\n",
      "\n",
      "fatorial(n=1, show=False)\n",
      "    → Calcula o fatorial de um número.\n",
      "    :param n: O número a ser calculado.\n",
      "    :param show: (opcional) Mostrar ou não a conta.\n",
      "    :return: O valor do Fatorial de um número n.\n",
      "\n"
     ]
    }
   ],
   "source": [
    "help(fatorial)"
   ]
  },
  {
   "cell_type": "code",
   "execution_count": null,
   "id": "8db5f777",
   "metadata": {},
   "outputs": [],
   "source": []
  }
 ],
 "metadata": {
  "kernelspec": {
   "display_name": "Python 3 (ipykernel)",
   "language": "python",
   "name": "python3"
  },
  "language_info": {
   "codemirror_mode": {
    "name": "ipython",
    "version": 3
   },
   "file_extension": ".py",
   "mimetype": "text/x-python",
   "name": "python",
   "nbconvert_exporter": "python",
   "pygments_lexer": "ipython3",
   "version": "3.9.7"
  }
 },
 "nbformat": 4,
 "nbformat_minor": 5
}
