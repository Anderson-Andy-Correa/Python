{
 "cells": [
  {
   "cell_type": "code",
   "execution_count": 20,
   "id": "ab1feaa0",
   "metadata": {},
   "outputs": [
    {
     "name": "stdout",
     "output_type": "stream",
     "text": [
      "Os números sorteados foram: 6 5 3 2 9 \n",
      "O maior valor sorteado foi: 9\n",
      "O menor valor sorteado foi: 2\n"
     ]
    }
   ],
   "source": [
    "#\n",
    "\n",
    "from random import randint\n",
    "\n",
    "tupla = (randint(0,10), randint(0,10), randint(0,10), randint(0,10), randint(0,10))\n",
    "menor = maior = cont = 0\n",
    "\n",
    "\n",
    "print('Os números sorteados foram: ', end='')\n",
    "for c in tupla:\n",
    "    print(c, end=' ')\n",
    "    cont += 1\n",
    "    if cont == 1:\n",
    "        menor = c\n",
    "        maior = c\n",
    "    else:\n",
    "        if maior < c:\n",
    "            maior = c\n",
    "        if menor > c:\n",
    "            menor = c\n",
    "            \n",
    "print(f'''\\nO maior valor sorteado foi: {maior}\n",
    "O menor valor sorteado foi: {menor}''')"
   ]
  },
  {
   "cell_type": "code",
   "execution_count": null,
   "id": "f6b17e54",
   "metadata": {},
   "outputs": [],
   "source": []
  }
 ],
 "metadata": {
  "kernelspec": {
   "display_name": "Python 3 (ipykernel)",
   "language": "python",
   "name": "python3"
  },
  "language_info": {
   "codemirror_mode": {
    "name": "ipython",
    "version": 3
   },
   "file_extension": ".py",
   "mimetype": "text/x-python",
   "name": "python",
   "nbconvert_exporter": "python",
   "pygments_lexer": "ipython3",
   "version": "3.9.7"
  }
 },
 "nbformat": 4,
 "nbformat_minor": 5
}
