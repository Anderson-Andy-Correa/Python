{
 "cells": [
  {
   "cell_type": "code",
   "execution_count": 28,
   "id": "3076464c",
   "metadata": {},
   "outputs": [
    {
     "name": "stdout",
     "output_type": "stream",
     "text": [
      "Qual é o seu número? 1834\n",
      "Analizando o número 1834\n",
      "Unidade: 4\n",
      "Dezena: 3\n",
      "Centena: 8\n",
      "Milhar: 1\n"
     ]
    }
   ],
   "source": [
    "num = int(input(\"Qual é o seu número? \"))\n",
    "#mi = int(num/1000)\n",
    "#cen = int(num/100-10*mi)\n",
    "#dez = int(num/10-10*cen-100*mi)\n",
    "#un = int(num-10*dez-100*cen-1000*mi)\n",
    "un = num // 1 % 10\n",
    "dez = num // 10 % 10\n",
    "cen = num // 100 % 10\n",
    "mi = num // 1000 % 10\n",
    "print(f\"\"\"Analizando o número {num}\n",
    "Unidade: {un}\n",
    "Dezena: {dez}\n",
    "Centena: {cen}\n",
    "Milhar: {mi}\"\"\")"
   ]
  },
  {
   "cell_type": "code",
   "execution_count": null,
   "id": "d04e9bb4",
   "metadata": {},
   "outputs": [],
   "source": []
  }
 ],
 "metadata": {
  "kernelspec": {
   "display_name": "Python 3 (ipykernel)",
   "language": "python",
   "name": "python3"
  },
  "language_info": {
   "codemirror_mode": {
    "name": "ipython",
    "version": 3
   },
   "file_extension": ".py",
   "mimetype": "text/x-python",
   "name": "python",
   "nbconvert_exporter": "python",
   "pygments_lexer": "ipython3",
   "version": "3.9.7"
  }
 },
 "nbformat": 4,
 "nbformat_minor": 5
}
