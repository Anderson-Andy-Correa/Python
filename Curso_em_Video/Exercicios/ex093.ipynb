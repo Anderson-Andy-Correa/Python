{
 "cells": [
  {
   "cell_type": "code",
   "execution_count": 10,
   "id": "648a7067",
   "metadata": {},
   "outputs": [
    {
     "name": "stdout",
     "output_type": "stream",
     "text": [
      "Nome: Joaquim\n",
      "Quantas partidas Joaquim jogou? 4\n",
      "Quantos gols na partida 0? 1\n",
      "Quantos gols na partida 1? 2\n",
      "Quantos gols na partida 2? 3\n",
      "Quantos gols na partida 3? 4\n",
      "-=-=-=-=-=-=-=-=-=-=-=-=-=-=-=-=-=-=-=-=-=-=-=-=-=-=-=-=-=-=\n",
      "{'nome': 'Joaquim', 'gols': [1, 2, 3, 4], 'total': 10}\n",
      "-=-=-=-=-=-=-=-=-=-=-=-=-=-=-=-=-=-=-=-=-=-=-=-=-=-=-=-=-=-=\n",
      "O campo nome tem o valor Joaquim.\n",
      "O campo gols tem o valor [1, 2, 3, 4].\n",
      "O campo total tem o valor 10.\n",
      "-=-=-=-=-=-=-=-=-=-=-=-=-=-=-=-=-=-=-=-=-=-=-=-=-=-=-=-=-=-=\n",
      "O jogador Joaquim jogou 4 partidas.\n",
      "    → Na partida 0, fez 1 gols\n",
      "    → Na partida 1, fez 2 gols\n",
      "    → Na partida 2, fez 3 gols\n",
      "    → Na partida 3, fez 4 gols\n",
      "Foi um total de 10 gols.\n",
      "-=-=-=-=-=-=-=-=-=-=-=-=-=-=-=-=-=-=-=-=-=-=-=-=-=-=-=-=-=-=\n"
     ]
    }
   ],
   "source": [
    "# Crie um programa que gerencie o aproveitamento de um jogador de futebol.\n",
    "# O programa vai ler o nome do jogador e quantas partidas ele jogou.\n",
    "# Depois vai ler a quantidade de gols feitos em cada partida. \n",
    "# No final, tudo isso será guardado em um dicionário, incluindo o total de gols feitos durante o campeonato.\n",
    "\n",
    "dic = dict()\n",
    "lista = list()\n",
    "dic['nome'] = input('Nome: ').strip().capitalize()\n",
    "partidas = int(input(f'Quantas partidas {dic[\"nome\"]} jogou? '))\n",
    "for g in range(0, partidas):\n",
    "    lista.append(int(input(f'Quantos gols na partida {g}? ')))\n",
    "    tot += lista[g]\n",
    "dic['gols'] = lista[:]\n",
    "dic['total'] = sum(lista)\n",
    "print('-='*30)\n",
    "print(dic)\n",
    "print('-='*30)\n",
    "for k, v in dic.items():\n",
    "    print(f'O campo {k} tem o valor {v}.')\n",
    "print('-='*30)\n",
    "print(f'O jogador {dic[\"nome\"]} jogou {partidas} partidas.')\n",
    "for g in range(0, partidas):\n",
    "    print(f'    → Na partida {g}, fez {dic[\"gols\"][g]} gols')\n",
    "print(f'Foi um total de {dic[\"total\"]} gols.')\n",
    "print('-='*30)"
   ]
  },
  {
   "cell_type": "code",
   "execution_count": null,
   "id": "217d0319",
   "metadata": {},
   "outputs": [],
   "source": []
  }
 ],
 "metadata": {
  "kernelspec": {
   "display_name": "Python 3 (ipykernel)",
   "language": "python",
   "name": "python3"
  },
  "language_info": {
   "codemirror_mode": {
    "name": "ipython",
    "version": 3
   },
   "file_extension": ".py",
   "mimetype": "text/x-python",
   "name": "python",
   "nbconvert_exporter": "python",
   "pygments_lexer": "ipython3",
   "version": "3.9.7"
  }
 },
 "nbformat": 4,
 "nbformat_minor": 5
}
