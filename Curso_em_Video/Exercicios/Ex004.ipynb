{
 "cells": [
  {
   "cell_type": "code",
   "execution_count": 8,
   "id": "67eb5310",
   "metadata": {},
   "outputs": [
    {
     "name": "stdout",
     "output_type": "stream",
     "text": [
      "Digite algo:  \n",
      "O tipo primitivo de   é: <class 'str'>\n",
      "Só tem espaços? True\n",
      "É um número? False\n",
      "É alfabeto? False\n",
      "É alfanumérico? False\n",
      "Está em maiúscula? False\n",
      "Está em minúscula? False\n",
      "Está Capitalizado? False\n",
      "\n"
     ]
    }
   ],
   "source": [
    "#Faça um programa que leia algo pelo teclado e mostre na tela o seu tipo primitivo e todas as informações possíveis sobre ele.\n",
    "Dig = input(\"Digite algo: \")\n",
    "print(f\"\"\"O tipo primitivo de {Dig} é: {type(Dig)}\n",
    "Só tem espaços? {Dig.isspace()}\n",
    "É um número? {Dig.isnumeric()}\n",
    "É alfabeto? {Dig.isalpha()}\n",
    "É alfanumérico? {Dig.isalnum()}\n",
    "Está em maiúscula? {Dig.isupper()}\n",
    "Está em minúscula? {Dig.islower()}\n",
    "Está Capitalizado? {Dig.istitle()}\n",
    "\"\"\")"
   ]
  },
  {
   "cell_type": "code",
   "execution_count": null,
   "id": "5101c8ef",
   "metadata": {},
   "outputs": [],
   "source": []
  },
  {
   "cell_type": "code",
   "execution_count": null,
   "id": "af3c5760",
   "metadata": {},
   "outputs": [],
   "source": [
    " "
   ]
  }
 ],
 "metadata": {
  "kernelspec": {
   "display_name": "Python 3 (ipykernel)",
   "language": "python",
   "name": "python3"
  },
  "language_info": {
   "codemirror_mode": {
    "name": "ipython",
    "version": 3
   },
   "file_extension": ".py",
   "mimetype": "text/x-python",
   "name": "python",
   "nbconvert_exporter": "python",
   "pygments_lexer": "ipython3",
   "version": "3.9.7"
  }
 },
 "nbformat": 4,
 "nbformat_minor": 5
}
