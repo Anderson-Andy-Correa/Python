{
 "cells": [
  {
   "cell_type": "code",
   "execution_count": 29,
   "id": "437c1926",
   "metadata": {},
   "outputs": [
    {
     "name": "stdout",
     "output_type": "stream",
     "text": [
      "Contagem de 0 até 10 de 1 em 1\n",
      "0 → 1 → 2 → 3 → 4 → 5 → 6 → 7 → 8 → 9 → 10 → FIM!\n",
      "=-=-=-=-=-=-=-=-=-=-=-=-=-=-=-=-=-=-=-=-=-=-=-=-=-=-=-=-=-=-\n",
      "Contagem de 10 até 0 de 2 em 2\n",
      "10 → 8 → 6 → 4 → 2 → 0 → FIM!\n",
      "=-=-=-=-=-=-=-=-=-=-=-=-=-=-=-=-=-=-=-=-=-=-=-=-=-=-=-=-=-=-\n",
      "Agora é a sua vez de personalizar a contagem!\n",
      "Início: 10\n",
      "Fim:    5\n",
      "Passo:  -2\n",
      "Contagem de 10 até 5 de 2 em 2\n",
      "10 → 8 → 6 → FIM!\n",
      "=-=-=-=-=-=-=-=-=-=-=-=-=-=-=-=-=-=-=-=-=-=-=-=-=-=-=-=-=-=-\n"
     ]
    }
   ],
   "source": [
    "# Faça um programa que tenha uma função chamada contador(), que receba três parâmetros: início, fim e passo.\n",
    "# Seu programa tem que realizar três contagens através da função criada:\n",
    "# a) de 1 até 10, de 1 em 1\n",
    "# b) de 10 até 0, de 2 em 2\n",
    "# c) uma contagem personalizada\n",
    "\n",
    "from time import sleep\n",
    "\n",
    "def contador(inicio, fim, passo):\n",
    "    if passo == 0:\n",
    "        passo = 1\n",
    "    elif passo < 0:\n",
    "        passo *= -1\n",
    "    print(f'Contagem de {inicio} até {fim} de {passo} em {passo}')\n",
    "    if inicio < fim:\n",
    "        for n in range(inicio, fim+1, passo):\n",
    "            print(n, end=' → ', flush=True)\n",
    "            sleep(0.25)\n",
    "        print('FIM!')\n",
    "        print('=-'*30)\n",
    "    elif inicio > fim:\n",
    "        for n in range(inicio, fim-1, -passo):\n",
    "            print(n, end=' → ', flush=True)\n",
    "            sleep(0.25)\n",
    "        print('FIM!')\n",
    "        print('=-'*30)\n",
    "\n",
    "\n",
    "contador(0, 10, 1)\n",
    "\n",
    "contador(10, 0, 2)\n",
    "\n",
    "print('Agora é a sua vez de personalizar a contagem!')\n",
    "\n",
    "contador(int(input(f'{\"Início: \":<8}')),\n",
    "         int(input(f'{\"Fim: \":<8}')),\n",
    "         int(input(f'{\"Passo: \":<8}')))"
   ]
  },
  {
   "cell_type": "code",
   "execution_count": null,
   "id": "a9e5805e",
   "metadata": {},
   "outputs": [],
   "source": []
  }
 ],
 "metadata": {
  "kernelspec": {
   "display_name": "Python 3 (ipykernel)",
   "language": "python",
   "name": "python3"
  },
  "language_info": {
   "codemirror_mode": {
    "name": "ipython",
    "version": 3
   },
   "file_extension": ".py",
   "mimetype": "text/x-python",
   "name": "python",
   "nbconvert_exporter": "python",
   "pygments_lexer": "ipython3",
   "version": "3.9.7"
  }
 },
 "nbformat": 4,
 "nbformat_minor": 5
}
