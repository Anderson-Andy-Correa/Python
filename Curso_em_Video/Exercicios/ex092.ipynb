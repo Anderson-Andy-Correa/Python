{
 "cells": [
  {
   "cell_type": "code",
   "execution_count": 43,
   "id": "337b6d35",
   "metadata": {
    "scrolled": true
   },
   "outputs": [
    {
     "name": "stdout",
     "output_type": "stream",
     "text": [
      "Nome: dfg\n",
      "Data de Nascimento: 1998\n",
      "Carteira de Trabalho (0 não tem): 1\n",
      "Ano de Contratação: 2010\n",
      "Salário: R$ 100\n",
      "-=-=-=-=-=-=-=-=-=-=-=-=-=-=-=-=-=-=-=-=-=-=-=-=-=-=-=-=-=-=\n",
      "    → nome tem o valor Dfg\n",
      "    → idade tem o valor 24\n",
      "    → ctps tem o valor 1\n",
      "    → contratação tem o valor 2010\n",
      "    → salário tem o valor 100.0\n",
      "    → aposentadoria tem o valor 47\n"
     ]
    }
   ],
   "source": [
    "# Crie um programa que leia nome, ano de nascimento e carteira de trabalho e cadastre-o (com idade) em um dicionário.\n",
    "# Se por acaso a CTPS for diferente de ZERO, o dicionário receberá também o ano de contratação e o salário.\n",
    "# Calcule e acrescente, além da idade, com quantos anos a pessoa vai se aposentar.\n",
    "\n",
    "from datetime import date\n",
    "\n",
    "dic = dict()\n",
    "dic['nome'] = input('Nome: ').strip().capitalize()\n",
    "dic['idade'] = (date.today().year) - int(input('Data de Nascimento: '))\n",
    "dic['ctps'] = int(input('Carteira de Trabalho (0 não tem): '))\n",
    "if dic['ctps'] != 0:\n",
    "    dic['contratação'] = int(input('Ano de Contratação: '))\n",
    "    dic['salário'] = float(input('Salário: R$ '))\n",
    "    dic['aposentadoria'] = dic['contratação'] + 35 - (date.today().year - dic['idade'])\n",
    "print('-='*30)\n",
    "for k, v in dic.items():\n",
    "    print(f'    → {k} tem o valor {v}')\n"
   ]
  },
  {
   "cell_type": "code",
   "execution_count": null,
   "id": "f8df4296",
   "metadata": {},
   "outputs": [],
   "source": []
  }
 ],
 "metadata": {
  "kernelspec": {
   "display_name": "Python 3 (ipykernel)",
   "language": "python",
   "name": "python3"
  },
  "language_info": {
   "codemirror_mode": {
    "name": "ipython",
    "version": 3
   },
   "file_extension": ".py",
   "mimetype": "text/x-python",
   "name": "python",
   "nbconvert_exporter": "python",
   "pygments_lexer": "ipython3",
   "version": "3.9.7"
  }
 },
 "nbformat": 4,
 "nbformat_minor": 5
}
