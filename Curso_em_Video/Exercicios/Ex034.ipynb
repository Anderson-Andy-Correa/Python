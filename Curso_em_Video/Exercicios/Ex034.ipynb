{
 "cells": [
  {
   "cell_type": "code",
   "execution_count": 1,
   "id": "68008619",
   "metadata": {},
   "outputs": [
    {
     "name": "stdout",
     "output_type": "stream",
     "text": [
      "Qual é o salário do funcionário? R$123\n",
      "Quem ganhava R$123.00 passa a genhar R$141.45 agora.\n"
     ]
    }
   ],
   "source": [
    "#Desenvolva um programa que leia o comprimento de três retas e diga ao usuário se elas podem ou não formar um triângulo.\n",
    "\n",
    "sal = float(input(\"Qual é o salário do funcionário? R$\"))\n",
    "if sal > 1250:\n",
    "    new = sal*1.10\n",
    "else:\n",
    "    new = sal*1.15\n",
    "print(f'Quem ganhava R${sal:,.2f} passa a genhar R${new:,.2f} agora.')"
   ]
  },
  {
   "cell_type": "code",
   "execution_count": null,
   "id": "a8b09f67",
   "metadata": {},
   "outputs": [],
   "source": []
  }
 ],
 "metadata": {
  "kernelspec": {
   "display_name": "Python 3 (ipykernel)",
   "language": "python",
   "name": "python3"
  },
  "language_info": {
   "codemirror_mode": {
    "name": "ipython",
    "version": 3
   },
   "file_extension": ".py",
   "mimetype": "text/x-python",
   "name": "python",
   "nbconvert_exporter": "python",
   "pygments_lexer": "ipython3",
   "version": "3.9.7"
  }
 },
 "nbformat": 4,
 "nbformat_minor": 5
}
