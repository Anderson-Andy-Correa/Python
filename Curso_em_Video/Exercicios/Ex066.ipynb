{
 "cells": [
  {
   "cell_type": "code",
   "execution_count": 3,
   "id": "b41257ad",
   "metadata": {},
   "outputs": [
    {
     "name": "stdout",
     "output_type": "stream",
     "text": [
      "Digite um número (999 para parar): 4\n",
      "Digite um número (999 para parar): 3\n",
      "Digite um número (999 para parar): 5\n",
      "Digite um número (999 para parar): 999\n",
      "A soma de 3 valores é 12.\n"
     ]
    }
   ],
   "source": [
    "#\n",
    "\n",
    "n = soma = cont = 0\n",
    "\n",
    "while True:\n",
    "    n = int(input('Digite um número (999 para parar): '))\n",
    "    if n == 999:\n",
    "        break\n",
    "    soma += n\n",
    "    cont += 1\n",
    "print(f'A soma de {cont} valores é {soma}!')\n",
    "    "
   ]
  },
  {
   "cell_type": "code",
   "execution_count": null,
   "id": "7bbee7a6",
   "metadata": {},
   "outputs": [],
   "source": []
  }
 ],
 "metadata": {
  "kernelspec": {
   "display_name": "Python 3 (ipykernel)",
   "language": "python",
   "name": "python3"
  },
  "language_info": {
   "codemirror_mode": {
    "name": "ipython",
    "version": 3
   },
   "file_extension": ".py",
   "mimetype": "text/x-python",
   "name": "python",
   "nbconvert_exporter": "python",
   "pygments_lexer": "ipython3",
   "version": "3.9.7"
  }
 },
 "nbformat": 4,
 "nbformat_minor": 5
}
