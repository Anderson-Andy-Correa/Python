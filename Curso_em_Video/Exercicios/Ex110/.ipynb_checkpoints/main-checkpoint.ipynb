{
 "cells": [
  {
   "cell_type": "code",
   "execution_count": 1,
   "id": "009d14e1",
   "metadata": {},
   "outputs": [
    {
     "name": "stdout",
     "output_type": "stream",
     "text": [
      "Digite um preço: R$558\n",
      "Possui aumento? (apenas números) 20\n",
      "Possui desconto? (apenas números) 12\n",
      "------------------------------\n",
      "       RESUMO DO VALOR        \n",
      "------------------------------\n",
      "Preço analisado:    R$558,00\n",
      "Dobro do preço:     R$1116,00\n",
      "Metade do preço:    R$279,00\n",
      "20% de aumento:     R$669,60\n",
      "12% de redução:     R$491,04\n",
      "------------------------------\n"
     ]
    }
   ],
   "source": [
    "# Adicione o módulo moeda.py criado nos desafios anteriores, uma função chamada resumo(), que mostre na tela algumas informações geradas pelas funções que já temos no módulo criado até aqui.\n",
    "\n",
    "from moeda import *\n",
    "\n",
    "certo = False\n",
    "\n",
    "while True:\n",
    "    try:\n",
    "        p = float(input(\"Digite um preço: R$\"))\n",
    "        if p > 0:\n",
    "            certo = True\n",
    "        else:\n",
    "            print('O preço precisa ser maior de 0.')\n",
    "    except:\n",
    "        print(\"Por favor, use apenas números.\")\n",
    "    if certo == True:\n",
    "        break\n",
    "        \n",
    "certo = False\n",
    "\n",
    "while True:\n",
    "    try:\n",
    "        aumento = int(input(\"Possui aumento? (apenas números) \"))\n",
    "        if aumento >= 0:\n",
    "            certo = True\n",
    "        else:\n",
    "            print('O aumento precisa ser maior ou igual a 0.')\n",
    "    except:\n",
    "        print(\"Por favor, use apenas números.\")\n",
    "    if certo == True:\n",
    "        break\n",
    "        \n",
    "certo = False\n",
    "\n",
    "while True:\n",
    "    try:\n",
    "        desconto = int(input(\"Possui desconto? (apenas números) \"))\n",
    "        if desconto >= 0:\n",
    "            certo = True\n",
    "        else:\n",
    "            print('O aumento precisa ser maior ou igual a 0.')\n",
    "    except:\n",
    "        print(\"Por favor, use apenas números.\")\n",
    "    if certo == True:\n",
    "        break\n",
    "\n",
    "resumo(p, aumento, desconto)"
   ]
  }
 ],
 "metadata": {
  "kernelspec": {
   "display_name": "Python 3 (ipykernel)",
   "language": "python",
   "name": "python3"
  },
  "language_info": {
   "codemirror_mode": {
    "name": "ipython",
    "version": 3
   },
   "file_extension": ".py",
   "mimetype": "text/x-python",
   "name": "python",
   "nbconvert_exporter": "python",
   "pygments_lexer": "ipython3",
   "version": "3.9.7"
  }
 },
 "nbformat": 4,
 "nbformat_minor": 5
}
