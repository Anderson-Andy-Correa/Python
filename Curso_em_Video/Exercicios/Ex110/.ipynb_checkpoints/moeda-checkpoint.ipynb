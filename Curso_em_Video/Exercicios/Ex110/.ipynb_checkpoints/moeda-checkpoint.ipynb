{
 "cells": [
  {
   "cell_type": "code",
   "execution_count": 12,
   "id": "c7ffec74",
   "metadata": {},
   "outputs": [],
   "source": [
    "def metade(n=0, show=False):\n",
    "    if show == False:\n",
    "        return n / 2\n",
    "    else:\n",
    "        return estrutura(n / 2)\n",
    "\n",
    "\n",
    "def dobro(n=0, show=False):\n",
    "    if show == False:\n",
    "        return n * 2\n",
    "    else:\n",
    "        return estrutura(n * 2)\n",
    "    \n",
    "\n",
    "def aumentar(n=0, more=0, show=False):\n",
    "    if show == False:\n",
    "        return n * (more / 100 + 1)\n",
    "    else:\n",
    "        return estrutura(n * (more / 100 + 1))\n",
    "    \n",
    "\n",
    "def diminuir(n=0, minus=0, show=False):\n",
    "    if show == False:\n",
    "        return n * (1 - minus / 100)\n",
    "    else:\n",
    "        return estrutura(n * (1 - minus / 100))\n",
    "    \n",
    "\n",
    "def estrutura(n=0, moeda='R$'):\n",
    "    return f\"{moeda}{n:.2f}\".replace('.',',')\n",
    "\n",
    "\n",
    "def resumo(n=0, aumento=0, redução=0):\n",
    "    print('-'*30)\n",
    "    print(f\"{'RESUMO DO VALOR':^30}\")\n",
    "    print('-'*30)\n",
    "    print(f\"{'Preço analisado:':<19}\", estrutura(n))\n",
    "    print(f\"{'Dobro do preço:':<19}\", dobro(n, True))\n",
    "    print(f\"{'Metade do preço:':<19}\", metade(n, True))\n",
    "    if aumento > 0:\n",
    "        print(f\"{f'{aumento}% de aumento:':<19}\", aumentar(n, aumento, True))\n",
    "    if redução > 0:\n",
    "        print(f\"{f'{redução}% de redução:':<19}\", diminuir(n, redução, True))\n",
    "    print('-'*30)"
   ]
  }
 ],
 "metadata": {
  "kernelspec": {
   "display_name": "Python 3 (ipykernel)",
   "language": "python",
   "name": "python3"
  },
  "language_info": {
   "codemirror_mode": {
    "name": "ipython",
    "version": 3
   },
   "file_extension": ".py",
   "mimetype": "text/x-python",
   "name": "python",
   "nbconvert_exporter": "python",
   "pygments_lexer": "ipython3",
   "version": "3.9.7"
  }
 },
 "nbformat": 4,
 "nbformat_minor": 5
}
