{
 "cells": [
  {
   "cell_type": "code",
   "execution_count": 2,
   "id": "c7ffec74",
   "metadata": {},
   "outputs": [],
   "source": [
    "def leiaDinheiro(n):\n",
    "    \"\"\"\n",
    "    →Analisa e valida se o valor informado pode ser lido como um valor flutuante.\n",
    "    :param n: o valor a ser validado.\n",
    "    :return: o valor já convertido no formato flutuante.\n",
    "    \"\"\"\n",
    "    while True:\n",
    "        n = input(\"Digite o preço: R$\").strip().replace(\",\", \".\")\n",
    "        if n.find(\".\") > -1 and int(n[:n.find(\".\")]) > 0:\n",
    "            break\n",
    "        elif n.isnumeric() == True and float(n) > 0:\n",
    "            break\n",
    "        else:\n",
    "            print(f'\\033[31mERRO! \"{n}\" é um preço inválido.\\033[m')\n",
    "    return float(n)\n",
    "\n",
    "\n",
    "def leiaPorcentagem(n):\n",
    "    \"\"\"\n",
    "    →Analisa e valida se o valor informado pode ser lido como um valor flutuante de porcertagem.\n",
    "    :param n: o valor a ser validado.\n",
    "    :return: o valor já convertido no formato flutuante.\n",
    "    \"\"\"\n",
    "    msg = n\n",
    "    while True:\n",
    "        print(f\"Digite a porcentagem de {msg}: \", end=\"\")\n",
    "        n = input(\"\").strip().replace(\",\", \".\")\n",
    "        if n.find(\".\") > -1 and int(n[:n.find(\".\")]) > 1:\n",
    "            break\n",
    "        elif n.isnumeric() == True and float(n) > -1:\n",
    "            break\n",
    "        else:\n",
    "            print(f'\\033[31mERRO! \"{n}\" é um valor inválido.\\033[m')\n",
    "    return float(n)"
   ]
  }
 ],
 "metadata": {
  "kernelspec": {
   "display_name": "Python 3 (ipykernel)",
   "language": "python",
   "name": "python3"
  },
  "language_info": {
   "codemirror_mode": {
    "name": "ipython",
    "version": 3
   },
   "file_extension": ".py",
   "mimetype": "text/x-python",
   "name": "python",
   "nbconvert_exporter": "python",
   "pygments_lexer": "ipython3",
   "version": "3.9.7"
  }
 },
 "nbformat": 4,
 "nbformat_minor": 5
}
