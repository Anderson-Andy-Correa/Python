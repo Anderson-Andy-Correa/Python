{
 "cells": [
  {
   "cell_type": "code",
   "execution_count": null,
   "id": "009d14e1",
   "metadata": {},
   "outputs": [
    {
     "name": "stdout",
     "output_type": "stream",
     "text": [
      "Digite o preço: R$5j\n",
      "\u001b[31mERRO! \"5j\" é um preço inválido.\u001b[m\n"
     ]
    }
   ],
   "source": [
    "# Dentro do pacote utilidadesCeV que criamos no desafio 111, temos um módulo chamado dado. \n",
    "# Crie uma função chamada leiaDinheiro() que seja capaz de funcionar como a função imputa(), mas com uma validação de dados para aceitar apenas valores que seja monetários.\n",
    "\n",
    "from utilidadesCeV import moeda\n",
    "from utilidadesCeV import dado\n",
    "\n",
    "\n",
    "p = dado.leiaDinheiro(\"\")\n",
    "aumento = dado.leiaPorcentagem(\"aumento\")\n",
    "desconto = dado.leiaPorcentagem(\"desconto\")\n",
    "\n",
    "moeda.resumo(p, aumento, desconto)"
   ]
  }
 ],
 "metadata": {
  "kernelspec": {
   "display_name": "Python 3 (ipykernel)",
   "language": "python",
   "name": "python3"
  },
  "language_info": {
   "codemirror_mode": {
    "name": "ipython",
    "version": 3
   },
   "file_extension": ".py",
   "mimetype": "text/x-python",
   "name": "python",
   "nbconvert_exporter": "python",
   "pygments_lexer": "ipython3",
   "version": "3.9.7"
  }
 },
 "nbformat": 4,
 "nbformat_minor": 5
}
